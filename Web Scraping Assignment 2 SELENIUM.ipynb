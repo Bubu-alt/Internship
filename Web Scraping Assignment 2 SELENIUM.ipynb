{
 "cells": [
  {
   "cell_type": "code",
   "execution_count": 9,
   "id": "967ad8b9",
   "metadata": {},
   "outputs": [],
   "source": [
    "import selenium\n",
    "import pandas as pd\n",
    "from selenium import webdriver "
   ]
  },
  {
   "cell_type": "code",
   "execution_count": 10,
   "id": "9d7914c7",
   "metadata": {},
   "outputs": [],
   "source": [
    "chrome_driver = r'C:\\Users\\Lenovo\\Downloads\\chromedriver_win32\\chromedriver.exe'"
   ]
  },
  {
   "cell_type": "code",
   "execution_count": 4,
   "id": "15db981e",
   "metadata": {},
   "outputs": [
    {
     "name": "stderr",
     "output_type": "stream",
     "text": [
      "<ipython-input-4-9fcf2ff2676d>:1: DeprecationWarning: executable_path has been deprecated, please pass in a Service object\n",
      "  driver = webdriver.Chrome(chrome_driver)\n"
     ]
    }
   ],
   "source": [
    "driver = webdriver.Chrome(chrome_driver)\n",
    "driver.get('https://www.naukri.com/')"
   ]
  },
  {
   "cell_type": "markdown",
   "id": "e0f66f89",
   "metadata": {},
   "source": [
    "Q.1: Q1: Write a python program to scrape data for “Data Analyst” Job position in “Bangalore” location. You\n",
    "have to scrape the job-title, job-location, company_name, experience_required. You have to scrape first 10\n",
    "jobs data.\n",
    "This task will be done in following steps:\n",
    "1. First get the webpage https://www.naukri.com/\n",
    "2. Enter “Data Analyst” in “Skill, Designations, Companies” field and enter “Bangalore” in “enter the\n",
    "location” field.\n",
    "3. Then click the search button.\n",
    "4. Then scrape the data for the first 10 jobs results you get.\n",
    "5. Finally create a dataframe of the scraped data."
   ]
  },
  {
   "cell_type": "code",
   "execution_count": 5,
   "id": "82167862",
   "metadata": {},
   "outputs": [
    {
     "name": "stderr",
     "output_type": "stream",
     "text": [
      "<ipython-input-5-69e17b9ca701>:1: DeprecationWarning: find_element_by_* commands are deprecated. Please use find_element() instead\n",
      "  search_job = driver.find_element_by_id('qsb-keyword-sugg')\n",
      "<ipython-input-5-69e17b9ca701>:3: DeprecationWarning: find_element_by_* commands are deprecated. Please use find_element() instead\n",
      "  search_loc = driver.find_element_by_xpath('//input[@id=\"qsb-location-sugg\"]')\n"
     ]
    }
   ],
   "source": [
    "search_job = driver.find_element_by_id('qsb-keyword-sugg')\n",
    "search_job.send_keys('Data Analyst')\n",
    "search_loc = driver.find_element_by_xpath('//input[@id=\"qsb-location-sugg\"]')\n",
    "search_loc.send_keys('Bangalore')"
   ]
  },
  {
   "cell_type": "code",
   "execution_count": 6,
   "id": "22ee44f1",
   "metadata": {},
   "outputs": [
    {
     "name": "stderr",
     "output_type": "stream",
     "text": [
      "<ipython-input-6-bf676ae9bf34>:1: DeprecationWarning: find_element_by_* commands are deprecated. Please use find_element() instead\n",
      "  search_btn = driver.find_element_by_xpath('//div[@class=\"search-btn\"]')\n"
     ]
    }
   ],
   "source": [
    "search_btn = driver.find_element_by_xpath('//div[@class=\"search-btn\"]')\n",
    "search_btn.click()"
   ]
  },
  {
   "cell_type": "code",
   "execution_count": 6,
   "id": "e9057527",
   "metadata": {},
   "outputs": [],
   "source": [
    "url = 'https://www.naukri.com/data-analyst-jobs-in-bangalore?k=data%20analyst&l=bangalore'"
   ]
  },
  {
   "cell_type": "code",
   "execution_count": 7,
   "id": "ecff6bae",
   "metadata": {},
   "outputs": [],
   "source": [
    "driver.get(url)"
   ]
  },
  {
   "cell_type": "code",
   "execution_count": 22,
   "id": "891ee4f2",
   "metadata": {},
   "outputs": [],
   "source": [
    "titles = []\n",
    "cnames = []\n",
    "locs = []\n",
    "exps = []"
   ]
  },
  {
   "cell_type": "code",
   "execution_count": 23,
   "id": "17cbdc87",
   "metadata": {
    "collapsed": true
   },
   "outputs": [
    {
     "name": "stderr",
     "output_type": "stream",
     "text": [
      "<ipython-input-23-4756e4ce26db>:1: DeprecationWarning: find_elements_by_* commands are deprecated. Please use find_elements() instead\n",
      "  title_tags = driver.find_elements_by_xpath(\"//a[@class='title fw500 ellipsis']\")\n"
     ]
    },
    {
     "data": {
      "text/plain": [
       "[<selenium.webdriver.remote.webelement.WebElement (session=\"90a14411d7e5550ac9b0936e7dab7752\", element=\"1ff80978-fbc0-4ca9-9a45-8beb8e32b723\")>,\n",
       " <selenium.webdriver.remote.webelement.WebElement (session=\"90a14411d7e5550ac9b0936e7dab7752\", element=\"5f805ed0-59ee-46ed-afb0-38f38c50f4f1\")>,\n",
       " <selenium.webdriver.remote.webelement.WebElement (session=\"90a14411d7e5550ac9b0936e7dab7752\", element=\"6c6267dd-bb2c-4b88-9532-6363e689f30b\")>,\n",
       " <selenium.webdriver.remote.webelement.WebElement (session=\"90a14411d7e5550ac9b0936e7dab7752\", element=\"8c2a0bb8-63c5-446d-9d09-2c35b6a7efd7\")>,\n",
       " <selenium.webdriver.remote.webelement.WebElement (session=\"90a14411d7e5550ac9b0936e7dab7752\", element=\"ffb5c18b-f404-40d0-bd53-904cd2340549\")>,\n",
       " <selenium.webdriver.remote.webelement.WebElement (session=\"90a14411d7e5550ac9b0936e7dab7752\", element=\"35ca1808-33d7-41f0-ac84-be8591943b2e\")>,\n",
       " <selenium.webdriver.remote.webelement.WebElement (session=\"90a14411d7e5550ac9b0936e7dab7752\", element=\"2eb29123-679d-40b8-b23b-ba9a986e11a1\")>,\n",
       " <selenium.webdriver.remote.webelement.WebElement (session=\"90a14411d7e5550ac9b0936e7dab7752\", element=\"217c605e-5ae5-456d-b194-ac40ee6a13b9\")>,\n",
       " <selenium.webdriver.remote.webelement.WebElement (session=\"90a14411d7e5550ac9b0936e7dab7752\", element=\"0506c795-d931-4178-855a-ab5c496ca6e7\")>,\n",
       " <selenium.webdriver.remote.webelement.WebElement (session=\"90a14411d7e5550ac9b0936e7dab7752\", element=\"fcb8344f-83b0-482b-b081-9e329cf9313d\")>]"
      ]
     },
     "execution_count": 23,
     "metadata": {},
     "output_type": "execute_result"
    }
   ],
   "source": [
    "title_tags = driver.find_elements_by_xpath(\"//a[@class='title fw500 ellipsis']\")\n",
    "title_tags[0 : 10]"
   ]
  },
  {
   "cell_type": "code",
   "execution_count": 24,
   "id": "c3ab35a2",
   "metadata": {
    "collapsed": true
   },
   "outputs": [
    {
     "data": {
      "text/plain": [
       "['Data Analyst - Flipkart Analytics',\n",
       " 'Urgent Openings For Data Analyst / Business Analyst',\n",
       " 'Business Data Analyst(BigId) - Capco - Bangalore',\n",
       " 'Business Data Analyst - Database Design/Mining',\n",
       " 'Data Analyst',\n",
       " 'Data Analyst',\n",
       " 'Data Analyst',\n",
       " 'Senior Data Analyst',\n",
       " 'Lead / Senior Data Analyst',\n",
       " 'Business Data Analyst']"
      ]
     },
     "execution_count": 24,
     "metadata": {},
     "output_type": "execute_result"
    }
   ],
   "source": [
    "for i in title_tags:\n",
    "    title = i.text\n",
    "    titles.append(title)\n",
    "titles[0 : 10]"
   ]
  },
  {
   "cell_type": "code",
   "execution_count": 25,
   "id": "b9586648",
   "metadata": {
    "collapsed": true
   },
   "outputs": [
    {
     "name": "stderr",
     "output_type": "stream",
     "text": [
      "<ipython-input-25-8ab488785a72>:1: DeprecationWarning: find_elements_by_* commands are deprecated. Please use find_elements() instead\n",
      "  cname_tags = driver.find_elements_by_xpath(\"//a[@class='subTitle ellipsis fleft']\")\n"
     ]
    },
    {
     "data": {
      "text/plain": [
       "[<selenium.webdriver.remote.webelement.WebElement (session=\"90a14411d7e5550ac9b0936e7dab7752\", element=\"860a223f-8151-4eda-87d2-afe127a1ff42\")>,\n",
       " <selenium.webdriver.remote.webelement.WebElement (session=\"90a14411d7e5550ac9b0936e7dab7752\", element=\"bda87910-8b66-4ef1-8b42-205ab2bd18cd\")>,\n",
       " <selenium.webdriver.remote.webelement.WebElement (session=\"90a14411d7e5550ac9b0936e7dab7752\", element=\"6f67c778-2a71-402e-90ec-27ce1104ac1e\")>,\n",
       " <selenium.webdriver.remote.webelement.WebElement (session=\"90a14411d7e5550ac9b0936e7dab7752\", element=\"f3a5e1c7-aee0-4ddd-b5b0-e0c446f3d629\")>,\n",
       " <selenium.webdriver.remote.webelement.WebElement (session=\"90a14411d7e5550ac9b0936e7dab7752\", element=\"c1b2486e-701e-44c4-80f1-78518a9c29fa\")>,\n",
       " <selenium.webdriver.remote.webelement.WebElement (session=\"90a14411d7e5550ac9b0936e7dab7752\", element=\"2d4accc3-3df8-459c-abd3-b91677ad2f74\")>,\n",
       " <selenium.webdriver.remote.webelement.WebElement (session=\"90a14411d7e5550ac9b0936e7dab7752\", element=\"f676b4c3-548c-4ba0-bcc2-0155acd4e526\")>,\n",
       " <selenium.webdriver.remote.webelement.WebElement (session=\"90a14411d7e5550ac9b0936e7dab7752\", element=\"51b783bc-cd07-4bd4-b2a7-3e1909034540\")>,\n",
       " <selenium.webdriver.remote.webelement.WebElement (session=\"90a14411d7e5550ac9b0936e7dab7752\", element=\"b286e876-9a10-4d3c-a55b-37e418efd69f\")>,\n",
       " <selenium.webdriver.remote.webelement.WebElement (session=\"90a14411d7e5550ac9b0936e7dab7752\", element=\"488b13ee-15f0-4f7f-8a7b-fabeb3a53da5\")>]"
      ]
     },
     "execution_count": 25,
     "metadata": {},
     "output_type": "execute_result"
    }
   ],
   "source": [
    "cname_tags = driver.find_elements_by_xpath(\"//a[@class='subTitle ellipsis fleft']\")\n",
    "cname_tags[0 : 10]"
   ]
  },
  {
   "cell_type": "code",
   "execution_count": 26,
   "id": "ab0f229e",
   "metadata": {
    "collapsed": true
   },
   "outputs": [
    {
     "data": {
      "text/plain": [
       "['Flipkart',\n",
       " 'Flipkart',\n",
       " 'Capco Technologies Pvt Ltd',\n",
       " 'AugmatrixGo',\n",
       " 'Applied Materials',\n",
       " 'Shell',\n",
       " 'Shell',\n",
       " 'Pioneer Business Solutions',\n",
       " 'EVERGREEN COMMUNITY PRIVATE LIMITED',\n",
       " 'NetApp']"
      ]
     },
     "execution_count": 26,
     "metadata": {},
     "output_type": "execute_result"
    }
   ],
   "source": [
    "for i in cname_tags:\n",
    "    c = i.text\n",
    "    cnames.append(c)\n",
    "cnames[0 : 10]"
   ]
  },
  {
   "cell_type": "code",
   "execution_count": 27,
   "id": "a2a6d0ce",
   "metadata": {
    "collapsed": true
   },
   "outputs": [
    {
     "name": "stderr",
     "output_type": "stream",
     "text": [
      "<ipython-input-27-b070ddefdfbe>:1: DeprecationWarning: find_elements_by_* commands are deprecated. Please use find_elements() instead\n",
      "  loc_tags = driver.find_elements_by_xpath(\"//li[@class='fleft grey-text br2 placeHolderLi location']/span[1]\")\n"
     ]
    },
    {
     "data": {
      "text/plain": [
       "[<selenium.webdriver.remote.webelement.WebElement (session=\"90a14411d7e5550ac9b0936e7dab7752\", element=\"c301d1a1-edf1-4702-936e-09c1c71d6834\")>,\n",
       " <selenium.webdriver.remote.webelement.WebElement (session=\"90a14411d7e5550ac9b0936e7dab7752\", element=\"6841d9b2-5609-444b-8339-464198ef3050\")>,\n",
       " <selenium.webdriver.remote.webelement.WebElement (session=\"90a14411d7e5550ac9b0936e7dab7752\", element=\"419b47a0-03b9-4d24-b0ba-6a7e954430e5\")>,\n",
       " <selenium.webdriver.remote.webelement.WebElement (session=\"90a14411d7e5550ac9b0936e7dab7752\", element=\"86069732-9389-41ef-81b5-911c55319d1e\")>,\n",
       " <selenium.webdriver.remote.webelement.WebElement (session=\"90a14411d7e5550ac9b0936e7dab7752\", element=\"7b919e66-0ba7-4597-abcd-1ae9d8f1ee3a\")>,\n",
       " <selenium.webdriver.remote.webelement.WebElement (session=\"90a14411d7e5550ac9b0936e7dab7752\", element=\"e839c64a-f0b0-48da-bbc3-276fc053f3fd\")>,\n",
       " <selenium.webdriver.remote.webelement.WebElement (session=\"90a14411d7e5550ac9b0936e7dab7752\", element=\"05569a47-7534-41e6-9f62-19f8b74a7944\")>,\n",
       " <selenium.webdriver.remote.webelement.WebElement (session=\"90a14411d7e5550ac9b0936e7dab7752\", element=\"fe135c39-08ca-4d5d-8f26-df21cb35f0d8\")>,\n",
       " <selenium.webdriver.remote.webelement.WebElement (session=\"90a14411d7e5550ac9b0936e7dab7752\", element=\"2706d417-a321-4c93-b431-96cf4421d412\")>,\n",
       " <selenium.webdriver.remote.webelement.WebElement (session=\"90a14411d7e5550ac9b0936e7dab7752\", element=\"d0f691be-8ef0-4c1f-818d-ee1ff0c185d6\")>]"
      ]
     },
     "execution_count": 27,
     "metadata": {},
     "output_type": "execute_result"
    }
   ],
   "source": [
    "loc_tags = driver.find_elements_by_xpath(\"//li[@class='fleft grey-text br2 placeHolderLi location']/span[1]\")\n",
    "loc_tags[0 : 10]"
   ]
  },
  {
   "cell_type": "code",
   "execution_count": 28,
   "id": "1508172f",
   "metadata": {
    "collapsed": true
   },
   "outputs": [
    {
     "data": {
      "text/plain": [
       "['Bangalore/Bengaluru(Bellandur)',\n",
       " 'Bangalore/Bengaluru',\n",
       " 'Bangalore/Bengaluru',\n",
       " 'Bangalore/Bengaluru',\n",
       " 'Bangalore/Bengaluru',\n",
       " 'Bangalore/Bengaluru',\n",
       " 'Bangalore/Bengaluru',\n",
       " 'Bangalore/Bengaluru',\n",
       " 'Bangalore/Bengaluru',\n",
       " 'Bangalore/Bengaluru']"
      ]
     },
     "execution_count": 28,
     "metadata": {},
     "output_type": "execute_result"
    }
   ],
   "source": [
    "for i in loc_tags:\n",
    "    l = i.text\n",
    "    locs.append(l)\n",
    "locs[0 : 10]"
   ]
  },
  {
   "cell_type": "code",
   "execution_count": 16,
   "id": "4601cf77",
   "metadata": {
    "collapsed": true
   },
   "outputs": [
    {
     "name": "stderr",
     "output_type": "stream",
     "text": [
      "<ipython-input-16-4e0f40683b3a>:1: DeprecationWarning: find_elements_by_* commands are deprecated. Please use find_elements() instead\n",
      "  exp_tags = driver.find_elements_by_xpath(\"//li[@class='fleft grey-text br2 placeHolderLi experience']/span[1]\")\n"
     ]
    },
    {
     "data": {
      "text/plain": [
       "[<selenium.webdriver.remote.webelement.WebElement (session=\"90a14411d7e5550ac9b0936e7dab7752\", element=\"cc1e1033-d180-4c0a-ade3-cb6196bcd625\")>,\n",
       " <selenium.webdriver.remote.webelement.WebElement (session=\"90a14411d7e5550ac9b0936e7dab7752\", element=\"5dd3922c-add7-4dd4-a053-b5115e81176a\")>,\n",
       " <selenium.webdriver.remote.webelement.WebElement (session=\"90a14411d7e5550ac9b0936e7dab7752\", element=\"f2832af1-641a-4da0-ae93-1813c954130a\")>,\n",
       " <selenium.webdriver.remote.webelement.WebElement (session=\"90a14411d7e5550ac9b0936e7dab7752\", element=\"1589c7f4-148a-4904-9b29-36a9acd0c525\")>,\n",
       " <selenium.webdriver.remote.webelement.WebElement (session=\"90a14411d7e5550ac9b0936e7dab7752\", element=\"02e28ac8-bdd0-45e7-9067-ac3fec07f73a\")>,\n",
       " <selenium.webdriver.remote.webelement.WebElement (session=\"90a14411d7e5550ac9b0936e7dab7752\", element=\"a1be6811-22a3-4ebd-a41a-e0688093c9a9\")>,\n",
       " <selenium.webdriver.remote.webelement.WebElement (session=\"90a14411d7e5550ac9b0936e7dab7752\", element=\"2247c9f3-6371-48ca-8440-52f3ad5f9c7c\")>,\n",
       " <selenium.webdriver.remote.webelement.WebElement (session=\"90a14411d7e5550ac9b0936e7dab7752\", element=\"5991be0c-25f2-49a1-a44a-7daa31a2b21d\")>,\n",
       " <selenium.webdriver.remote.webelement.WebElement (session=\"90a14411d7e5550ac9b0936e7dab7752\", element=\"0acb58c6-ca8a-48b4-af81-74bf94d298aa\")>,\n",
       " <selenium.webdriver.remote.webelement.WebElement (session=\"90a14411d7e5550ac9b0936e7dab7752\", element=\"27e2beff-0f69-44c7-941b-7641525adf0f\")>]"
      ]
     },
     "execution_count": 16,
     "metadata": {},
     "output_type": "execute_result"
    }
   ],
   "source": [
    "exp_tags = driver.find_elements_by_xpath(\"//li[@class='fleft grey-text br2 placeHolderLi experience']/span[1]\")\n",
    "exp_tags[0 : 10]"
   ]
  },
  {
   "cell_type": "code",
   "execution_count": 29,
   "id": "95751646",
   "metadata": {
    "collapsed": true
   },
   "outputs": [
    {
     "data": {
      "text/plain": [
       "['0-3 Yrs',\n",
       " '1-6 Yrs',\n",
       " '3-8 Yrs',\n",
       " '2-5 Yrs',\n",
       " '0-3 Yrs',\n",
       " '5-8 Yrs',\n",
       " '5-10 Yrs',\n",
       " '6-11 Yrs',\n",
       " '4-6 Yrs',\n",
       " '5-10 Yrs']"
      ]
     },
     "execution_count": 29,
     "metadata": {},
     "output_type": "execute_result"
    }
   ],
   "source": [
    "for i in exp_tags:\n",
    "    e = i.text\n",
    "    exps.append(e)\n",
    "exps[0 : 10]"
   ]
  },
  {
   "cell_type": "code",
   "execution_count": 18,
   "id": "98a439ef",
   "metadata": {},
   "outputs": [
    {
     "name": "stdout",
     "output_type": "stream",
     "text": [
      "20 20 20 20\n"
     ]
    }
   ],
   "source": [
    "print(len(titles), len(cname), len(loc), len(exp))"
   ]
  },
  {
   "cell_type": "code",
   "execution_count": 30,
   "id": "8f82c534",
   "metadata": {},
   "outputs": [],
   "source": [
    "jobs = pd.DataFrame({})\n",
    "jobs['Title'] = titles[0 : 10]\n",
    "jobs['Company Name'] = cnames[0 : 10]\n",
    "jobs['Location'] = locs[0 : 10]\n",
    "jobs['Experience'] = exps[0 : 10]"
   ]
  },
  {
   "cell_type": "code",
   "execution_count": 31,
   "id": "5f54ecc0",
   "metadata": {},
   "outputs": [
    {
     "data": {
      "text/html": [
       "<div>\n",
       "<style scoped>\n",
       "    .dataframe tbody tr th:only-of-type {\n",
       "        vertical-align: middle;\n",
       "    }\n",
       "\n",
       "    .dataframe tbody tr th {\n",
       "        vertical-align: top;\n",
       "    }\n",
       "\n",
       "    .dataframe thead th {\n",
       "        text-align: right;\n",
       "    }\n",
       "</style>\n",
       "<table border=\"1\" class=\"dataframe\">\n",
       "  <thead>\n",
       "    <tr style=\"text-align: right;\">\n",
       "      <th></th>\n",
       "      <th>Title</th>\n",
       "      <th>Company Name</th>\n",
       "      <th>Location</th>\n",
       "      <th>Experience</th>\n",
       "    </tr>\n",
       "  </thead>\n",
       "  <tbody>\n",
       "    <tr>\n",
       "      <th>0</th>\n",
       "      <td>Data Analyst - Flipkart Analytics</td>\n",
       "      <td>Flipkart</td>\n",
       "      <td>Bangalore/Bengaluru(Bellandur)</td>\n",
       "      <td>0-3 Yrs</td>\n",
       "    </tr>\n",
       "    <tr>\n",
       "      <th>1</th>\n",
       "      <td>Urgent Openings For Data Analyst / Business An...</td>\n",
       "      <td>Flipkart</td>\n",
       "      <td>Bangalore/Bengaluru</td>\n",
       "      <td>1-6 Yrs</td>\n",
       "    </tr>\n",
       "    <tr>\n",
       "      <th>2</th>\n",
       "      <td>Business Data Analyst(BigId) - Capco - Bangalore</td>\n",
       "      <td>Capco Technologies Pvt Ltd</td>\n",
       "      <td>Bangalore/Bengaluru</td>\n",
       "      <td>3-8 Yrs</td>\n",
       "    </tr>\n",
       "    <tr>\n",
       "      <th>3</th>\n",
       "      <td>Business Data Analyst - Database Design/Mining</td>\n",
       "      <td>AugmatrixGo</td>\n",
       "      <td>Bangalore/Bengaluru</td>\n",
       "      <td>2-5 Yrs</td>\n",
       "    </tr>\n",
       "    <tr>\n",
       "      <th>4</th>\n",
       "      <td>Data Analyst</td>\n",
       "      <td>Applied Materials</td>\n",
       "      <td>Bangalore/Bengaluru</td>\n",
       "      <td>0-3 Yrs</td>\n",
       "    </tr>\n",
       "    <tr>\n",
       "      <th>5</th>\n",
       "      <td>Data Analyst</td>\n",
       "      <td>Shell</td>\n",
       "      <td>Bangalore/Bengaluru</td>\n",
       "      <td>5-8 Yrs</td>\n",
       "    </tr>\n",
       "    <tr>\n",
       "      <th>6</th>\n",
       "      <td>Data Analyst</td>\n",
       "      <td>Shell</td>\n",
       "      <td>Bangalore/Bengaluru</td>\n",
       "      <td>5-10 Yrs</td>\n",
       "    </tr>\n",
       "    <tr>\n",
       "      <th>7</th>\n",
       "      <td>Senior Data Analyst</td>\n",
       "      <td>Pioneer Business Solutions</td>\n",
       "      <td>Bangalore/Bengaluru</td>\n",
       "      <td>6-11 Yrs</td>\n",
       "    </tr>\n",
       "    <tr>\n",
       "      <th>8</th>\n",
       "      <td>Lead / Senior Data Analyst</td>\n",
       "      <td>EVERGREEN COMMUNITY PRIVATE LIMITED</td>\n",
       "      <td>Bangalore/Bengaluru</td>\n",
       "      <td>4-6 Yrs</td>\n",
       "    </tr>\n",
       "    <tr>\n",
       "      <th>9</th>\n",
       "      <td>Business Data Analyst</td>\n",
       "      <td>NetApp</td>\n",
       "      <td>Bangalore/Bengaluru</td>\n",
       "      <td>5-10 Yrs</td>\n",
       "    </tr>\n",
       "  </tbody>\n",
       "</table>\n",
       "</div>"
      ],
      "text/plain": [
       "                                               Title  \\\n",
       "0                  Data Analyst - Flipkart Analytics   \n",
       "1  Urgent Openings For Data Analyst / Business An...   \n",
       "2   Business Data Analyst(BigId) - Capco - Bangalore   \n",
       "3     Business Data Analyst - Database Design/Mining   \n",
       "4                                       Data Analyst   \n",
       "5                                       Data Analyst   \n",
       "6                                       Data Analyst   \n",
       "7                                Senior Data Analyst   \n",
       "8                         Lead / Senior Data Analyst   \n",
       "9                              Business Data Analyst   \n",
       "\n",
       "                          Company Name                        Location  \\\n",
       "0                             Flipkart  Bangalore/Bengaluru(Bellandur)   \n",
       "1                             Flipkart             Bangalore/Bengaluru   \n",
       "2           Capco Technologies Pvt Ltd             Bangalore/Bengaluru   \n",
       "3                          AugmatrixGo             Bangalore/Bengaluru   \n",
       "4                    Applied Materials             Bangalore/Bengaluru   \n",
       "5                                Shell             Bangalore/Bengaluru   \n",
       "6                                Shell             Bangalore/Bengaluru   \n",
       "7           Pioneer Business Solutions             Bangalore/Bengaluru   \n",
       "8  EVERGREEN COMMUNITY PRIVATE LIMITED             Bangalore/Bengaluru   \n",
       "9                               NetApp             Bangalore/Bengaluru   \n",
       "\n",
       "  Experience  \n",
       "0    0-3 Yrs  \n",
       "1    1-6 Yrs  \n",
       "2    3-8 Yrs  \n",
       "3    2-5 Yrs  \n",
       "4    0-3 Yrs  \n",
       "5    5-8 Yrs  \n",
       "6   5-10 Yrs  \n",
       "7   6-11 Yrs  \n",
       "8    4-6 Yrs  \n",
       "9   5-10 Yrs  "
      ]
     },
     "execution_count": 31,
     "metadata": {},
     "output_type": "execute_result"
    }
   ],
   "source": [
    "jobs"
   ]
  },
  {
   "cell_type": "markdown",
   "id": "cbda990a",
   "metadata": {},
   "source": [
    "Q.2: Write a python program to scrape data for “Data Scientist” Job position in “Bangalore” location. You\n",
    "have to scrape the job-title, job-location, company_name. You have to scrape first 10 jobs data.\n",
    "This task will be done in following steps:\n",
    "1. First get the webpage https://www.naukri.com/\n",
    "2. Enter “Data Scientist” in “Skill, Designations, Companies” field and enter “Bangalore” in “enter the\n",
    "location” field.\n",
    "3. Then click the search button.\n",
    "4. Then scrape the data for the first 10 jobs results you get.\n",
    "5. Finally create a dataframe of the scraped data."
   ]
  },
  {
   "cell_type": "code",
   "execution_count": 32,
   "id": "7bd97580",
   "metadata": {},
   "outputs": [
    {
     "name": "stderr",
     "output_type": "stream",
     "text": [
      "<ipython-input-32-9fcf2ff2676d>:1: DeprecationWarning: executable_path has been deprecated, please pass in a Service object\n",
      "  driver = webdriver.Chrome(chrome_driver)\n"
     ]
    }
   ],
   "source": [
    "driver = webdriver.Chrome(chrome_driver)\n",
    "driver.get('https://www.naukri.com/')"
   ]
  },
  {
   "cell_type": "code",
   "execution_count": 33,
   "id": "cd193fe6",
   "metadata": {},
   "outputs": [
    {
     "name": "stderr",
     "output_type": "stream",
     "text": [
      "<ipython-input-33-43e71d940f86>:1: DeprecationWarning: find_element_by_* commands are deprecated. Please use find_element() instead\n",
      "  search_job = driver.find_element_by_id('qsb-keyword-sugg')\n",
      "<ipython-input-33-43e71d940f86>:3: DeprecationWarning: find_element_by_* commands are deprecated. Please use find_element() instead\n",
      "  search_loc = driver.find_element_by_xpath('//input[@id=\"qsb-location-sugg\"]')\n",
      "<ipython-input-33-43e71d940f86>:5: DeprecationWarning: find_element_by_* commands are deprecated. Please use find_element() instead\n",
      "  search_btn = driver.find_element_by_xpath('//div[@class=\"search-btn\"]')\n"
     ]
    }
   ],
   "source": [
    "search_job = driver.find_element_by_id('qsb-keyword-sugg')\n",
    "search_job.send_keys('Data Scientist')\n",
    "search_loc = driver.find_element_by_xpath('//input[@id=\"qsb-location-sugg\"]')\n",
    "search_loc.send_keys('Bangalore')\n",
    "search_btn = driver.find_element_by_xpath('//div[@class=\"search-btn\"]')\n",
    "search_btn.click()"
   ]
  },
  {
   "cell_type": "code",
   "execution_count": 35,
   "id": "b4900097",
   "metadata": {},
   "outputs": [],
   "source": [
    "url2 = 'https://www.naukri.com/data-scientist-jobs-in-bangalore?k=data%20scientist&l=bangalore'\n",
    "driver.get(url2)"
   ]
  },
  {
   "cell_type": "code",
   "execution_count": 36,
   "id": "71d3571c",
   "metadata": {},
   "outputs": [],
   "source": [
    "titles2 = []\n",
    "cnames2 = []\n",
    "locs2 = []\n",
    "exps2 = []"
   ]
  },
  {
   "cell_type": "code",
   "execution_count": 37,
   "id": "eb70828e",
   "metadata": {
    "collapsed": true
   },
   "outputs": [
    {
     "name": "stderr",
     "output_type": "stream",
     "text": [
      "<ipython-input-37-92b9f30f4133>:1: DeprecationWarning: find_elements_by_* commands are deprecated. Please use find_elements() instead\n",
      "  title_tags2 = driver.find_elements_by_xpath(\"//a[@class='title fw500 ellipsis']\")\n"
     ]
    },
    {
     "data": {
      "text/plain": [
       "[<selenium.webdriver.remote.webelement.WebElement (session=\"a56c142a8017f91ce07e9cd6e5ca1d39\", element=\"2edd80ae-7d61-4754-b0c7-98d1cd2ecf40\")>,\n",
       " <selenium.webdriver.remote.webelement.WebElement (session=\"a56c142a8017f91ce07e9cd6e5ca1d39\", element=\"e1c1c1d6-f8c7-46fc-be5d-cf8f67b2a728\")>,\n",
       " <selenium.webdriver.remote.webelement.WebElement (session=\"a56c142a8017f91ce07e9cd6e5ca1d39\", element=\"e10e8735-89e5-46bc-839d-3f21e4622b55\")>,\n",
       " <selenium.webdriver.remote.webelement.WebElement (session=\"a56c142a8017f91ce07e9cd6e5ca1d39\", element=\"52bffbf7-b2fb-43f3-a2f3-9fa8838e67a6\")>,\n",
       " <selenium.webdriver.remote.webelement.WebElement (session=\"a56c142a8017f91ce07e9cd6e5ca1d39\", element=\"0b930573-32a2-4fc2-b6be-b4cebf3d9362\")>,\n",
       " <selenium.webdriver.remote.webelement.WebElement (session=\"a56c142a8017f91ce07e9cd6e5ca1d39\", element=\"4e0b2f76-7e6b-41fb-9adc-295bda84704d\")>,\n",
       " <selenium.webdriver.remote.webelement.WebElement (session=\"a56c142a8017f91ce07e9cd6e5ca1d39\", element=\"6e446985-e71a-4c70-9386-dbdc4ca180c6\")>,\n",
       " <selenium.webdriver.remote.webelement.WebElement (session=\"a56c142a8017f91ce07e9cd6e5ca1d39\", element=\"a0ef2d4a-7a9d-43e9-b817-529ffdb39d4b\")>,\n",
       " <selenium.webdriver.remote.webelement.WebElement (session=\"a56c142a8017f91ce07e9cd6e5ca1d39\", element=\"24e827dd-273d-4ce5-aef0-5fedf70050a8\")>,\n",
       " <selenium.webdriver.remote.webelement.WebElement (session=\"a56c142a8017f91ce07e9cd6e5ca1d39\", element=\"ea5383a0-5172-4d25-9c8c-7528a1c5c16c\")>]"
      ]
     },
     "execution_count": 37,
     "metadata": {},
     "output_type": "execute_result"
    }
   ],
   "source": [
    "title_tags2 = driver.find_elements_by_xpath(\"//a[@class='title fw500 ellipsis']\")\n",
    "title_tags2[0 : 10]"
   ]
  },
  {
   "cell_type": "code",
   "execution_count": 38,
   "id": "7abbf0ee",
   "metadata": {
    "collapsed": true
   },
   "outputs": [
    {
     "data": {
      "text/plain": [
       "['Forecasting Analyst/ Data Scientist (US Client)',\n",
       " 'Data Scientist',\n",
       " 'Senior Data Scientist',\n",
       " 'Senior Data Scientist | Fortune 500 Supermarket Chain',\n",
       " 'Lead Data Scientist',\n",
       " 'Associate Data Scientist',\n",
       " 'Looking For Senior Data Scientist Immediate Joiners and 1 months NP',\n",
       " 'Looking For Senior Data Scientist Immediate Joiners and 1 months NP',\n",
       " 'Data Scientist',\n",
       " 'Principal Data Scientist']"
      ]
     },
     "execution_count": 38,
     "metadata": {},
     "output_type": "execute_result"
    }
   ],
   "source": [
    "for i in title_tags2:\n",
    "    title = i.text\n",
    "    titles2.append(title)\n",
    "titles2[0 : 10]"
   ]
  },
  {
   "cell_type": "code",
   "execution_count": 39,
   "id": "259829ac",
   "metadata": {
    "collapsed": true
   },
   "outputs": [
    {
     "name": "stderr",
     "output_type": "stream",
     "text": [
      "<ipython-input-39-e45aec16e347>:1: DeprecationWarning: find_elements_by_* commands are deprecated. Please use find_elements() instead\n",
      "  cname_tags2 = driver.find_elements_by_xpath(\"//a[@class='subTitle ellipsis fleft']\")\n",
      "<ipython-input-39-e45aec16e347>:4: DeprecationWarning: find_elements_by_* commands are deprecated. Please use find_elements() instead\n",
      "  loc_tags2 = driver.find_elements_by_xpath(\"//li[@class='fleft grey-text br2 placeHolderLi location']/span[1]\")\n"
     ]
    },
    {
     "data": {
      "text/plain": [
       "[<selenium.webdriver.remote.webelement.WebElement (session=\"a56c142a8017f91ce07e9cd6e5ca1d39\", element=\"712594c4-7033-4ed9-82d4-ec3a09702c29\")>,\n",
       " <selenium.webdriver.remote.webelement.WebElement (session=\"a56c142a8017f91ce07e9cd6e5ca1d39\", element=\"d5a486ab-742b-48b2-9446-4014f95e1eff\")>,\n",
       " <selenium.webdriver.remote.webelement.WebElement (session=\"a56c142a8017f91ce07e9cd6e5ca1d39\", element=\"9a35b621-76ad-4ac6-a88b-6aaa657478aa\")>,\n",
       " <selenium.webdriver.remote.webelement.WebElement (session=\"a56c142a8017f91ce07e9cd6e5ca1d39\", element=\"12a69a51-b255-4ea1-b4d5-fcd78adc6e23\")>,\n",
       " <selenium.webdriver.remote.webelement.WebElement (session=\"a56c142a8017f91ce07e9cd6e5ca1d39\", element=\"6153fdc3-dedf-48ef-aeb5-ec7cb836b41c\")>,\n",
       " <selenium.webdriver.remote.webelement.WebElement (session=\"a56c142a8017f91ce07e9cd6e5ca1d39\", element=\"cc68d73c-5faa-47b1-be0c-cdd773fb4b5e\")>,\n",
       " <selenium.webdriver.remote.webelement.WebElement (session=\"a56c142a8017f91ce07e9cd6e5ca1d39\", element=\"ee33cc5d-3d89-42c5-98e1-97dad379da66\")>,\n",
       " <selenium.webdriver.remote.webelement.WebElement (session=\"a56c142a8017f91ce07e9cd6e5ca1d39\", element=\"79ecf68f-f9f3-4b24-8705-c7483be84b9d\")>,\n",
       " <selenium.webdriver.remote.webelement.WebElement (session=\"a56c142a8017f91ce07e9cd6e5ca1d39\", element=\"88b1e1d4-c699-48e2-b5ee-64af6c5ccd32\")>,\n",
       " <selenium.webdriver.remote.webelement.WebElement (session=\"a56c142a8017f91ce07e9cd6e5ca1d39\", element=\"789c8445-8057-4f77-a9dc-f4dd1b72ae50\")>]"
      ]
     },
     "execution_count": 39,
     "metadata": {},
     "output_type": "execute_result"
    }
   ],
   "source": [
    "cname_tags2 = driver.find_elements_by_xpath(\"//a[@class='subTitle ellipsis fleft']\")\n",
    "cname_tags2[0 : 10]"
   ]
  },
  {
   "cell_type": "code",
   "execution_count": 41,
   "id": "b592bc97",
   "metadata": {
    "collapsed": true
   },
   "outputs": [
    {
     "data": {
      "text/plain": [
       "['Concentrix Daksh Services',\n",
       " 'Oracle India Pvt. Ltd.',\n",
       " 'Convergence Infotech Ltd',\n",
       " 'TALENT500 TECH (INDIA) PRIVATE LIMITED',\n",
       " 'TransOrg Solutions Services (P) Ltd.',\n",
       " 'Mavenir',\n",
       " 'Mount Talent Consulting Private Limited',\n",
       " 'Mount Talent Consulting Private Limited',\n",
       " 'Cerner Corporation',\n",
       " 'Walmart Labs']"
      ]
     },
     "execution_count": 41,
     "metadata": {},
     "output_type": "execute_result"
    }
   ],
   "source": [
    "for i in cname_tags2:\n",
    "    c = i.text\n",
    "    cnames2.append(c)\n",
    "cnames2[0 : 10]"
   ]
  },
  {
   "cell_type": "code",
   "execution_count": 40,
   "id": "b213fa80",
   "metadata": {
    "collapsed": true
   },
   "outputs": [
    {
     "name": "stderr",
     "output_type": "stream",
     "text": [
      "<ipython-input-40-1b51c409a5c0>:1: DeprecationWarning: find_elements_by_* commands are deprecated. Please use find_elements() instead\n",
      "  loc_tags2 = driver.find_elements_by_xpath(\"//li[@class='fleft grey-text br2 placeHolderLi location']/span[1]\")\n"
     ]
    },
    {
     "data": {
      "text/plain": [
       "[<selenium.webdriver.remote.webelement.WebElement (session=\"a56c142a8017f91ce07e9cd6e5ca1d39\", element=\"712594c4-7033-4ed9-82d4-ec3a09702c29\")>,\n",
       " <selenium.webdriver.remote.webelement.WebElement (session=\"a56c142a8017f91ce07e9cd6e5ca1d39\", element=\"d5a486ab-742b-48b2-9446-4014f95e1eff\")>,\n",
       " <selenium.webdriver.remote.webelement.WebElement (session=\"a56c142a8017f91ce07e9cd6e5ca1d39\", element=\"9a35b621-76ad-4ac6-a88b-6aaa657478aa\")>,\n",
       " <selenium.webdriver.remote.webelement.WebElement (session=\"a56c142a8017f91ce07e9cd6e5ca1d39\", element=\"12a69a51-b255-4ea1-b4d5-fcd78adc6e23\")>,\n",
       " <selenium.webdriver.remote.webelement.WebElement (session=\"a56c142a8017f91ce07e9cd6e5ca1d39\", element=\"6153fdc3-dedf-48ef-aeb5-ec7cb836b41c\")>,\n",
       " <selenium.webdriver.remote.webelement.WebElement (session=\"a56c142a8017f91ce07e9cd6e5ca1d39\", element=\"cc68d73c-5faa-47b1-be0c-cdd773fb4b5e\")>,\n",
       " <selenium.webdriver.remote.webelement.WebElement (session=\"a56c142a8017f91ce07e9cd6e5ca1d39\", element=\"ee33cc5d-3d89-42c5-98e1-97dad379da66\")>,\n",
       " <selenium.webdriver.remote.webelement.WebElement (session=\"a56c142a8017f91ce07e9cd6e5ca1d39\", element=\"79ecf68f-f9f3-4b24-8705-c7483be84b9d\")>,\n",
       " <selenium.webdriver.remote.webelement.WebElement (session=\"a56c142a8017f91ce07e9cd6e5ca1d39\", element=\"88b1e1d4-c699-48e2-b5ee-64af6c5ccd32\")>,\n",
       " <selenium.webdriver.remote.webelement.WebElement (session=\"a56c142a8017f91ce07e9cd6e5ca1d39\", element=\"789c8445-8057-4f77-a9dc-f4dd1b72ae50\")>]"
      ]
     },
     "execution_count": 40,
     "metadata": {},
     "output_type": "execute_result"
    }
   ],
   "source": [
    "loc_tags2 = driver.find_elements_by_xpath(\"//li[@class='fleft grey-text br2 placeHolderLi location']/span[1]\")\n",
    "loc_tags2[0 : 10]"
   ]
  },
  {
   "cell_type": "code",
   "execution_count": 42,
   "id": "34392caa",
   "metadata": {
    "collapsed": true
   },
   "outputs": [
    {
     "data": {
      "text/plain": [
       "['Gurgaon/Gurugram, Bangalore/Bengaluru',\n",
       " 'Bangalore/Bengaluru',\n",
       " 'Bangalore/Bengaluru(Sadashiva Nagar)',\n",
       " 'Bangalore/Bengaluru',\n",
       " 'Bangalore/Bengaluru, Delhi / NCR, Mumbai (All Areas)',\n",
       " 'Bangalore/Bengaluru',\n",
       " 'Bangalore/Bengaluru',\n",
       " 'Bangalore/Bengaluru',\n",
       " 'Bangalore/Bengaluru',\n",
       " 'Bangalore/Bengaluru']"
      ]
     },
     "execution_count": 42,
     "metadata": {},
     "output_type": "execute_result"
    }
   ],
   "source": [
    "for i in loc_tags2:\n",
    "    l = i.text\n",
    "    locs2.append(l)\n",
    "locs2[0 : 10]"
   ]
  },
  {
   "cell_type": "code",
   "execution_count": 43,
   "id": "d848828c",
   "metadata": {
    "collapsed": true
   },
   "outputs": [
    {
     "name": "stderr",
     "output_type": "stream",
     "text": [
      "<ipython-input-43-6e79b8cda6d0>:1: DeprecationWarning: find_elements_by_* commands are deprecated. Please use find_elements() instead\n",
      "  exp_tags2 = driver.find_elements_by_xpath(\"//li[@class='fleft grey-text br2 placeHolderLi experience']/span[1]\")\n"
     ]
    },
    {
     "data": {
      "text/plain": [
       "[<selenium.webdriver.remote.webelement.WebElement (session=\"a56c142a8017f91ce07e9cd6e5ca1d39\", element=\"b05925ce-f14c-4688-ae2c-36c9ef09d15a\")>,\n",
       " <selenium.webdriver.remote.webelement.WebElement (session=\"a56c142a8017f91ce07e9cd6e5ca1d39\", element=\"b8c10a83-623c-4f3b-bba7-97eb78e71f59\")>,\n",
       " <selenium.webdriver.remote.webelement.WebElement (session=\"a56c142a8017f91ce07e9cd6e5ca1d39\", element=\"e9943b15-0403-4ec3-827f-a5dd4679150a\")>,\n",
       " <selenium.webdriver.remote.webelement.WebElement (session=\"a56c142a8017f91ce07e9cd6e5ca1d39\", element=\"0a0e8331-efb9-483c-b24f-b5a62ef63597\")>,\n",
       " <selenium.webdriver.remote.webelement.WebElement (session=\"a56c142a8017f91ce07e9cd6e5ca1d39\", element=\"d8caf057-a082-4a47-ace9-e112b76f38dd\")>,\n",
       " <selenium.webdriver.remote.webelement.WebElement (session=\"a56c142a8017f91ce07e9cd6e5ca1d39\", element=\"2086d2a4-d993-4855-8b74-481e1cc7c83c\")>,\n",
       " <selenium.webdriver.remote.webelement.WebElement (session=\"a56c142a8017f91ce07e9cd6e5ca1d39\", element=\"4881f538-39f8-4b77-9d0d-84a4130e4b70\")>,\n",
       " <selenium.webdriver.remote.webelement.WebElement (session=\"a56c142a8017f91ce07e9cd6e5ca1d39\", element=\"227cad70-0b8c-49d4-a4cc-5c8556bd0dc4\")>,\n",
       " <selenium.webdriver.remote.webelement.WebElement (session=\"a56c142a8017f91ce07e9cd6e5ca1d39\", element=\"a672a197-f7de-4b65-aea5-049607503263\")>,\n",
       " <selenium.webdriver.remote.webelement.WebElement (session=\"a56c142a8017f91ce07e9cd6e5ca1d39\", element=\"834a142c-1649-4987-aa12-68d92480c8ea\")>]"
      ]
     },
     "execution_count": 43,
     "metadata": {},
     "output_type": "execute_result"
    }
   ],
   "source": [
    "exp_tags2 = driver.find_elements_by_xpath(\"//li[@class='fleft grey-text br2 placeHolderLi experience']/span[1]\")\n",
    "exp_tags2[0 : 10]"
   ]
  },
  {
   "cell_type": "code",
   "execution_count": 44,
   "id": "fb839c8b",
   "metadata": {
    "collapsed": true
   },
   "outputs": [
    {
     "data": {
      "text/plain": [
       "['3-8 Yrs',\n",
       " '6-10 Yrs',\n",
       " '8-12 Yrs',\n",
       " '7-10 Yrs',\n",
       " '4-9 Yrs',\n",
       " '2-6 Yrs',\n",
       " '5-10 Yrs',\n",
       " '5-10 Yrs',\n",
       " '2-5 Yrs',\n",
       " '7-12 Yrs']"
      ]
     },
     "execution_count": 44,
     "metadata": {},
     "output_type": "execute_result"
    }
   ],
   "source": [
    "for i in exp_tags2:\n",
    "    e = i.text\n",
    "    exps2.append(e)\n",
    "exps2[0 : 10]"
   ]
  },
  {
   "cell_type": "code",
   "execution_count": 45,
   "id": "0b6b37d6",
   "metadata": {},
   "outputs": [],
   "source": [
    "jobs2 = pd.DataFrame({})\n",
    "jobs2['Title'] = titles2[0 : 10]\n",
    "jobs2['Company Name'] = cnames2[0 : 10]\n",
    "jobs2['Location'] = locs2[0 : 10]\n",
    "jobs2['Experience'] = exps2[0 : 10]"
   ]
  },
  {
   "cell_type": "code",
   "execution_count": 46,
   "id": "b8d4856c",
   "metadata": {},
   "outputs": [
    {
     "data": {
      "text/html": [
       "<div>\n",
       "<style scoped>\n",
       "    .dataframe tbody tr th:only-of-type {\n",
       "        vertical-align: middle;\n",
       "    }\n",
       "\n",
       "    .dataframe tbody tr th {\n",
       "        vertical-align: top;\n",
       "    }\n",
       "\n",
       "    .dataframe thead th {\n",
       "        text-align: right;\n",
       "    }\n",
       "</style>\n",
       "<table border=\"1\" class=\"dataframe\">\n",
       "  <thead>\n",
       "    <tr style=\"text-align: right;\">\n",
       "      <th></th>\n",
       "      <th>Title</th>\n",
       "      <th>Company Name</th>\n",
       "      <th>Location</th>\n",
       "      <th>Experience</th>\n",
       "    </tr>\n",
       "  </thead>\n",
       "  <tbody>\n",
       "    <tr>\n",
       "      <th>0</th>\n",
       "      <td>Forecasting Analyst/ Data Scientist (US Client)</td>\n",
       "      <td>Concentrix Daksh Services</td>\n",
       "      <td>Gurgaon/Gurugram, Bangalore/Bengaluru</td>\n",
       "      <td>3-8 Yrs</td>\n",
       "    </tr>\n",
       "    <tr>\n",
       "      <th>1</th>\n",
       "      <td>Data Scientist</td>\n",
       "      <td>Oracle India Pvt. Ltd.</td>\n",
       "      <td>Bangalore/Bengaluru</td>\n",
       "      <td>6-10 Yrs</td>\n",
       "    </tr>\n",
       "    <tr>\n",
       "      <th>2</th>\n",
       "      <td>Senior Data Scientist</td>\n",
       "      <td>Convergence Infotech Ltd</td>\n",
       "      <td>Bangalore/Bengaluru(Sadashiva Nagar)</td>\n",
       "      <td>8-12 Yrs</td>\n",
       "    </tr>\n",
       "    <tr>\n",
       "      <th>3</th>\n",
       "      <td>Senior Data Scientist | Fortune 500 Supermarke...</td>\n",
       "      <td>TALENT500 TECH (INDIA) PRIVATE LIMITED</td>\n",
       "      <td>Bangalore/Bengaluru</td>\n",
       "      <td>7-10 Yrs</td>\n",
       "    </tr>\n",
       "    <tr>\n",
       "      <th>4</th>\n",
       "      <td>Lead Data Scientist</td>\n",
       "      <td>TransOrg Solutions Services (P) Ltd.</td>\n",
       "      <td>Bangalore/Bengaluru, Delhi / NCR, Mumbai (All ...</td>\n",
       "      <td>4-9 Yrs</td>\n",
       "    </tr>\n",
       "    <tr>\n",
       "      <th>5</th>\n",
       "      <td>Associate Data Scientist</td>\n",
       "      <td>Mavenir</td>\n",
       "      <td>Bangalore/Bengaluru</td>\n",
       "      <td>2-6 Yrs</td>\n",
       "    </tr>\n",
       "    <tr>\n",
       "      <th>6</th>\n",
       "      <td>Looking For Senior Data Scientist Immediate Jo...</td>\n",
       "      <td>Mount Talent Consulting Private Limited</td>\n",
       "      <td>Bangalore/Bengaluru</td>\n",
       "      <td>5-10 Yrs</td>\n",
       "    </tr>\n",
       "    <tr>\n",
       "      <th>7</th>\n",
       "      <td>Looking For Senior Data Scientist Immediate Jo...</td>\n",
       "      <td>Mount Talent Consulting Private Limited</td>\n",
       "      <td>Bangalore/Bengaluru</td>\n",
       "      <td>5-10 Yrs</td>\n",
       "    </tr>\n",
       "    <tr>\n",
       "      <th>8</th>\n",
       "      <td>Data Scientist</td>\n",
       "      <td>Cerner Corporation</td>\n",
       "      <td>Bangalore/Bengaluru</td>\n",
       "      <td>2-5 Yrs</td>\n",
       "    </tr>\n",
       "    <tr>\n",
       "      <th>9</th>\n",
       "      <td>Principal Data Scientist</td>\n",
       "      <td>Walmart Labs</td>\n",
       "      <td>Bangalore/Bengaluru</td>\n",
       "      <td>7-12 Yrs</td>\n",
       "    </tr>\n",
       "  </tbody>\n",
       "</table>\n",
       "</div>"
      ],
      "text/plain": [
       "                                               Title  \\\n",
       "0    Forecasting Analyst/ Data Scientist (US Client)   \n",
       "1                                     Data Scientist   \n",
       "2                              Senior Data Scientist   \n",
       "3  Senior Data Scientist | Fortune 500 Supermarke...   \n",
       "4                                Lead Data Scientist   \n",
       "5                           Associate Data Scientist   \n",
       "6  Looking For Senior Data Scientist Immediate Jo...   \n",
       "7  Looking For Senior Data Scientist Immediate Jo...   \n",
       "8                                     Data Scientist   \n",
       "9                           Principal Data Scientist   \n",
       "\n",
       "                              Company Name  \\\n",
       "0                Concentrix Daksh Services   \n",
       "1                   Oracle India Pvt. Ltd.   \n",
       "2                 Convergence Infotech Ltd   \n",
       "3   TALENT500 TECH (INDIA) PRIVATE LIMITED   \n",
       "4     TransOrg Solutions Services (P) Ltd.   \n",
       "5                                  Mavenir   \n",
       "6  Mount Talent Consulting Private Limited   \n",
       "7  Mount Talent Consulting Private Limited   \n",
       "8                       Cerner Corporation   \n",
       "9                             Walmart Labs   \n",
       "\n",
       "                                            Location Experience  \n",
       "0              Gurgaon/Gurugram, Bangalore/Bengaluru    3-8 Yrs  \n",
       "1                                Bangalore/Bengaluru   6-10 Yrs  \n",
       "2               Bangalore/Bengaluru(Sadashiva Nagar)   8-12 Yrs  \n",
       "3                                Bangalore/Bengaluru   7-10 Yrs  \n",
       "4  Bangalore/Bengaluru, Delhi / NCR, Mumbai (All ...    4-9 Yrs  \n",
       "5                                Bangalore/Bengaluru    2-6 Yrs  \n",
       "6                                Bangalore/Bengaluru   5-10 Yrs  \n",
       "7                                Bangalore/Bengaluru   5-10 Yrs  \n",
       "8                                Bangalore/Bengaluru    2-5 Yrs  \n",
       "9                                Bangalore/Bengaluru   7-12 Yrs  "
      ]
     },
     "execution_count": 46,
     "metadata": {},
     "output_type": "execute_result"
    }
   ],
   "source": [
    "jobs2"
   ]
  },
  {
   "cell_type": "markdown",
   "id": "b72c66dd",
   "metadata": {},
   "source": [
    "Q.3: In this question you have to scrape data using the filters available on the webpage as shown below:\n",
    "You have to use the location and salary filter.\n",
    "You have to scrape data for “Data Scientist” designation for first 10 job results.\n",
    "You have to scrape the job-title, job-location, company name, experience required.\n",
    "The location filter to be used is “Delhi/NCR” The salary filter to be used is “3-6” lakhs\n",
    "The task will be done as shown in the below steps:\n",
    "1. first get the webpage https://www.naukri.com/\n",
    "2. Enter “Data Scientist” in “Skill, Designations, and Companies” field.\n",
    "3. Then click the search button.\n",
    "4. Then apply the location filter and salary filter by checking the respective boxes\n",
    "5. Then scrape the data for the first 10 jobs results you get.\n",
    "6. Finally create a dataframe of the scraped data."
   ]
  },
  {
   "cell_type": "code",
   "execution_count": 11,
   "id": "99172887",
   "metadata": {},
   "outputs": [
    {
     "name": "stderr",
     "output_type": "stream",
     "text": [
      "<ipython-input-11-9fcf2ff2676d>:1: DeprecationWarning: executable_path has been deprecated, please pass in a Service object\n",
      "  driver = webdriver.Chrome(chrome_driver)\n"
     ]
    }
   ],
   "source": [
    "driver = webdriver.Chrome(chrome_driver)\n",
    "driver.get('https://www.naukri.com/')"
   ]
  },
  {
   "cell_type": "code",
   "execution_count": 48,
   "id": "9ee734c8",
   "metadata": {},
   "outputs": [
    {
     "name": "stderr",
     "output_type": "stream",
     "text": [
      "<ipython-input-48-179019a7c451>:1: DeprecationWarning: find_element_by_* commands are deprecated. Please use find_element() instead\n",
      "  search_job = driver.find_element_by_id('qsb-keyword-sugg')\n",
      "<ipython-input-48-179019a7c451>:3: DeprecationWarning: find_element_by_* commands are deprecated. Please use find_element() instead\n",
      "  search_btn = driver.find_element_by_xpath('//div[@class=\"search-btn\"]')\n"
     ]
    }
   ],
   "source": [
    "search_job = driver.find_element_by_id('qsb-keyword-sugg')\n",
    "search_job.send_keys('Data Scientist')\n",
    "search_btn = driver.find_element_by_xpath('//div[@class=\"search-btn\"]')\n",
    "search_btn.click()"
   ]
  },
  {
   "cell_type": "code",
   "execution_count": 49,
   "id": "b5a11934",
   "metadata": {},
   "outputs": [],
   "source": [
    "url3 = 'https://www.naukri.com/data-scientist-jobs?k=data%20scientist&cityTypeGid=9508&ctcFilter=3to6'\n",
    "driver.get(url3)"
   ]
  },
  {
   "cell_type": "code",
   "execution_count": 50,
   "id": "6034eff2",
   "metadata": {},
   "outputs": [],
   "source": [
    "titles3 = []\n",
    "cnames3 = []\n",
    "locs3 = []\n",
    "exps3 = []"
   ]
  },
  {
   "cell_type": "code",
   "execution_count": 57,
   "id": "2f393705",
   "metadata": {
    "collapsed": true
   },
   "outputs": [
    {
     "name": "stderr",
     "output_type": "stream",
     "text": [
      "<ipython-input-57-6139619b9bbb>:1: DeprecationWarning: find_elements_by_* commands are deprecated. Please use find_elements() instead\n",
      "  title_tags3 = driver.find_elements_by_xpath(\"//a[@class='title fw500 ellipsis']\")\n"
     ]
    },
    {
     "data": {
      "text/plain": [
       "[<selenium.webdriver.remote.webelement.WebElement (session=\"268c4b80a264bc866401249ab4a436b6\", element=\"bcef0a12-7a2c-4f95-963f-6e0aca514cce\")>,\n",
       " <selenium.webdriver.remote.webelement.WebElement (session=\"268c4b80a264bc866401249ab4a436b6\", element=\"339b211c-2b0d-4856-91db-e07d5c395ee0\")>,\n",
       " <selenium.webdriver.remote.webelement.WebElement (session=\"268c4b80a264bc866401249ab4a436b6\", element=\"fc46d2c2-1d44-482b-91da-0fb2373ff8a2\")>,\n",
       " <selenium.webdriver.remote.webelement.WebElement (session=\"268c4b80a264bc866401249ab4a436b6\", element=\"7e11a1db-c933-43d7-bf93-f07164b8028d\")>,\n",
       " <selenium.webdriver.remote.webelement.WebElement (session=\"268c4b80a264bc866401249ab4a436b6\", element=\"32bf28e1-8694-407c-adc8-e5d37902bfd5\")>,\n",
       " <selenium.webdriver.remote.webelement.WebElement (session=\"268c4b80a264bc866401249ab4a436b6\", element=\"a9679096-2d9e-460d-b897-5418ae8acbac\")>,\n",
       " <selenium.webdriver.remote.webelement.WebElement (session=\"268c4b80a264bc866401249ab4a436b6\", element=\"f2e947cb-b129-4988-b305-b6f470a5547d\")>,\n",
       " <selenium.webdriver.remote.webelement.WebElement (session=\"268c4b80a264bc866401249ab4a436b6\", element=\"09b24f5d-67d8-45f2-915e-92ab6a560314\")>,\n",
       " <selenium.webdriver.remote.webelement.WebElement (session=\"268c4b80a264bc866401249ab4a436b6\", element=\"b368ac33-6b4e-44ad-8fe5-e71f1b038294\")>,\n",
       " <selenium.webdriver.remote.webelement.WebElement (session=\"268c4b80a264bc866401249ab4a436b6\", element=\"e81751cb-9461-45fe-997c-69a9f58c577d\")>]"
      ]
     },
     "execution_count": 57,
     "metadata": {},
     "output_type": "execute_result"
    }
   ],
   "source": [
    "title_tags3 = driver.find_elements_by_xpath(\"//a[@class='title fw500 ellipsis']\")\n",
    "title_tags3[0 : 10]"
   ]
  },
  {
   "cell_type": "code",
   "execution_count": 58,
   "id": "da8257b6",
   "metadata": {
    "collapsed": true
   },
   "outputs": [
    {
     "data": {
      "text/plain": [
       "['Data Scientist',\n",
       " 'Data Scientist',\n",
       " 'Data Scientist',\n",
       " 'Urgent Hiring || Data Scientist || Delhi',\n",
       " 'Data Scientist',\n",
       " 'Data Scientist',\n",
       " 'Immediate requirement For Data Scientist',\n",
       " 'Data Scientist Internship',\n",
       " 'Data Scientist',\n",
       " 'Project Manager | Team Leader | Senior Data Scientist']"
      ]
     },
     "execution_count": 58,
     "metadata": {},
     "output_type": "execute_result"
    }
   ],
   "source": [
    "for i in title_tags3:\n",
    "    title = i.text\n",
    "    titles3.append(title)\n",
    "titles3[0 : 10]"
   ]
  },
  {
   "cell_type": "code",
   "execution_count": 59,
   "id": "453bd583",
   "metadata": {
    "collapsed": true
   },
   "outputs": [
    {
     "name": "stderr",
     "output_type": "stream",
     "text": [
      "<ipython-input-59-7777bf8eb021>:1: DeprecationWarning: find_elements_by_* commands are deprecated. Please use find_elements() instead\n",
      "  cname_tags3 = driver.find_elements_by_xpath(\"//a[@class='subTitle ellipsis fleft']\")\n"
     ]
    },
    {
     "data": {
      "text/plain": [
       "[<selenium.webdriver.remote.webelement.WebElement (session=\"268c4b80a264bc866401249ab4a436b6\", element=\"dbed6497-f78c-4c54-9894-c3770c3ce32c\")>,\n",
       " <selenium.webdriver.remote.webelement.WebElement (session=\"268c4b80a264bc866401249ab4a436b6\", element=\"082e3425-1251-4ce6-bb96-55f418a52e35\")>,\n",
       " <selenium.webdriver.remote.webelement.WebElement (session=\"268c4b80a264bc866401249ab4a436b6\", element=\"e7a89f8b-78d0-49ff-80a1-a455d01ef167\")>,\n",
       " <selenium.webdriver.remote.webelement.WebElement (session=\"268c4b80a264bc866401249ab4a436b6\", element=\"4afc649b-cd43-420c-ac7f-a9dab564d485\")>,\n",
       " <selenium.webdriver.remote.webelement.WebElement (session=\"268c4b80a264bc866401249ab4a436b6\", element=\"06a29fe4-0742-4118-8ca8-8f150310d677\")>,\n",
       " <selenium.webdriver.remote.webelement.WebElement (session=\"268c4b80a264bc866401249ab4a436b6\", element=\"9274579b-0452-4a41-a801-a09c824f7606\")>,\n",
       " <selenium.webdriver.remote.webelement.WebElement (session=\"268c4b80a264bc866401249ab4a436b6\", element=\"eb9e9ba5-7630-441e-b626-94f6a84aa5e7\")>,\n",
       " <selenium.webdriver.remote.webelement.WebElement (session=\"268c4b80a264bc866401249ab4a436b6\", element=\"1eb4c88b-aaf4-49aa-ae25-c3e5c2d97d6e\")>,\n",
       " <selenium.webdriver.remote.webelement.WebElement (session=\"268c4b80a264bc866401249ab4a436b6\", element=\"18db6cdc-6c61-4cc4-9378-f1266a4275fe\")>,\n",
       " <selenium.webdriver.remote.webelement.WebElement (session=\"268c4b80a264bc866401249ab4a436b6\", element=\"76d23466-af3a-481e-9cbf-05abf425a66d\")>]"
      ]
     },
     "execution_count": 59,
     "metadata": {},
     "output_type": "execute_result"
    }
   ],
   "source": [
    "cname_tags3 = driver.find_elements_by_xpath(\"//a[@class='subTitle ellipsis fleft']\")\n",
    "cname_tags3[0 : 10]"
   ]
  },
  {
   "cell_type": "code",
   "execution_count": 60,
   "id": "dad204cc",
   "metadata": {
    "collapsed": true
   },
   "outputs": [
    {
     "data": {
      "text/plain": [
       "['Think i',\n",
       " 'MoMagic Technologies Pvt. Ltd.',\n",
       " 'MoMagic Technologies Pvt. Ltd.',\n",
       " 'Shriram Automall India Limited',\n",
       " 'Optum Global Solutions (India) Private Limited',\n",
       " 'SVK Global Solutions Private Limited',\n",
       " 'CALIBEHR BUSINESS SUPPORT SERVICES PRIVATE LIMITED',\n",
       " 'iHackers Inc',\n",
       " 'Fractal Analytics',\n",
       " 'Tidyquant (OPC) Private Limited']"
      ]
     },
     "execution_count": 60,
     "metadata": {},
     "output_type": "execute_result"
    }
   ],
   "source": [
    "for i in cname_tags3:\n",
    "    c = i.text\n",
    "    cnames3.append(c)\n",
    "cnames3[0 : 10]"
   ]
  },
  {
   "cell_type": "code",
   "execution_count": 61,
   "id": "ea312d17",
   "metadata": {
    "collapsed": true
   },
   "outputs": [
    {
     "name": "stderr",
     "output_type": "stream",
     "text": [
      "<ipython-input-61-cb0a3a4ffdf7>:1: DeprecationWarning: find_elements_by_* commands are deprecated. Please use find_elements() instead\n",
      "  loc_tags3 = driver.find_elements_by_xpath(\"//li[@class='fleft grey-text br2 placeHolderLi location']/span[1]\")\n"
     ]
    },
    {
     "data": {
      "text/plain": [
       "[<selenium.webdriver.remote.webelement.WebElement (session=\"268c4b80a264bc866401249ab4a436b6\", element=\"155ce3da-4e04-4b0f-b302-8cba774beb4a\")>,\n",
       " <selenium.webdriver.remote.webelement.WebElement (session=\"268c4b80a264bc866401249ab4a436b6\", element=\"664c1ee5-2102-466b-97a9-ccb1ec94e0c6\")>,\n",
       " <selenium.webdriver.remote.webelement.WebElement (session=\"268c4b80a264bc866401249ab4a436b6\", element=\"941a9927-04b4-4549-b261-1382affae3b7\")>,\n",
       " <selenium.webdriver.remote.webelement.WebElement (session=\"268c4b80a264bc866401249ab4a436b6\", element=\"d38fe686-27b5-4021-81d9-92cfc4c70a4c\")>,\n",
       " <selenium.webdriver.remote.webelement.WebElement (session=\"268c4b80a264bc866401249ab4a436b6\", element=\"242780e0-05f6-4c83-9a8e-0c47cd848480\")>,\n",
       " <selenium.webdriver.remote.webelement.WebElement (session=\"268c4b80a264bc866401249ab4a436b6\", element=\"f073b93f-5b11-4640-b839-7372ada156bc\")>,\n",
       " <selenium.webdriver.remote.webelement.WebElement (session=\"268c4b80a264bc866401249ab4a436b6\", element=\"fd28b2d4-f404-4d21-8e44-81862e374f79\")>,\n",
       " <selenium.webdriver.remote.webelement.WebElement (session=\"268c4b80a264bc866401249ab4a436b6\", element=\"184519ac-0508-4451-92b5-9bf8ef7c55b6\")>,\n",
       " <selenium.webdriver.remote.webelement.WebElement (session=\"268c4b80a264bc866401249ab4a436b6\", element=\"8dd9cec1-1dd2-4b34-9358-67ad508d66b1\")>,\n",
       " <selenium.webdriver.remote.webelement.WebElement (session=\"268c4b80a264bc866401249ab4a436b6\", element=\"977bf66a-7b2e-4219-b7bd-b2a27634b7ce\")>]"
      ]
     },
     "execution_count": 61,
     "metadata": {},
     "output_type": "execute_result"
    }
   ],
   "source": [
    "loc_tags3 = driver.find_elements_by_xpath(\"//li[@class='fleft grey-text br2 placeHolderLi location']/span[1]\")\n",
    "loc_tags3[0 : 10]"
   ]
  },
  {
   "cell_type": "code",
   "execution_count": 62,
   "id": "83296e62",
   "metadata": {
    "collapsed": true
   },
   "outputs": [
    {
     "data": {
      "text/plain": [
       "['Kochi/Cochin, Kolkata, Hyderabad/Secunderabad, Pune, Ahmedabad, Chennai, Bangalore/Bengaluru, Delhi / NCR, Mumbai (All Areas)',\n",
       " 'Noida(Sector-126 Noida)',\n",
       " 'Noida(Sector-126 Noida)',\n",
       " 'Delhi / NCR',\n",
       " 'Noida, Gurgaon/Gurugram',\n",
       " 'Noida',\n",
       " 'Mumbai, Hyderabad/Secunderabad, Pune, Chennai, Tamia, Bangalore/Bengaluru, Delhi / NCR',\n",
       " 'New Delhi',\n",
       " 'Mumbai, Gurgaon/Gurugram, Bangalore/Bengaluru',\n",
       " 'Remote']"
      ]
     },
     "execution_count": 62,
     "metadata": {},
     "output_type": "execute_result"
    }
   ],
   "source": [
    "for i in loc_tags3:\n",
    "    l = i.text\n",
    "    locs3.append(l)\n",
    "locs3[0 : 10]"
   ]
  },
  {
   "cell_type": "code",
   "execution_count": 63,
   "id": "8cdf46a9",
   "metadata": {
    "collapsed": true
   },
   "outputs": [
    {
     "name": "stderr",
     "output_type": "stream",
     "text": [
      "<ipython-input-63-168d783b6f2c>:1: DeprecationWarning: find_elements_by_* commands are deprecated. Please use find_elements() instead\n",
      "  exp_tags3 = driver.find_elements_by_xpath(\"//li[@class='fleft grey-text br2 placeHolderLi experience']/span[1]\")\n"
     ]
    },
    {
     "data": {
      "text/plain": [
       "[<selenium.webdriver.remote.webelement.WebElement (session=\"268c4b80a264bc866401249ab4a436b6\", element=\"0bfc4382-5c39-40ef-bec1-12d71ea60689\")>,\n",
       " <selenium.webdriver.remote.webelement.WebElement (session=\"268c4b80a264bc866401249ab4a436b6\", element=\"282ea94a-4938-48c5-b43f-89f58f084371\")>,\n",
       " <selenium.webdriver.remote.webelement.WebElement (session=\"268c4b80a264bc866401249ab4a436b6\", element=\"a233dd5f-c4af-4ac4-afdc-8101a85dc69f\")>,\n",
       " <selenium.webdriver.remote.webelement.WebElement (session=\"268c4b80a264bc866401249ab4a436b6\", element=\"0dbf0231-2c4d-44cb-a0ac-e99018e89703\")>,\n",
       " <selenium.webdriver.remote.webelement.WebElement (session=\"268c4b80a264bc866401249ab4a436b6\", element=\"7a4356d8-d4ab-496b-9159-03595dea7e5f\")>,\n",
       " <selenium.webdriver.remote.webelement.WebElement (session=\"268c4b80a264bc866401249ab4a436b6\", element=\"7e647260-3385-40a5-acd1-4a9f2d2dec69\")>,\n",
       " <selenium.webdriver.remote.webelement.WebElement (session=\"268c4b80a264bc866401249ab4a436b6\", element=\"349d9979-6f21-416b-a868-22627c8c9eb4\")>,\n",
       " <selenium.webdriver.remote.webelement.WebElement (session=\"268c4b80a264bc866401249ab4a436b6\", element=\"ae940802-8d38-4923-a0cd-aeb9de586053\")>,\n",
       " <selenium.webdriver.remote.webelement.WebElement (session=\"268c4b80a264bc866401249ab4a436b6\", element=\"bd70a648-db43-4ca3-8190-bc673ce253d9\")>,\n",
       " <selenium.webdriver.remote.webelement.WebElement (session=\"268c4b80a264bc866401249ab4a436b6\", element=\"786a03c6-8e76-4a0c-b049-0be072390cbb\")>]"
      ]
     },
     "execution_count": 63,
     "metadata": {},
     "output_type": "execute_result"
    }
   ],
   "source": [
    "exp_tags3 = driver.find_elements_by_xpath(\"//li[@class='fleft grey-text br2 placeHolderLi experience']/span[1]\")\n",
    "exp_tags3[0 : 10]"
   ]
  },
  {
   "cell_type": "code",
   "execution_count": 64,
   "id": "683939e4",
   "metadata": {
    "collapsed": true
   },
   "outputs": [
    {
     "data": {
      "text/plain": [
       "['0-2 Yrs',\n",
       " '4-6 Yrs',\n",
       " '4-6 Yrs',\n",
       " '2-7 Yrs',\n",
       " '2-6 Yrs',\n",
       " '6-10 Yrs',\n",
       " '2-7 Yrs',\n",
       " '0-1 Yrs',\n",
       " '3-7 Yrs',\n",
       " '2-7 Yrs']"
      ]
     },
     "execution_count": 64,
     "metadata": {},
     "output_type": "execute_result"
    }
   ],
   "source": [
    "for i in exp_tags3:\n",
    "    e = i.text\n",
    "    exps3.append(e)\n",
    "exps3[0 : 10]"
   ]
  },
  {
   "cell_type": "code",
   "execution_count": 65,
   "id": "6e384c95",
   "metadata": {},
   "outputs": [],
   "source": [
    "jobs3 = pd.DataFrame({})\n",
    "jobs3['Title'] = titles3[0 : 10]\n",
    "jobs3['Company Name'] = cnames3[0 : 10]\n",
    "jobs3['Location'] = locs3[0 : 10]\n",
    "jobs3['Experience'] = exps3[0 : 10]"
   ]
  },
  {
   "cell_type": "code",
   "execution_count": 66,
   "id": "28db2657",
   "metadata": {},
   "outputs": [
    {
     "data": {
      "text/html": [
       "<div>\n",
       "<style scoped>\n",
       "    .dataframe tbody tr th:only-of-type {\n",
       "        vertical-align: middle;\n",
       "    }\n",
       "\n",
       "    .dataframe tbody tr th {\n",
       "        vertical-align: top;\n",
       "    }\n",
       "\n",
       "    .dataframe thead th {\n",
       "        text-align: right;\n",
       "    }\n",
       "</style>\n",
       "<table border=\"1\" class=\"dataframe\">\n",
       "  <thead>\n",
       "    <tr style=\"text-align: right;\">\n",
       "      <th></th>\n",
       "      <th>Title</th>\n",
       "      <th>Company Name</th>\n",
       "      <th>Location</th>\n",
       "      <th>Experience</th>\n",
       "    </tr>\n",
       "  </thead>\n",
       "  <tbody>\n",
       "    <tr>\n",
       "      <th>0</th>\n",
       "      <td>Data Scientist</td>\n",
       "      <td>Think i</td>\n",
       "      <td>Kochi/Cochin, Kolkata, Hyderabad/Secunderabad,...</td>\n",
       "      <td>0-2 Yrs</td>\n",
       "    </tr>\n",
       "    <tr>\n",
       "      <th>1</th>\n",
       "      <td>Data Scientist</td>\n",
       "      <td>MoMagic Technologies Pvt. Ltd.</td>\n",
       "      <td>Noida(Sector-126 Noida)</td>\n",
       "      <td>4-6 Yrs</td>\n",
       "    </tr>\n",
       "    <tr>\n",
       "      <th>2</th>\n",
       "      <td>Data Scientist</td>\n",
       "      <td>MoMagic Technologies Pvt. Ltd.</td>\n",
       "      <td>Noida(Sector-126 Noida)</td>\n",
       "      <td>4-6 Yrs</td>\n",
       "    </tr>\n",
       "    <tr>\n",
       "      <th>3</th>\n",
       "      <td>Urgent Hiring || Data Scientist || Delhi</td>\n",
       "      <td>Shriram Automall India Limited</td>\n",
       "      <td>Delhi / NCR</td>\n",
       "      <td>2-7 Yrs</td>\n",
       "    </tr>\n",
       "    <tr>\n",
       "      <th>4</th>\n",
       "      <td>Data Scientist</td>\n",
       "      <td>Optum Global Solutions (India) Private Limited</td>\n",
       "      <td>Noida, Gurgaon/Gurugram</td>\n",
       "      <td>2-6 Yrs</td>\n",
       "    </tr>\n",
       "    <tr>\n",
       "      <th>5</th>\n",
       "      <td>Data Scientist</td>\n",
       "      <td>SVK Global Solutions Private Limited</td>\n",
       "      <td>Noida</td>\n",
       "      <td>6-10 Yrs</td>\n",
       "    </tr>\n",
       "    <tr>\n",
       "      <th>6</th>\n",
       "      <td>Immediate requirement For Data Scientist</td>\n",
       "      <td>CALIBEHR BUSINESS SUPPORT SERVICES PRIVATE LIM...</td>\n",
       "      <td>Mumbai, Hyderabad/Secunderabad, Pune, Chennai,...</td>\n",
       "      <td>2-7 Yrs</td>\n",
       "    </tr>\n",
       "    <tr>\n",
       "      <th>7</th>\n",
       "      <td>Data Scientist Internship</td>\n",
       "      <td>iHackers Inc</td>\n",
       "      <td>New Delhi</td>\n",
       "      <td>0-1 Yrs</td>\n",
       "    </tr>\n",
       "    <tr>\n",
       "      <th>8</th>\n",
       "      <td>Data Scientist</td>\n",
       "      <td>Fractal Analytics</td>\n",
       "      <td>Mumbai, Gurgaon/Gurugram, Bangalore/Bengaluru</td>\n",
       "      <td>3-7 Yrs</td>\n",
       "    </tr>\n",
       "    <tr>\n",
       "      <th>9</th>\n",
       "      <td>Project Manager | Team Leader | Senior Data Sc...</td>\n",
       "      <td>Tidyquant (OPC) Private Limited</td>\n",
       "      <td>Remote</td>\n",
       "      <td>2-7 Yrs</td>\n",
       "    </tr>\n",
       "  </tbody>\n",
       "</table>\n",
       "</div>"
      ],
      "text/plain": [
       "                                               Title  \\\n",
       "0                                     Data Scientist   \n",
       "1                                     Data Scientist   \n",
       "2                                     Data Scientist   \n",
       "3           Urgent Hiring || Data Scientist || Delhi   \n",
       "4                                     Data Scientist   \n",
       "5                                     Data Scientist   \n",
       "6           Immediate requirement For Data Scientist   \n",
       "7                          Data Scientist Internship   \n",
       "8                                     Data Scientist   \n",
       "9  Project Manager | Team Leader | Senior Data Sc...   \n",
       "\n",
       "                                        Company Name  \\\n",
       "0                                            Think i   \n",
       "1                     MoMagic Technologies Pvt. Ltd.   \n",
       "2                     MoMagic Technologies Pvt. Ltd.   \n",
       "3                     Shriram Automall India Limited   \n",
       "4     Optum Global Solutions (India) Private Limited   \n",
       "5               SVK Global Solutions Private Limited   \n",
       "6  CALIBEHR BUSINESS SUPPORT SERVICES PRIVATE LIM...   \n",
       "7                                       iHackers Inc   \n",
       "8                                  Fractal Analytics   \n",
       "9                    Tidyquant (OPC) Private Limited   \n",
       "\n",
       "                                            Location Experience  \n",
       "0  Kochi/Cochin, Kolkata, Hyderabad/Secunderabad,...    0-2 Yrs  \n",
       "1                            Noida(Sector-126 Noida)    4-6 Yrs  \n",
       "2                            Noida(Sector-126 Noida)    4-6 Yrs  \n",
       "3                                        Delhi / NCR    2-7 Yrs  \n",
       "4                            Noida, Gurgaon/Gurugram    2-6 Yrs  \n",
       "5                                              Noida   6-10 Yrs  \n",
       "6  Mumbai, Hyderabad/Secunderabad, Pune, Chennai,...    2-7 Yrs  \n",
       "7                                          New Delhi    0-1 Yrs  \n",
       "8      Mumbai, Gurgaon/Gurugram, Bangalore/Bengaluru    3-7 Yrs  \n",
       "9                                             Remote    2-7 Yrs  "
      ]
     },
     "execution_count": 66,
     "metadata": {},
     "output_type": "execute_result"
    }
   ],
   "source": [
    "jobs3"
   ]
  },
  {
   "cell_type": "markdown",
   "id": "230aa18e",
   "metadata": {},
   "source": [
    "Q.4: Scrape data of first 100 sunglasses listings on flipkart.com. You have to scrape four attributes:\n",
    "1. Brand\n",
    "2. Product Description\n",
    "3. Price\n",
    "The attributes which you have to scrape is ticked marked in the below image.\n",
    "\n",
    "To scrape the data you have to go through following steps:\n",
    "1. Go to Flipkart webpage by url : https://www.flipkart.com/\n",
    "2. Enter “sunglasses” in the search field where “search for products, brands and more” is written and\n",
    "click the search icon\n",
    "3. After that you will reach to the page having a lot of sunglasses. From this page you can scrap the\n",
    "required data as usual.\n",
    "4. After scraping data from the first page, go to the “Next” Button at the bottom of the page , then\n",
    "click on it.\n",
    "5. Now scrape data from this page as usual\n",
    "6. Repeat this until you get data for 100 sunglasses."
   ]
  },
  {
   "cell_type": "code",
   "execution_count": 7,
   "id": "dd33ea24",
   "metadata": {},
   "outputs": [
    {
     "name": "stderr",
     "output_type": "stream",
     "text": [
      "<ipython-input-7-ca3cca990a32>:1: DeprecationWarning: executable_path has been deprecated, please pass in a Service object\n",
      "  driver = webdriver.Chrome(chrome_driver)\n"
     ]
    }
   ],
   "source": [
    "driver = webdriver.Chrome(chrome_driver)\n",
    "driver.get(' https://www.flipkart.com/')"
   ]
  },
  {
   "cell_type": "code",
   "execution_count": 8,
   "id": "c1b2a9f3",
   "metadata": {},
   "outputs": [
    {
     "name": "stderr",
     "output_type": "stream",
     "text": [
      "<ipython-input-8-e8ce0a83ecc3>:1: DeprecationWarning: find_element_by_* commands are deprecated. Please use find_element() instead\n",
      "  search_job = driver.find_element_by_name('q')\n",
      "<ipython-input-8-e8ce0a83ecc3>:3: DeprecationWarning: find_element_by_* commands are deprecated. Please use find_element() instead\n",
      "  search_btn = driver.find_element_by_tag_name('button')\n"
     ]
    }
   ],
   "source": [
    "search_job = driver.find_element_by_name('q')\n",
    "search_job.send_keys('Sunglasses')\n",
    "search_btn = driver.find_element_by_tag_name('button')\n",
    "search_btn.click()"
   ]
  },
  {
   "cell_type": "code",
   "execution_count": 167,
   "id": "e4c28385",
   "metadata": {},
   "outputs": [],
   "source": [
    "url4_pg1 = 'https://www.flipkart.com/search?q=Sunglasses&otracker=search&otracker1=search&marketplace=FLIPKART&as-show=off&as=off'\n",
    "driver.get(url4_pg1)"
   ]
  },
  {
   "cell_type": "code",
   "execution_count": 204,
   "id": "26ca7568",
   "metadata": {},
   "outputs": [],
   "source": [
    "brands_pg1 = []\n",
    "descr_pg1 = []\n",
    "prices_pg1 = []\n",
    "discounts_pg1 = []"
   ]
  },
  {
   "cell_type": "code",
   "execution_count": 205,
   "id": "2b008dd2",
   "metadata": {
    "collapsed": true
   },
   "outputs": [
    {
     "name": "stderr",
     "output_type": "stream",
     "text": [
      "<ipython-input-205-ab7954a6aeb8>:1: DeprecationWarning: find_elements_by_* commands are deprecated. Please use find_elements() instead\n",
      "  brand_tags_pg1 = driver.find_elements_by_class_name(\"_2WkVRV\")\n"
     ]
    },
    {
     "data": {
      "text/plain": [
       "[<selenium.webdriver.remote.webelement.WebElement (session=\"8bd13d75bb9a9dce692258598b994e7e\", element=\"1d9e343b-526b-4512-85b8-addca22584d5\")>,\n",
       " <selenium.webdriver.remote.webelement.WebElement (session=\"8bd13d75bb9a9dce692258598b994e7e\", element=\"d0a73916-d0e0-4a38-8a66-a65fdea75ec7\")>,\n",
       " <selenium.webdriver.remote.webelement.WebElement (session=\"8bd13d75bb9a9dce692258598b994e7e\", element=\"86501508-1a12-4636-a76d-ea14c89c7964\")>,\n",
       " <selenium.webdriver.remote.webelement.WebElement (session=\"8bd13d75bb9a9dce692258598b994e7e\", element=\"b927d408-4eaa-4eb9-9f15-ce68870325cd\")>,\n",
       " <selenium.webdriver.remote.webelement.WebElement (session=\"8bd13d75bb9a9dce692258598b994e7e\", element=\"df167f0f-aa76-454d-a3f3-0abd69929501\")>,\n",
       " <selenium.webdriver.remote.webelement.WebElement (session=\"8bd13d75bb9a9dce692258598b994e7e\", element=\"3b11d4d0-d125-41a2-9e9e-51ec4d1ac18e\")>,\n",
       " <selenium.webdriver.remote.webelement.WebElement (session=\"8bd13d75bb9a9dce692258598b994e7e\", element=\"b6859827-247f-4382-b48a-a857de4c456f\")>,\n",
       " <selenium.webdriver.remote.webelement.WebElement (session=\"8bd13d75bb9a9dce692258598b994e7e\", element=\"1202f1f5-127d-4486-baf5-3d77e39828f7\")>,\n",
       " <selenium.webdriver.remote.webelement.WebElement (session=\"8bd13d75bb9a9dce692258598b994e7e\", element=\"7504b61e-45c2-4d9b-b144-88336675ed75\")>,\n",
       " <selenium.webdriver.remote.webelement.WebElement (session=\"8bd13d75bb9a9dce692258598b994e7e\", element=\"7f578b04-c393-42e3-a82c-4ab0c3dbd83b\")>,\n",
       " <selenium.webdriver.remote.webelement.WebElement (session=\"8bd13d75bb9a9dce692258598b994e7e\", element=\"8db64193-7951-4bf3-826a-fd88c01101c8\")>,\n",
       " <selenium.webdriver.remote.webelement.WebElement (session=\"8bd13d75bb9a9dce692258598b994e7e\", element=\"62842381-b78d-42a9-b68a-8ed2f22f9f4c\")>,\n",
       " <selenium.webdriver.remote.webelement.WebElement (session=\"8bd13d75bb9a9dce692258598b994e7e\", element=\"64cbe691-dc80-4d25-8722-f8ce247e7497\")>,\n",
       " <selenium.webdriver.remote.webelement.WebElement (session=\"8bd13d75bb9a9dce692258598b994e7e\", element=\"fc309415-d774-4f99-9be6-143fd3daadb4\")>,\n",
       " <selenium.webdriver.remote.webelement.WebElement (session=\"8bd13d75bb9a9dce692258598b994e7e\", element=\"d5dd2ef1-84a4-4abd-a9b9-e08dbb243266\")>,\n",
       " <selenium.webdriver.remote.webelement.WebElement (session=\"8bd13d75bb9a9dce692258598b994e7e\", element=\"ce45c049-b5bd-4556-a388-64a94d1db7a8\")>,\n",
       " <selenium.webdriver.remote.webelement.WebElement (session=\"8bd13d75bb9a9dce692258598b994e7e\", element=\"845f6215-8f9b-49b9-a1b8-e0c8c81a39c2\")>,\n",
       " <selenium.webdriver.remote.webelement.WebElement (session=\"8bd13d75bb9a9dce692258598b994e7e\", element=\"dde332d4-747c-440e-b38c-92be522da38a\")>,\n",
       " <selenium.webdriver.remote.webelement.WebElement (session=\"8bd13d75bb9a9dce692258598b994e7e\", element=\"480a565c-6021-44a3-920d-0101cfef5a4d\")>,\n",
       " <selenium.webdriver.remote.webelement.WebElement (session=\"8bd13d75bb9a9dce692258598b994e7e\", element=\"20b20821-1a61-4de4-8b89-d51042380e78\")>,\n",
       " <selenium.webdriver.remote.webelement.WebElement (session=\"8bd13d75bb9a9dce692258598b994e7e\", element=\"2caba2fe-43f1-4273-9606-feec30456e04\")>,\n",
       " <selenium.webdriver.remote.webelement.WebElement (session=\"8bd13d75bb9a9dce692258598b994e7e\", element=\"c9dcb169-4de5-4bc8-818a-1a14e2efa0ef\")>,\n",
       " <selenium.webdriver.remote.webelement.WebElement (session=\"8bd13d75bb9a9dce692258598b994e7e\", element=\"1d7a59f6-bf21-4aec-ac4a-d98ae1d18728\")>,\n",
       " <selenium.webdriver.remote.webelement.WebElement (session=\"8bd13d75bb9a9dce692258598b994e7e\", element=\"dabd0c27-01ae-4978-b3fb-158cc66eee5f\")>,\n",
       " <selenium.webdriver.remote.webelement.WebElement (session=\"8bd13d75bb9a9dce692258598b994e7e\", element=\"95e0152e-db8f-4bb6-941e-c9299af2425a\")>,\n",
       " <selenium.webdriver.remote.webelement.WebElement (session=\"8bd13d75bb9a9dce692258598b994e7e\", element=\"0179b688-275d-49e7-89f0-8f53bf4d9388\")>,\n",
       " <selenium.webdriver.remote.webelement.WebElement (session=\"8bd13d75bb9a9dce692258598b994e7e\", element=\"c6a2a9fd-6b7f-412b-8b1f-711274e15a09\")>,\n",
       " <selenium.webdriver.remote.webelement.WebElement (session=\"8bd13d75bb9a9dce692258598b994e7e\", element=\"fe1cab40-80cd-4772-b4b8-cd84ac10122c\")>,\n",
       " <selenium.webdriver.remote.webelement.WebElement (session=\"8bd13d75bb9a9dce692258598b994e7e\", element=\"f3bc41f3-a5bc-4db6-a690-f4ebf3ca0d81\")>,\n",
       " <selenium.webdriver.remote.webelement.WebElement (session=\"8bd13d75bb9a9dce692258598b994e7e\", element=\"36a3f5a9-8b9f-407b-bae3-2f957a593f63\")>,\n",
       " <selenium.webdriver.remote.webelement.WebElement (session=\"8bd13d75bb9a9dce692258598b994e7e\", element=\"139818b2-04d6-42bb-892e-b851027beb56\")>,\n",
       " <selenium.webdriver.remote.webelement.WebElement (session=\"8bd13d75bb9a9dce692258598b994e7e\", element=\"cc9de22b-16a9-42d9-961c-994b3021e031\")>,\n",
       " <selenium.webdriver.remote.webelement.WebElement (session=\"8bd13d75bb9a9dce692258598b994e7e\", element=\"007d925a-2bc9-4813-a360-96e8b054a254\")>,\n",
       " <selenium.webdriver.remote.webelement.WebElement (session=\"8bd13d75bb9a9dce692258598b994e7e\", element=\"558b1740-3f1c-4ef7-91e7-915d39bb89d1\")>,\n",
       " <selenium.webdriver.remote.webelement.WebElement (session=\"8bd13d75bb9a9dce692258598b994e7e\", element=\"fe93cf5f-ff4d-4f5d-8aa4-126eca475bfe\")>,\n",
       " <selenium.webdriver.remote.webelement.WebElement (session=\"8bd13d75bb9a9dce692258598b994e7e\", element=\"5ef7484e-a525-4c1f-803a-2767e043f33e\")>,\n",
       " <selenium.webdriver.remote.webelement.WebElement (session=\"8bd13d75bb9a9dce692258598b994e7e\", element=\"9e42936e-b293-4c31-973e-a245c53f701a\")>,\n",
       " <selenium.webdriver.remote.webelement.WebElement (session=\"8bd13d75bb9a9dce692258598b994e7e\", element=\"8cc89c14-554b-4624-a86a-894bea4ea4f1\")>,\n",
       " <selenium.webdriver.remote.webelement.WebElement (session=\"8bd13d75bb9a9dce692258598b994e7e\", element=\"4d057b75-e104-4920-9fea-3d9a5c2c692a\")>,\n",
       " <selenium.webdriver.remote.webelement.WebElement (session=\"8bd13d75bb9a9dce692258598b994e7e\", element=\"f7d80cad-15b4-48bf-af1b-66e1a70e6c81\")>]"
      ]
     },
     "execution_count": 205,
     "metadata": {},
     "output_type": "execute_result"
    }
   ],
   "source": [
    "brand_tags_pg1 = driver.find_elements_by_class_name(\"_2WkVRV\")\n",
    "brand_tags_pg1"
   ]
  },
  {
   "cell_type": "code",
   "execution_count": 206,
   "id": "91f552a6",
   "metadata": {
    "collapsed": true
   },
   "outputs": [
    {
     "data": {
      "text/plain": [
       "['ROYAL SON',\n",
       " 'ROYAL SON',\n",
       " 'Fastrack',\n",
       " 'Elligator',\n",
       " 'PIRASO',\n",
       " 'PIRASO',\n",
       " 'GANSTA',\n",
       " 'ROZZETTA CRAFT',\n",
       " 'SHAAH COLLECTIONS',\n",
       " 'HIPPON',\n",
       " 'hipe',\n",
       " 'ROYAL SON',\n",
       " 'SUNBEE',\n",
       " 'PHENOMENAL',\n",
       " 'ROYAL SON',\n",
       " 'ROYAL SON',\n",
       " 'SRPM',\n",
       " 'SHAAH COLLECTIONS',\n",
       " 'ROZZETTA CRAFT',\n",
       " 'ROZZETTA CRAFT',\n",
       " 'SHAAH COLLECTIONS',\n",
       " 'Rich Club',\n",
       " 'Elligator',\n",
       " 'PIRASO',\n",
       " 'kingsunglasses',\n",
       " 'Silver Kartz',\n",
       " 'ROYAL SON',\n",
       " 'ROYAL SON',\n",
       " 'Fastrack',\n",
       " 'ROZZETTA CRAFT',\n",
       " 'Fastrack',\n",
       " 'VINCENT CHASE',\n",
       " 'SUNBEE',\n",
       " 'NuVew',\n",
       " 'PIRASO',\n",
       " 'PIRASO',\n",
       " 'PIRASO',\n",
       " 'ABNER',\n",
       " 'Lee Topper',\n",
       " 'Fravy']"
      ]
     },
     "execution_count": 206,
     "metadata": {},
     "output_type": "execute_result"
    }
   ],
   "source": [
    "for i in brand_tags_pg1:\n",
    "    t = i.text\n",
    "    brands_pg1.append(t)\n",
    "brands_pg1"
   ]
  },
  {
   "cell_type": "code",
   "execution_count": 207,
   "id": "74b51530",
   "metadata": {},
   "outputs": [
    {
     "data": {
      "text/plain": [
       "40"
      ]
     },
     "execution_count": 207,
     "metadata": {},
     "output_type": "execute_result"
    }
   ],
   "source": [
    "len(brands_pg1)"
   ]
  },
  {
   "cell_type": "code",
   "execution_count": 208,
   "id": "084f5a75",
   "metadata": {
    "collapsed": true
   },
   "outputs": [
    {
     "name": "stderr",
     "output_type": "stream",
     "text": [
      "<ipython-input-208-167f548650de>:1: DeprecationWarning: find_elements_by_* commands are deprecated. Please use find_elements() instead\n",
      "  descr_tags_pg1 = driver.find_elements_by_class_name(\"IRpwTa\")\n"
     ]
    },
    {
     "data": {
      "text/plain": [
       "[<selenium.webdriver.remote.webelement.WebElement (session=\"8bd13d75bb9a9dce692258598b994e7e\", element=\"0289f859-bc1b-49f4-bc1b-3e42e48079c7\")>,\n",
       " <selenium.webdriver.remote.webelement.WebElement (session=\"8bd13d75bb9a9dce692258598b994e7e\", element=\"e9cb48a0-43c9-42b1-baaf-ae19cc01c24a\")>,\n",
       " <selenium.webdriver.remote.webelement.WebElement (session=\"8bd13d75bb9a9dce692258598b994e7e\", element=\"2ca5ce2e-fecc-4a97-92f1-53150f384319\")>,\n",
       " <selenium.webdriver.remote.webelement.WebElement (session=\"8bd13d75bb9a9dce692258598b994e7e\", element=\"55d9023b-e8f0-4a5a-abce-7a619ee654c1\")>,\n",
       " <selenium.webdriver.remote.webelement.WebElement (session=\"8bd13d75bb9a9dce692258598b994e7e\", element=\"10775913-ea12-4771-9146-6a8e459d8170\")>,\n",
       " <selenium.webdriver.remote.webelement.WebElement (session=\"8bd13d75bb9a9dce692258598b994e7e\", element=\"c710cf86-bf6b-4201-b64e-92cb4da5cff1\")>,\n",
       " <selenium.webdriver.remote.webelement.WebElement (session=\"8bd13d75bb9a9dce692258598b994e7e\", element=\"4a748e07-7a0e-4c58-a511-b8447635f61d\")>,\n",
       " <selenium.webdriver.remote.webelement.WebElement (session=\"8bd13d75bb9a9dce692258598b994e7e\", element=\"b7adc376-17aa-4280-bd63-6882d582cda5\")>,\n",
       " <selenium.webdriver.remote.webelement.WebElement (session=\"8bd13d75bb9a9dce692258598b994e7e\", element=\"d9553b75-2a52-45fb-9a59-9f6e98b85d87\")>,\n",
       " <selenium.webdriver.remote.webelement.WebElement (session=\"8bd13d75bb9a9dce692258598b994e7e\", element=\"c422ea4a-1225-42c8-8374-122cbf26e9af\")>,\n",
       " <selenium.webdriver.remote.webelement.WebElement (session=\"8bd13d75bb9a9dce692258598b994e7e\", element=\"41b009d1-90d4-499f-8ccc-d5ace3aee4f2\")>,\n",
       " <selenium.webdriver.remote.webelement.WebElement (session=\"8bd13d75bb9a9dce692258598b994e7e\", element=\"585e5b35-7283-4b33-81fc-895de92220b6\")>,\n",
       " <selenium.webdriver.remote.webelement.WebElement (session=\"8bd13d75bb9a9dce692258598b994e7e\", element=\"872a57dd-bc5d-429f-82bd-7417995fa012\")>,\n",
       " <selenium.webdriver.remote.webelement.WebElement (session=\"8bd13d75bb9a9dce692258598b994e7e\", element=\"4aa8ee0b-f788-477b-81f2-f147b5d14481\")>,\n",
       " <selenium.webdriver.remote.webelement.WebElement (session=\"8bd13d75bb9a9dce692258598b994e7e\", element=\"66f1d5df-c136-4d75-93a8-15e92ccec17d\")>,\n",
       " <selenium.webdriver.remote.webelement.WebElement (session=\"8bd13d75bb9a9dce692258598b994e7e\", element=\"018973f7-eeaf-4966-92f5-907fbd22a72d\")>,\n",
       " <selenium.webdriver.remote.webelement.WebElement (session=\"8bd13d75bb9a9dce692258598b994e7e\", element=\"839f2b43-7620-4081-9d8f-b5aa5b2ebc0b\")>,\n",
       " <selenium.webdriver.remote.webelement.WebElement (session=\"8bd13d75bb9a9dce692258598b994e7e\", element=\"0ecda3c2-b9b3-4e71-bfb7-ba0bc302ba43\")>,\n",
       " <selenium.webdriver.remote.webelement.WebElement (session=\"8bd13d75bb9a9dce692258598b994e7e\", element=\"77ca457f-c967-409f-a62f-081b7214b986\")>,\n",
       " <selenium.webdriver.remote.webelement.WebElement (session=\"8bd13d75bb9a9dce692258598b994e7e\", element=\"d9bd09e2-6936-4f13-9632-138d71621999\")>,\n",
       " <selenium.webdriver.remote.webelement.WebElement (session=\"8bd13d75bb9a9dce692258598b994e7e\", element=\"5602b5ab-d9db-44f4-8e40-fdcb1407a3e6\")>,\n",
       " <selenium.webdriver.remote.webelement.WebElement (session=\"8bd13d75bb9a9dce692258598b994e7e\", element=\"a3d92ea5-fa21-4c45-bbb3-097d04b0a88d\")>,\n",
       " <selenium.webdriver.remote.webelement.WebElement (session=\"8bd13d75bb9a9dce692258598b994e7e\", element=\"a3716aeb-42b4-40f4-96ef-cad4f6401a36\")>,\n",
       " <selenium.webdriver.remote.webelement.WebElement (session=\"8bd13d75bb9a9dce692258598b994e7e\", element=\"b4d766e2-d033-4dc8-ad27-8abe11d58b74\")>,\n",
       " <selenium.webdriver.remote.webelement.WebElement (session=\"8bd13d75bb9a9dce692258598b994e7e\", element=\"6b17df60-c957-4930-9991-8f660d6eadef\")>,\n",
       " <selenium.webdriver.remote.webelement.WebElement (session=\"8bd13d75bb9a9dce692258598b994e7e\", element=\"c85d2dd3-5cae-4004-b6c7-2c146e0c5fee\")>,\n",
       " <selenium.webdriver.remote.webelement.WebElement (session=\"8bd13d75bb9a9dce692258598b994e7e\", element=\"ebf2e17a-466b-47ec-96dc-7229218140c2\")>,\n",
       " <selenium.webdriver.remote.webelement.WebElement (session=\"8bd13d75bb9a9dce692258598b994e7e\", element=\"71b1cceb-fa32-4908-9214-fd153dd6aa2f\")>,\n",
       " <selenium.webdriver.remote.webelement.WebElement (session=\"8bd13d75bb9a9dce692258598b994e7e\", element=\"606ce8a9-a3df-4b92-b421-911d90da5eb6\")>,\n",
       " <selenium.webdriver.remote.webelement.WebElement (session=\"8bd13d75bb9a9dce692258598b994e7e\", element=\"ef43484a-aed5-46a2-bf14-5039a35ad357\")>,\n",
       " <selenium.webdriver.remote.webelement.WebElement (session=\"8bd13d75bb9a9dce692258598b994e7e\", element=\"db4ddd3c-70af-4583-ac42-2ad21969fa69\")>,\n",
       " <selenium.webdriver.remote.webelement.WebElement (session=\"8bd13d75bb9a9dce692258598b994e7e\", element=\"28bda7dd-ccd8-4ab1-8199-4bf18ea9551d\")>,\n",
       " <selenium.webdriver.remote.webelement.WebElement (session=\"8bd13d75bb9a9dce692258598b994e7e\", element=\"a8806d50-96b7-412c-b242-1a9e6770f743\")>,\n",
       " <selenium.webdriver.remote.webelement.WebElement (session=\"8bd13d75bb9a9dce692258598b994e7e\", element=\"d492dd7a-607f-48d7-9cf1-7128f8a7e893\")>,\n",
       " <selenium.webdriver.remote.webelement.WebElement (session=\"8bd13d75bb9a9dce692258598b994e7e\", element=\"3116adab-f8c4-49e1-9e5e-a31bc270b076\")>,\n",
       " <selenium.webdriver.remote.webelement.WebElement (session=\"8bd13d75bb9a9dce692258598b994e7e\", element=\"04a69b21-674b-45a6-9073-cdfcce57b24f\")>,\n",
       " <selenium.webdriver.remote.webelement.WebElement (session=\"8bd13d75bb9a9dce692258598b994e7e\", element=\"bd41bccd-4f35-4916-b7e6-0db365891d5c\")>,\n",
       " <selenium.webdriver.remote.webelement.WebElement (session=\"8bd13d75bb9a9dce692258598b994e7e\", element=\"3c38552c-8950-4d89-9ed2-2354d2879fed\")>,\n",
       " <selenium.webdriver.remote.webelement.WebElement (session=\"8bd13d75bb9a9dce692258598b994e7e\", element=\"4f75ffdb-df7d-43db-bed5-9fc4084dfc89\")>,\n",
       " <selenium.webdriver.remote.webelement.WebElement (session=\"8bd13d75bb9a9dce692258598b994e7e\", element=\"9aec6e27-7d71-4854-9ebe-54621175f124\")>]"
      ]
     },
     "execution_count": 208,
     "metadata": {},
     "output_type": "execute_result"
    }
   ],
   "source": [
    "descr_tags_pg1 = driver.find_elements_by_class_name(\"IRpwTa\")\n",
    "descr_tags_pg1"
   ]
  },
  {
   "cell_type": "code",
   "execution_count": 209,
   "id": "ed8dc9d8",
   "metadata": {
    "collapsed": true
   },
   "outputs": [
    {
     "data": {
      "text/plain": [
       "['UV Protection Retro Square Sunglasses (49)',\n",
       " 'Polarized, UV Protection Round Sunglasses (49)',\n",
       " 'UV Protection Rectangular Sunglasses (Free Size)',\n",
       " 'UV Protection Round Sunglasses (54)',\n",
       " 'UV Protection Aviator Sunglasses (54)',\n",
       " 'UV Protection Aviator Sunglasses (54)',\n",
       " 'UV Protection Aviator Sunglasses (57)',\n",
       " 'UV Protection, Gradient Retro Square Sunglasses (Free S...',\n",
       " 'UV Protection, Polarized, Mirrored Rectangular Sunglass...',\n",
       " 'UV Protection Wayfarer Sunglasses (55)',\n",
       " 'Mirrored, UV Protection, Gradient Round Sunglasses (55)',\n",
       " 'UV Protection Retro Square Sunglasses (88)',\n",
       " 'UV Protection, Polarized, Mirrored Round Sunglasses (Fr...',\n",
       " 'UV Protection Retro Square Sunglasses (Free Size)',\n",
       " 'Mirrored Aviator Sunglasses (55)',\n",
       " 'UV Protection Round Sunglasses (54)',\n",
       " 'UV Protection Wayfarer Sunglasses (56)',\n",
       " 'UV Protection Round Sunglasses (Free Size)',\n",
       " 'UV Protection, Gradient Rectangular Sunglasses (Free Si...',\n",
       " 'UV Protection, Riding Glasses Rectangular Sunglasses (F...',\n",
       " 'UV Protection, Polarized, Mirrored Rectangular Sunglass...',\n",
       " 'Polarized Round Sunglasses (48)',\n",
       " 'UV Protection Round Sunglasses (55)',\n",
       " 'UV Protection Rectangular, Over-sized Sunglasses (Free ...',\n",
       " 'Mirrored, UV Protection Wayfarer Sunglasses (Free Size)',\n",
       " 'UV Protection Wayfarer Sunglasses (Free Size)',\n",
       " 'UV Protection Retro Square Sunglasses (88)',\n",
       " 'Polarized, UV Protection Round Sunglasses (60)',\n",
       " 'UV Protection Wayfarer Sunglasses (Free Size)',\n",
       " 'UV Protection Retro Square Sunglasses (Free Size)',\n",
       " 'Gradient, UV Protection Wayfarer Sunglasses (Free Size)',\n",
       " 'by Lenskart Polarized, UV Protection Wayfarer Sunglasse...',\n",
       " 'UV Protection, Polarized, Mirrored Wayfarer Sunglasses ...',\n",
       " 'UV Protection, Night Vision, Riding Glasses Sports Sung...',\n",
       " 'UV Protection Aviator Sunglasses (54)',\n",
       " 'UV Protection Wayfarer Sunglasses (32)',\n",
       " 'UV Protection, Polarized Aviator Sunglasses (32)',\n",
       " 'UV Protection Retro Square Sunglasses (Free Size)',\n",
       " 'Riding Glasses, Night Vision Wrap-around Sunglasses (Fr...',\n",
       " 'UV Protection, Gradient, Night Vision Retro Square Sung...']"
      ]
     },
     "execution_count": 209,
     "metadata": {},
     "output_type": "execute_result"
    }
   ],
   "source": [
    "for i in descr_tags_pg1:\n",
    "    d = i.text\n",
    "    descr_pg1.append(d)\n",
    "descr_pg1"
   ]
  },
  {
   "cell_type": "code",
   "execution_count": 210,
   "id": "1c9165b4",
   "metadata": {},
   "outputs": [
    {
     "data": {
      "text/plain": [
       "40"
      ]
     },
     "execution_count": 210,
     "metadata": {},
     "output_type": "execute_result"
    }
   ],
   "source": [
    "len(descr_pg1)"
   ]
  },
  {
   "cell_type": "code",
   "execution_count": 211,
   "id": "7374882c",
   "metadata": {
    "collapsed": true
   },
   "outputs": [
    {
     "name": "stderr",
     "output_type": "stream",
     "text": [
      "<ipython-input-211-f09f17a44c04>:1: DeprecationWarning: find_elements_by_* commands are deprecated. Please use find_elements() instead\n",
      "  prices_tags_pg1 = driver.find_elements_by_xpath(\"//a[@class='_3bPFwb']//*[@class='_30jeq3']\") #//*[@class='_3Ay6Sb']\n"
     ]
    },
    {
     "data": {
      "text/plain": [
       "[<selenium.webdriver.remote.webelement.WebElement (session=\"8bd13d75bb9a9dce692258598b994e7e\", element=\"83ffdae7-715b-4667-bd19-f2712fab938a\")>,\n",
       " <selenium.webdriver.remote.webelement.WebElement (session=\"8bd13d75bb9a9dce692258598b994e7e\", element=\"14f1d1e4-aac0-4006-b9cb-bcec2ecc15a3\")>,\n",
       " <selenium.webdriver.remote.webelement.WebElement (session=\"8bd13d75bb9a9dce692258598b994e7e\", element=\"ae6a1a29-0953-4722-9b63-d2e6c03e5e82\")>,\n",
       " <selenium.webdriver.remote.webelement.WebElement (session=\"8bd13d75bb9a9dce692258598b994e7e\", element=\"2f1920d7-2f16-4505-a9a6-3f2a6f1fc074\")>,\n",
       " <selenium.webdriver.remote.webelement.WebElement (session=\"8bd13d75bb9a9dce692258598b994e7e\", element=\"85dfec25-b8e9-43ce-8096-b43c2ba6bae9\")>,\n",
       " <selenium.webdriver.remote.webelement.WebElement (session=\"8bd13d75bb9a9dce692258598b994e7e\", element=\"7b23c418-d098-4b55-9272-7ecc14672b30\")>,\n",
       " <selenium.webdriver.remote.webelement.WebElement (session=\"8bd13d75bb9a9dce692258598b994e7e\", element=\"15e59234-3297-40d9-9d0c-d51a627a362b\")>,\n",
       " <selenium.webdriver.remote.webelement.WebElement (session=\"8bd13d75bb9a9dce692258598b994e7e\", element=\"3e49faa3-7f35-473c-8db8-359cf0706ac2\")>,\n",
       " <selenium.webdriver.remote.webelement.WebElement (session=\"8bd13d75bb9a9dce692258598b994e7e\", element=\"804da05e-b408-4890-b0bf-4205f1d73345\")>,\n",
       " <selenium.webdriver.remote.webelement.WebElement (session=\"8bd13d75bb9a9dce692258598b994e7e\", element=\"42ab3d06-4fe0-40da-b535-4a4bd3610009\")>,\n",
       " <selenium.webdriver.remote.webelement.WebElement (session=\"8bd13d75bb9a9dce692258598b994e7e\", element=\"4ec37362-62eb-40e1-a5c0-14f52bc1e28e\")>,\n",
       " <selenium.webdriver.remote.webelement.WebElement (session=\"8bd13d75bb9a9dce692258598b994e7e\", element=\"95fadf98-df8b-49b1-b53d-c8a0b803913a\")>,\n",
       " <selenium.webdriver.remote.webelement.WebElement (session=\"8bd13d75bb9a9dce692258598b994e7e\", element=\"4b259145-a241-4706-9449-e709de4502f1\")>,\n",
       " <selenium.webdriver.remote.webelement.WebElement (session=\"8bd13d75bb9a9dce692258598b994e7e\", element=\"b217e45f-c581-4d7b-a396-129e3d9c29af\")>,\n",
       " <selenium.webdriver.remote.webelement.WebElement (session=\"8bd13d75bb9a9dce692258598b994e7e\", element=\"c62bf400-9d35-4e3b-94b8-99ae9c7d9f50\")>,\n",
       " <selenium.webdriver.remote.webelement.WebElement (session=\"8bd13d75bb9a9dce692258598b994e7e\", element=\"b39d196d-1d26-412b-a4b5-191f478bbb70\")>,\n",
       " <selenium.webdriver.remote.webelement.WebElement (session=\"8bd13d75bb9a9dce692258598b994e7e\", element=\"c643c1e0-0567-4e51-8d24-3610d03edb95\")>,\n",
       " <selenium.webdriver.remote.webelement.WebElement (session=\"8bd13d75bb9a9dce692258598b994e7e\", element=\"65c5118b-c368-42c1-a6fa-0005e23bcd29\")>,\n",
       " <selenium.webdriver.remote.webelement.WebElement (session=\"8bd13d75bb9a9dce692258598b994e7e\", element=\"e18d79bf-59a1-47cb-ad40-f99321fc003c\")>,\n",
       " <selenium.webdriver.remote.webelement.WebElement (session=\"8bd13d75bb9a9dce692258598b994e7e\", element=\"e06e7b83-5fb7-4cb3-86ee-1fca6fffc025\")>,\n",
       " <selenium.webdriver.remote.webelement.WebElement (session=\"8bd13d75bb9a9dce692258598b994e7e\", element=\"810fb2fb-add6-44e7-813a-05a9017a8117\")>,\n",
       " <selenium.webdriver.remote.webelement.WebElement (session=\"8bd13d75bb9a9dce692258598b994e7e\", element=\"8a8da09c-5ee7-473e-89c1-43fb2b41a546\")>,\n",
       " <selenium.webdriver.remote.webelement.WebElement (session=\"8bd13d75bb9a9dce692258598b994e7e\", element=\"864fc615-cd5d-4679-ba67-390d38e7c884\")>,\n",
       " <selenium.webdriver.remote.webelement.WebElement (session=\"8bd13d75bb9a9dce692258598b994e7e\", element=\"2b5f8f5d-678a-4132-b7c2-40e203913818\")>,\n",
       " <selenium.webdriver.remote.webelement.WebElement (session=\"8bd13d75bb9a9dce692258598b994e7e\", element=\"be5e4bb5-01db-4a5a-b35c-72a7edfbda31\")>,\n",
       " <selenium.webdriver.remote.webelement.WebElement (session=\"8bd13d75bb9a9dce692258598b994e7e\", element=\"72587c37-d162-4d68-8ec5-55d71a2f2829\")>,\n",
       " <selenium.webdriver.remote.webelement.WebElement (session=\"8bd13d75bb9a9dce692258598b994e7e\", element=\"479dd5ea-6a0b-4a6e-ad6b-b29a9499a6a5\")>,\n",
       " <selenium.webdriver.remote.webelement.WebElement (session=\"8bd13d75bb9a9dce692258598b994e7e\", element=\"9294f36a-942a-4d21-8ff1-c9be624f7b06\")>,\n",
       " <selenium.webdriver.remote.webelement.WebElement (session=\"8bd13d75bb9a9dce692258598b994e7e\", element=\"8b66692c-9738-4cc4-8c24-f9a85dacc7f2\")>,\n",
       " <selenium.webdriver.remote.webelement.WebElement (session=\"8bd13d75bb9a9dce692258598b994e7e\", element=\"afc903d7-4e97-422f-91b0-bdbd36073941\")>,\n",
       " <selenium.webdriver.remote.webelement.WebElement (session=\"8bd13d75bb9a9dce692258598b994e7e\", element=\"d263b704-9fd3-4aac-b7c0-dcf66c4c7bb6\")>,\n",
       " <selenium.webdriver.remote.webelement.WebElement (session=\"8bd13d75bb9a9dce692258598b994e7e\", element=\"727eba09-2b2b-499e-b04e-ce30b1bd8dc0\")>,\n",
       " <selenium.webdriver.remote.webelement.WebElement (session=\"8bd13d75bb9a9dce692258598b994e7e\", element=\"75da44ce-ea34-4864-a7ba-a4fea5fd6047\")>,\n",
       " <selenium.webdriver.remote.webelement.WebElement (session=\"8bd13d75bb9a9dce692258598b994e7e\", element=\"9bb4cf4c-e5bd-4ffc-98dd-58f974b0ac71\")>,\n",
       " <selenium.webdriver.remote.webelement.WebElement (session=\"8bd13d75bb9a9dce692258598b994e7e\", element=\"25ec82a5-e938-4d90-8be1-b16aef791c44\")>,\n",
       " <selenium.webdriver.remote.webelement.WebElement (session=\"8bd13d75bb9a9dce692258598b994e7e\", element=\"79d3cfe6-322f-4517-835e-a716a794f263\")>,\n",
       " <selenium.webdriver.remote.webelement.WebElement (session=\"8bd13d75bb9a9dce692258598b994e7e\", element=\"9dbe716b-36b7-48cb-98f3-8224cc9cafaf\")>,\n",
       " <selenium.webdriver.remote.webelement.WebElement (session=\"8bd13d75bb9a9dce692258598b994e7e\", element=\"0d848da5-393f-49eb-8e4d-b23362336904\")>,\n",
       " <selenium.webdriver.remote.webelement.WebElement (session=\"8bd13d75bb9a9dce692258598b994e7e\", element=\"229899df-5030-4077-b8a5-b23bdbfc33ad\")>,\n",
       " <selenium.webdriver.remote.webelement.WebElement (session=\"8bd13d75bb9a9dce692258598b994e7e\", element=\"6fbb1254-ec65-42ed-b32f-fdddfb251ec9\")>]"
      ]
     },
     "execution_count": 211,
     "metadata": {},
     "output_type": "execute_result"
    }
   ],
   "source": [
    "prices_tags_pg1 = driver.find_elements_by_xpath(\"//a[@class='_3bPFwb']//*[@class='_30jeq3']\") #//*[@class='_3Ay6Sb']\n",
    "prices_tags_pg1"
   ]
  },
  {
   "cell_type": "code",
   "execution_count": 212,
   "id": "d98f6e41",
   "metadata": {
    "collapsed": true
   },
   "outputs": [
    {
     "data": {
      "text/plain": [
       "['₹664',\n",
       " '₹664',\n",
       " '₹513',\n",
       " '₹264',\n",
       " '₹200',\n",
       " '₹200',\n",
       " '₹254',\n",
       " '₹325',\n",
       " '₹177',\n",
       " '₹231',\n",
       " '₹189',\n",
       " '₹569',\n",
       " '₹276',\n",
       " '₹329',\n",
       " '₹359',\n",
       " '₹664',\n",
       " '₹188',\n",
       " '₹296',\n",
       " '₹399',\n",
       " '₹449',\n",
       " '₹189',\n",
       " '₹179',\n",
       " '₹239',\n",
       " '₹349',\n",
       " '₹259',\n",
       " '₹246',\n",
       " '₹569',\n",
       " '₹759',\n",
       " '₹758',\n",
       " '₹499',\n",
       " '₹509',\n",
       " '₹999',\n",
       " '₹215',\n",
       " '₹270',\n",
       " '₹200',\n",
       " '₹200',\n",
       " '₹175',\n",
       " '₹329',\n",
       " '₹276',\n",
       " '₹339']"
      ]
     },
     "execution_count": 212,
     "metadata": {},
     "output_type": "execute_result"
    }
   ],
   "source": [
    "for i in prices_tags_pg1:\n",
    "    p = i.text\n",
    "    prices_pg1.append(p)\n",
    "prices_pg1"
   ]
  },
  {
   "cell_type": "code",
   "execution_count": 213,
   "id": "d49e0d3a",
   "metadata": {},
   "outputs": [
    {
     "data": {
      "text/plain": [
       "40"
      ]
     },
     "execution_count": 213,
     "metadata": {},
     "output_type": "execute_result"
    }
   ],
   "source": [
    "len(prices_pg1)"
   ]
  },
  {
   "cell_type": "code",
   "execution_count": 214,
   "id": "b6aa81de",
   "metadata": {
    "collapsed": true
   },
   "outputs": [
    {
     "name": "stderr",
     "output_type": "stream",
     "text": [
      "<ipython-input-214-f490a755dd04>:1: DeprecationWarning: find_elements_by_* commands are deprecated. Please use find_elements() instead\n",
      "  discount_tags_pg1 = driver.find_elements_by_xpath(\"//a[@class='_3bPFwb']//*[@class='_3Ay6Sb']\") #//*[@class='_3Ay6Sb']\n"
     ]
    },
    {
     "data": {
      "text/plain": [
       "[<selenium.webdriver.remote.webelement.WebElement (session=\"8bd13d75bb9a9dce692258598b994e7e\", element=\"cce970ce-3f57-4d15-b024-7b3071c03757\")>,\n",
       " <selenium.webdriver.remote.webelement.WebElement (session=\"8bd13d75bb9a9dce692258598b994e7e\", element=\"87d341bb-77f7-4f5b-afc1-71301b44b993\")>,\n",
       " <selenium.webdriver.remote.webelement.WebElement (session=\"8bd13d75bb9a9dce692258598b994e7e\", element=\"aa208562-cc9d-4587-b9f2-1f5f826ac220\")>,\n",
       " <selenium.webdriver.remote.webelement.WebElement (session=\"8bd13d75bb9a9dce692258598b994e7e\", element=\"cfcbd4a4-bc47-4b03-b0fe-ecdd295a9786\")>,\n",
       " <selenium.webdriver.remote.webelement.WebElement (session=\"8bd13d75bb9a9dce692258598b994e7e\", element=\"06381a0d-f0ff-42f5-ab72-42172fb340a2\")>,\n",
       " <selenium.webdriver.remote.webelement.WebElement (session=\"8bd13d75bb9a9dce692258598b994e7e\", element=\"543e4cb6-f3a3-43fd-97e8-75c5709188f9\")>,\n",
       " <selenium.webdriver.remote.webelement.WebElement (session=\"8bd13d75bb9a9dce692258598b994e7e\", element=\"4b147fd8-7db7-47f2-adc4-dc0e24ca7599\")>,\n",
       " <selenium.webdriver.remote.webelement.WebElement (session=\"8bd13d75bb9a9dce692258598b994e7e\", element=\"7ef5486e-215c-48fb-b4ff-d437d1e45fb6\")>,\n",
       " <selenium.webdriver.remote.webelement.WebElement (session=\"8bd13d75bb9a9dce692258598b994e7e\", element=\"01deb106-b79f-4e11-8b13-b23ffe7b0a0b\")>,\n",
       " <selenium.webdriver.remote.webelement.WebElement (session=\"8bd13d75bb9a9dce692258598b994e7e\", element=\"c660cb43-1c50-4ea1-b7e7-2279bfb71222\")>,\n",
       " <selenium.webdriver.remote.webelement.WebElement (session=\"8bd13d75bb9a9dce692258598b994e7e\", element=\"b3a0ebcf-a423-4dd8-b37c-f169ae6c4de7\")>,\n",
       " <selenium.webdriver.remote.webelement.WebElement (session=\"8bd13d75bb9a9dce692258598b994e7e\", element=\"3765a3bb-4994-4544-9188-8608bb779d55\")>,\n",
       " <selenium.webdriver.remote.webelement.WebElement (session=\"8bd13d75bb9a9dce692258598b994e7e\", element=\"c26ca8ee-8b5c-4ddd-9c85-ebc28cd7ef35\")>,\n",
       " <selenium.webdriver.remote.webelement.WebElement (session=\"8bd13d75bb9a9dce692258598b994e7e\", element=\"36b7628c-90d7-4876-a872-934466a3f55f\")>,\n",
       " <selenium.webdriver.remote.webelement.WebElement (session=\"8bd13d75bb9a9dce692258598b994e7e\", element=\"228e0b2a-8ef6-497f-98fb-1d29b61056e2\")>,\n",
       " <selenium.webdriver.remote.webelement.WebElement (session=\"8bd13d75bb9a9dce692258598b994e7e\", element=\"cb9941c7-84cc-4a83-84ad-f1f9f08515c1\")>,\n",
       " <selenium.webdriver.remote.webelement.WebElement (session=\"8bd13d75bb9a9dce692258598b994e7e\", element=\"5f991c5c-8307-45e3-9add-b7246e53aa96\")>,\n",
       " <selenium.webdriver.remote.webelement.WebElement (session=\"8bd13d75bb9a9dce692258598b994e7e\", element=\"33ac58f3-ed47-4d32-8824-f12853cdf3e2\")>,\n",
       " <selenium.webdriver.remote.webelement.WebElement (session=\"8bd13d75bb9a9dce692258598b994e7e\", element=\"12930bb1-9b68-47a8-9d46-925c86493414\")>,\n",
       " <selenium.webdriver.remote.webelement.WebElement (session=\"8bd13d75bb9a9dce692258598b994e7e\", element=\"cd40fc11-19e9-4533-877b-1aef6579a46a\")>,\n",
       " <selenium.webdriver.remote.webelement.WebElement (session=\"8bd13d75bb9a9dce692258598b994e7e\", element=\"23e5dc91-052f-47bb-b9e1-c005f1e486cb\")>,\n",
       " <selenium.webdriver.remote.webelement.WebElement (session=\"8bd13d75bb9a9dce692258598b994e7e\", element=\"3258db63-2d39-49dc-8fdb-60c225a8bbae\")>,\n",
       " <selenium.webdriver.remote.webelement.WebElement (session=\"8bd13d75bb9a9dce692258598b994e7e\", element=\"e6d4d124-1b5f-454e-a19e-fe694d040b99\")>,\n",
       " <selenium.webdriver.remote.webelement.WebElement (session=\"8bd13d75bb9a9dce692258598b994e7e\", element=\"3c577ea9-171f-4520-93ba-2dfa0c584858\")>,\n",
       " <selenium.webdriver.remote.webelement.WebElement (session=\"8bd13d75bb9a9dce692258598b994e7e\", element=\"cfe05b39-4260-49cb-abbe-bf20c64511ea\")>,\n",
       " <selenium.webdriver.remote.webelement.WebElement (session=\"8bd13d75bb9a9dce692258598b994e7e\", element=\"c704021f-4145-49b9-8354-20dfa350bbbb\")>,\n",
       " <selenium.webdriver.remote.webelement.WebElement (session=\"8bd13d75bb9a9dce692258598b994e7e\", element=\"f9425495-01db-419d-a353-8a571a18151d\")>,\n",
       " <selenium.webdriver.remote.webelement.WebElement (session=\"8bd13d75bb9a9dce692258598b994e7e\", element=\"e564c38f-91cc-4981-800a-49d645167a7b\")>,\n",
       " <selenium.webdriver.remote.webelement.WebElement (session=\"8bd13d75bb9a9dce692258598b994e7e\", element=\"248eb0fe-5b41-4cb2-8828-6b80eb7735c5\")>,\n",
       " <selenium.webdriver.remote.webelement.WebElement (session=\"8bd13d75bb9a9dce692258598b994e7e\", element=\"a8681a72-25f5-4238-a023-23dc470dafc7\")>,\n",
       " <selenium.webdriver.remote.webelement.WebElement (session=\"8bd13d75bb9a9dce692258598b994e7e\", element=\"b2aa8b31-b7e4-4683-80f3-c733dff0c60b\")>,\n",
       " <selenium.webdriver.remote.webelement.WebElement (session=\"8bd13d75bb9a9dce692258598b994e7e\", element=\"83271f15-0be1-4beb-a178-50b823840a64\")>,\n",
       " <selenium.webdriver.remote.webelement.WebElement (session=\"8bd13d75bb9a9dce692258598b994e7e\", element=\"e5a61379-e169-4741-83af-d83deaa469ac\")>,\n",
       " <selenium.webdriver.remote.webelement.WebElement (session=\"8bd13d75bb9a9dce692258598b994e7e\", element=\"fe3a356e-d2a1-40da-8540-db5283ab5184\")>,\n",
       " <selenium.webdriver.remote.webelement.WebElement (session=\"8bd13d75bb9a9dce692258598b994e7e\", element=\"348a0e36-f429-4cec-b3b9-23ac625e245b\")>,\n",
       " <selenium.webdriver.remote.webelement.WebElement (session=\"8bd13d75bb9a9dce692258598b994e7e\", element=\"32a468ec-133d-442e-a010-7dc69b7c97ce\")>,\n",
       " <selenium.webdriver.remote.webelement.WebElement (session=\"8bd13d75bb9a9dce692258598b994e7e\", element=\"f106fa8c-1a13-477b-be7c-fb302341cff8\")>,\n",
       " <selenium.webdriver.remote.webelement.WebElement (session=\"8bd13d75bb9a9dce692258598b994e7e\", element=\"d0b9ca6b-e52e-419b-bda8-3ee3a66c42b9\")>,\n",
       " <selenium.webdriver.remote.webelement.WebElement (session=\"8bd13d75bb9a9dce692258598b994e7e\", element=\"45e794ac-5c89-4670-ad1d-82ad690eca14\")>,\n",
       " <selenium.webdriver.remote.webelement.WebElement (session=\"8bd13d75bb9a9dce692258598b994e7e\", element=\"ffc58837-343b-4f4f-8813-61fb619f340d\")>]"
      ]
     },
     "execution_count": 214,
     "metadata": {},
     "output_type": "execute_result"
    }
   ],
   "source": [
    "discount_tags_pg1 = driver.find_elements_by_xpath(\"//a[@class='_3bPFwb']//*[@class='_3Ay6Sb']\") #//*[@class='_3Ay6Sb']\n",
    "discount_tags_pg1"
   ]
  },
  {
   "cell_type": "code",
   "execution_count": 215,
   "id": "3a4465de",
   "metadata": {
    "collapsed": true
   },
   "outputs": [
    {
     "data": {
      "text/plain": [
       "['66% off',\n",
       " '66% off',\n",
       " '35% off',\n",
       " '89% off',\n",
       " '87% off',\n",
       " '87% off',\n",
       " '87% off',\n",
       " '83% off',\n",
       " '89% off',\n",
       " '80% off',\n",
       " '87% off',\n",
       " '71% off',\n",
       " '83% off',\n",
       " '83% off',\n",
       " '76% off',\n",
       " '66% off',\n",
       " '85% off',\n",
       " '82% off',\n",
       " '80% off',\n",
       " '79% off',\n",
       " '81% off',\n",
       " '64% off',\n",
       " '88% off',\n",
       " '88% off',\n",
       " '87% off',\n",
       " '83% off',\n",
       " '71% off',\n",
       " '62% off',\n",
       " '15% off',\n",
       " '77% off',\n",
       " '36% off',\n",
       " '50% off',\n",
       " '78% off',\n",
       " '65% off',\n",
       " '87% off',\n",
       " '87% off',\n",
       " '89% off',\n",
       " '82% off',\n",
       " '88% off',\n",
       " '83% off']"
      ]
     },
     "execution_count": 215,
     "metadata": {},
     "output_type": "execute_result"
    }
   ],
   "source": [
    "for i in discount_tags_pg1:\n",
    "    d = i.text\n",
    "    discounts_pg1.append(d)\n",
    "discounts_pg1"
   ]
  },
  {
   "cell_type": "code",
   "execution_count": 216,
   "id": "a813e5b4",
   "metadata": {},
   "outputs": [
    {
     "data": {
      "text/plain": [
       "40"
      ]
     },
     "execution_count": 216,
     "metadata": {},
     "output_type": "execute_result"
    }
   ],
   "source": [
    "len(discounts_pg1)"
   ]
  },
  {
   "cell_type": "code",
   "execution_count": 217,
   "id": "393b4f5c",
   "metadata": {},
   "outputs": [],
   "source": [
    "pg1 = pd.DataFrame({})\n",
    "pg1['Brand Name'] = brands_pg1\n",
    "pg1['Decsription'] = descr_pg1\n",
    "pg1['Prices'] = prices_pg1\n",
    "pg1['Discounts'] = discounts_pg1"
   ]
  },
  {
   "cell_type": "code",
   "execution_count": 218,
   "id": "5c307704",
   "metadata": {
    "collapsed": true
   },
   "outputs": [
    {
     "data": {
      "text/html": [
       "<div>\n",
       "<style scoped>\n",
       "    .dataframe tbody tr th:only-of-type {\n",
       "        vertical-align: middle;\n",
       "    }\n",
       "\n",
       "    .dataframe tbody tr th {\n",
       "        vertical-align: top;\n",
       "    }\n",
       "\n",
       "    .dataframe thead th {\n",
       "        text-align: right;\n",
       "    }\n",
       "</style>\n",
       "<table border=\"1\" class=\"dataframe\">\n",
       "  <thead>\n",
       "    <tr style=\"text-align: right;\">\n",
       "      <th></th>\n",
       "      <th>Brand Name</th>\n",
       "      <th>Decsription</th>\n",
       "      <th>Prices</th>\n",
       "      <th>Discounts</th>\n",
       "    </tr>\n",
       "  </thead>\n",
       "  <tbody>\n",
       "    <tr>\n",
       "      <th>0</th>\n",
       "      <td>ROYAL SON</td>\n",
       "      <td>UV Protection Retro Square Sunglasses (49)</td>\n",
       "      <td>₹664</td>\n",
       "      <td>66% off</td>\n",
       "    </tr>\n",
       "    <tr>\n",
       "      <th>1</th>\n",
       "      <td>ROYAL SON</td>\n",
       "      <td>Polarized, UV Protection Round Sunglasses (49)</td>\n",
       "      <td>₹664</td>\n",
       "      <td>66% off</td>\n",
       "    </tr>\n",
       "    <tr>\n",
       "      <th>2</th>\n",
       "      <td>Fastrack</td>\n",
       "      <td>UV Protection Rectangular Sunglasses (Free Size)</td>\n",
       "      <td>₹513</td>\n",
       "      <td>35% off</td>\n",
       "    </tr>\n",
       "    <tr>\n",
       "      <th>3</th>\n",
       "      <td>Elligator</td>\n",
       "      <td>UV Protection Round Sunglasses (54)</td>\n",
       "      <td>₹264</td>\n",
       "      <td>89% off</td>\n",
       "    </tr>\n",
       "    <tr>\n",
       "      <th>4</th>\n",
       "      <td>PIRASO</td>\n",
       "      <td>UV Protection Aviator Sunglasses (54)</td>\n",
       "      <td>₹200</td>\n",
       "      <td>87% off</td>\n",
       "    </tr>\n",
       "    <tr>\n",
       "      <th>5</th>\n",
       "      <td>PIRASO</td>\n",
       "      <td>UV Protection Aviator Sunglasses (54)</td>\n",
       "      <td>₹200</td>\n",
       "      <td>87% off</td>\n",
       "    </tr>\n",
       "    <tr>\n",
       "      <th>6</th>\n",
       "      <td>GANSTA</td>\n",
       "      <td>UV Protection Aviator Sunglasses (57)</td>\n",
       "      <td>₹254</td>\n",
       "      <td>87% off</td>\n",
       "    </tr>\n",
       "    <tr>\n",
       "      <th>7</th>\n",
       "      <td>ROZZETTA CRAFT</td>\n",
       "      <td>UV Protection, Gradient Retro Square Sunglasse...</td>\n",
       "      <td>₹325</td>\n",
       "      <td>83% off</td>\n",
       "    </tr>\n",
       "    <tr>\n",
       "      <th>8</th>\n",
       "      <td>SHAAH COLLECTIONS</td>\n",
       "      <td>UV Protection, Polarized, Mirrored Rectangular...</td>\n",
       "      <td>₹177</td>\n",
       "      <td>89% off</td>\n",
       "    </tr>\n",
       "    <tr>\n",
       "      <th>9</th>\n",
       "      <td>HIPPON</td>\n",
       "      <td>UV Protection Wayfarer Sunglasses (55)</td>\n",
       "      <td>₹231</td>\n",
       "      <td>80% off</td>\n",
       "    </tr>\n",
       "    <tr>\n",
       "      <th>10</th>\n",
       "      <td>hipe</td>\n",
       "      <td>Mirrored, UV Protection, Gradient Round Sungla...</td>\n",
       "      <td>₹189</td>\n",
       "      <td>87% off</td>\n",
       "    </tr>\n",
       "    <tr>\n",
       "      <th>11</th>\n",
       "      <td>ROYAL SON</td>\n",
       "      <td>UV Protection Retro Square Sunglasses (88)</td>\n",
       "      <td>₹569</td>\n",
       "      <td>71% off</td>\n",
       "    </tr>\n",
       "    <tr>\n",
       "      <th>12</th>\n",
       "      <td>SUNBEE</td>\n",
       "      <td>UV Protection, Polarized, Mirrored Round Sungl...</td>\n",
       "      <td>₹276</td>\n",
       "      <td>83% off</td>\n",
       "    </tr>\n",
       "    <tr>\n",
       "      <th>13</th>\n",
       "      <td>PHENOMENAL</td>\n",
       "      <td>UV Protection Retro Square Sunglasses (Free Size)</td>\n",
       "      <td>₹329</td>\n",
       "      <td>83% off</td>\n",
       "    </tr>\n",
       "    <tr>\n",
       "      <th>14</th>\n",
       "      <td>ROYAL SON</td>\n",
       "      <td>Mirrored Aviator Sunglasses (55)</td>\n",
       "      <td>₹359</td>\n",
       "      <td>76% off</td>\n",
       "    </tr>\n",
       "    <tr>\n",
       "      <th>15</th>\n",
       "      <td>ROYAL SON</td>\n",
       "      <td>UV Protection Round Sunglasses (54)</td>\n",
       "      <td>₹664</td>\n",
       "      <td>66% off</td>\n",
       "    </tr>\n",
       "    <tr>\n",
       "      <th>16</th>\n",
       "      <td>SRPM</td>\n",
       "      <td>UV Protection Wayfarer Sunglasses (56)</td>\n",
       "      <td>₹188</td>\n",
       "      <td>85% off</td>\n",
       "    </tr>\n",
       "    <tr>\n",
       "      <th>17</th>\n",
       "      <td>SHAAH COLLECTIONS</td>\n",
       "      <td>UV Protection Round Sunglasses (Free Size)</td>\n",
       "      <td>₹296</td>\n",
       "      <td>82% off</td>\n",
       "    </tr>\n",
       "    <tr>\n",
       "      <th>18</th>\n",
       "      <td>ROZZETTA CRAFT</td>\n",
       "      <td>UV Protection, Gradient Rectangular Sunglasses...</td>\n",
       "      <td>₹399</td>\n",
       "      <td>80% off</td>\n",
       "    </tr>\n",
       "    <tr>\n",
       "      <th>19</th>\n",
       "      <td>ROZZETTA CRAFT</td>\n",
       "      <td>UV Protection, Riding Glasses Rectangular Sung...</td>\n",
       "      <td>₹449</td>\n",
       "      <td>79% off</td>\n",
       "    </tr>\n",
       "    <tr>\n",
       "      <th>20</th>\n",
       "      <td>SHAAH COLLECTIONS</td>\n",
       "      <td>UV Protection, Polarized, Mirrored Rectangular...</td>\n",
       "      <td>₹189</td>\n",
       "      <td>81% off</td>\n",
       "    </tr>\n",
       "    <tr>\n",
       "      <th>21</th>\n",
       "      <td>Rich Club</td>\n",
       "      <td>Polarized Round Sunglasses (48)</td>\n",
       "      <td>₹179</td>\n",
       "      <td>64% off</td>\n",
       "    </tr>\n",
       "    <tr>\n",
       "      <th>22</th>\n",
       "      <td>Elligator</td>\n",
       "      <td>UV Protection Round Sunglasses (55)</td>\n",
       "      <td>₹239</td>\n",
       "      <td>88% off</td>\n",
       "    </tr>\n",
       "    <tr>\n",
       "      <th>23</th>\n",
       "      <td>PIRASO</td>\n",
       "      <td>UV Protection Rectangular, Over-sized Sunglass...</td>\n",
       "      <td>₹349</td>\n",
       "      <td>88% off</td>\n",
       "    </tr>\n",
       "    <tr>\n",
       "      <th>24</th>\n",
       "      <td>kingsunglasses</td>\n",
       "      <td>Mirrored, UV Protection Wayfarer Sunglasses (F...</td>\n",
       "      <td>₹259</td>\n",
       "      <td>87% off</td>\n",
       "    </tr>\n",
       "    <tr>\n",
       "      <th>25</th>\n",
       "      <td>Silver Kartz</td>\n",
       "      <td>UV Protection Wayfarer Sunglasses (Free Size)</td>\n",
       "      <td>₹246</td>\n",
       "      <td>83% off</td>\n",
       "    </tr>\n",
       "    <tr>\n",
       "      <th>26</th>\n",
       "      <td>ROYAL SON</td>\n",
       "      <td>UV Protection Retro Square Sunglasses (88)</td>\n",
       "      <td>₹569</td>\n",
       "      <td>71% off</td>\n",
       "    </tr>\n",
       "    <tr>\n",
       "      <th>27</th>\n",
       "      <td>ROYAL SON</td>\n",
       "      <td>Polarized, UV Protection Round Sunglasses (60)</td>\n",
       "      <td>₹759</td>\n",
       "      <td>62% off</td>\n",
       "    </tr>\n",
       "    <tr>\n",
       "      <th>28</th>\n",
       "      <td>Fastrack</td>\n",
       "      <td>UV Protection Wayfarer Sunglasses (Free Size)</td>\n",
       "      <td>₹758</td>\n",
       "      <td>15% off</td>\n",
       "    </tr>\n",
       "    <tr>\n",
       "      <th>29</th>\n",
       "      <td>ROZZETTA CRAFT</td>\n",
       "      <td>UV Protection Retro Square Sunglasses (Free Size)</td>\n",
       "      <td>₹499</td>\n",
       "      <td>77% off</td>\n",
       "    </tr>\n",
       "    <tr>\n",
       "      <th>30</th>\n",
       "      <td>Fastrack</td>\n",
       "      <td>Gradient, UV Protection Wayfarer Sunglasses (F...</td>\n",
       "      <td>₹509</td>\n",
       "      <td>36% off</td>\n",
       "    </tr>\n",
       "    <tr>\n",
       "      <th>31</th>\n",
       "      <td>VINCENT CHASE</td>\n",
       "      <td>by Lenskart Polarized, UV Protection Wayfarer ...</td>\n",
       "      <td>₹999</td>\n",
       "      <td>50% off</td>\n",
       "    </tr>\n",
       "    <tr>\n",
       "      <th>32</th>\n",
       "      <td>SUNBEE</td>\n",
       "      <td>UV Protection, Polarized, Mirrored Wayfarer Su...</td>\n",
       "      <td>₹215</td>\n",
       "      <td>78% off</td>\n",
       "    </tr>\n",
       "    <tr>\n",
       "      <th>33</th>\n",
       "      <td>NuVew</td>\n",
       "      <td>UV Protection, Night Vision, Riding Glasses Sp...</td>\n",
       "      <td>₹270</td>\n",
       "      <td>65% off</td>\n",
       "    </tr>\n",
       "    <tr>\n",
       "      <th>34</th>\n",
       "      <td>PIRASO</td>\n",
       "      <td>UV Protection Aviator Sunglasses (54)</td>\n",
       "      <td>₹200</td>\n",
       "      <td>87% off</td>\n",
       "    </tr>\n",
       "    <tr>\n",
       "      <th>35</th>\n",
       "      <td>PIRASO</td>\n",
       "      <td>UV Protection Wayfarer Sunglasses (32)</td>\n",
       "      <td>₹200</td>\n",
       "      <td>87% off</td>\n",
       "    </tr>\n",
       "    <tr>\n",
       "      <th>36</th>\n",
       "      <td>PIRASO</td>\n",
       "      <td>UV Protection, Polarized Aviator Sunglasses (32)</td>\n",
       "      <td>₹175</td>\n",
       "      <td>89% off</td>\n",
       "    </tr>\n",
       "    <tr>\n",
       "      <th>37</th>\n",
       "      <td>ABNER</td>\n",
       "      <td>UV Protection Retro Square Sunglasses (Free Size)</td>\n",
       "      <td>₹329</td>\n",
       "      <td>82% off</td>\n",
       "    </tr>\n",
       "    <tr>\n",
       "      <th>38</th>\n",
       "      <td>Lee Topper</td>\n",
       "      <td>Riding Glasses, Night Vision Wrap-around Sungl...</td>\n",
       "      <td>₹276</td>\n",
       "      <td>88% off</td>\n",
       "    </tr>\n",
       "    <tr>\n",
       "      <th>39</th>\n",
       "      <td>Fravy</td>\n",
       "      <td>UV Protection, Gradient, Night Vision Retro Sq...</td>\n",
       "      <td>₹339</td>\n",
       "      <td>83% off</td>\n",
       "    </tr>\n",
       "  </tbody>\n",
       "</table>\n",
       "</div>"
      ],
      "text/plain": [
       "           Brand Name                                        Decsription  \\\n",
       "0           ROYAL SON         UV Protection Retro Square Sunglasses (49)   \n",
       "1           ROYAL SON     Polarized, UV Protection Round Sunglasses (49)   \n",
       "2            Fastrack   UV Protection Rectangular Sunglasses (Free Size)   \n",
       "3           Elligator                UV Protection Round Sunglasses (54)   \n",
       "4              PIRASO              UV Protection Aviator Sunglasses (54)   \n",
       "5              PIRASO              UV Protection Aviator Sunglasses (54)   \n",
       "6              GANSTA              UV Protection Aviator Sunglasses (57)   \n",
       "7      ROZZETTA CRAFT  UV Protection, Gradient Retro Square Sunglasse...   \n",
       "8   SHAAH COLLECTIONS  UV Protection, Polarized, Mirrored Rectangular...   \n",
       "9              HIPPON             UV Protection Wayfarer Sunglasses (55)   \n",
       "10               hipe  Mirrored, UV Protection, Gradient Round Sungla...   \n",
       "11          ROYAL SON         UV Protection Retro Square Sunglasses (88)   \n",
       "12             SUNBEE  UV Protection, Polarized, Mirrored Round Sungl...   \n",
       "13         PHENOMENAL  UV Protection Retro Square Sunglasses (Free Size)   \n",
       "14          ROYAL SON                   Mirrored Aviator Sunglasses (55)   \n",
       "15          ROYAL SON                UV Protection Round Sunglasses (54)   \n",
       "16               SRPM             UV Protection Wayfarer Sunglasses (56)   \n",
       "17  SHAAH COLLECTIONS         UV Protection Round Sunglasses (Free Size)   \n",
       "18     ROZZETTA CRAFT  UV Protection, Gradient Rectangular Sunglasses...   \n",
       "19     ROZZETTA CRAFT  UV Protection, Riding Glasses Rectangular Sung...   \n",
       "20  SHAAH COLLECTIONS  UV Protection, Polarized, Mirrored Rectangular...   \n",
       "21          Rich Club                    Polarized Round Sunglasses (48)   \n",
       "22          Elligator                UV Protection Round Sunglasses (55)   \n",
       "23             PIRASO  UV Protection Rectangular, Over-sized Sunglass...   \n",
       "24     kingsunglasses  Mirrored, UV Protection Wayfarer Sunglasses (F...   \n",
       "25       Silver Kartz      UV Protection Wayfarer Sunglasses (Free Size)   \n",
       "26          ROYAL SON         UV Protection Retro Square Sunglasses (88)   \n",
       "27          ROYAL SON     Polarized, UV Protection Round Sunglasses (60)   \n",
       "28           Fastrack      UV Protection Wayfarer Sunglasses (Free Size)   \n",
       "29     ROZZETTA CRAFT  UV Protection Retro Square Sunglasses (Free Size)   \n",
       "30           Fastrack  Gradient, UV Protection Wayfarer Sunglasses (F...   \n",
       "31      VINCENT CHASE  by Lenskart Polarized, UV Protection Wayfarer ...   \n",
       "32             SUNBEE  UV Protection, Polarized, Mirrored Wayfarer Su...   \n",
       "33              NuVew  UV Protection, Night Vision, Riding Glasses Sp...   \n",
       "34             PIRASO              UV Protection Aviator Sunglasses (54)   \n",
       "35             PIRASO             UV Protection Wayfarer Sunglasses (32)   \n",
       "36             PIRASO   UV Protection, Polarized Aviator Sunglasses (32)   \n",
       "37              ABNER  UV Protection Retro Square Sunglasses (Free Size)   \n",
       "38         Lee Topper  Riding Glasses, Night Vision Wrap-around Sungl...   \n",
       "39              Fravy  UV Protection, Gradient, Night Vision Retro Sq...   \n",
       "\n",
       "   Prices Discounts  \n",
       "0    ₹664   66% off  \n",
       "1    ₹664   66% off  \n",
       "2    ₹513   35% off  \n",
       "3    ₹264   89% off  \n",
       "4    ₹200   87% off  \n",
       "5    ₹200   87% off  \n",
       "6    ₹254   87% off  \n",
       "7    ₹325   83% off  \n",
       "8    ₹177   89% off  \n",
       "9    ₹231   80% off  \n",
       "10   ₹189   87% off  \n",
       "11   ₹569   71% off  \n",
       "12   ₹276   83% off  \n",
       "13   ₹329   83% off  \n",
       "14   ₹359   76% off  \n",
       "15   ₹664   66% off  \n",
       "16   ₹188   85% off  \n",
       "17   ₹296   82% off  \n",
       "18   ₹399   80% off  \n",
       "19   ₹449   79% off  \n",
       "20   ₹189   81% off  \n",
       "21   ₹179   64% off  \n",
       "22   ₹239   88% off  \n",
       "23   ₹349   88% off  \n",
       "24   ₹259   87% off  \n",
       "25   ₹246   83% off  \n",
       "26   ₹569   71% off  \n",
       "27   ₹759   62% off  \n",
       "28   ₹758   15% off  \n",
       "29   ₹499   77% off  \n",
       "30   ₹509   36% off  \n",
       "31   ₹999   50% off  \n",
       "32   ₹215   78% off  \n",
       "33   ₹270   65% off  \n",
       "34   ₹200   87% off  \n",
       "35   ₹200   87% off  \n",
       "36   ₹175   89% off  \n",
       "37   ₹329   82% off  \n",
       "38   ₹276   88% off  \n",
       "39   ₹339   83% off  "
      ]
     },
     "execution_count": 218,
     "metadata": {},
     "output_type": "execute_result"
    }
   ],
   "source": [
    "pg1"
   ]
  },
  {
   "cell_type": "code",
   "execution_count": 272,
   "id": "245ba3f8",
   "metadata": {},
   "outputs": [],
   "source": [
    "url4_pg2 = 'https://www.flipkart.com/search?q=Sunglasses&otracker=search&otracker1=search&marketplace=FLIPKART&as-show=off&as=off&page=2'\n",
    "driver.get(url4_pg2)"
   ]
  },
  {
   "cell_type": "code",
   "execution_count": 277,
   "id": "612406a6",
   "metadata": {},
   "outputs": [],
   "source": [
    "brands_2 = []\n",
    "#brands_pg2a = []\n",
    "#brands_pg2b = []\n",
    "\n",
    "descr_pg2 = []\n",
    "#descr_pg2a = []\n",
    "#descr_pg2b = []\n",
    "\n",
    "prices_pg2 = []\n",
    "#prices_pg2a = []\n",
    "#prices_pg2b = []\n",
    "\n",
    "discounts_pg2 = []"
   ]
  },
  {
   "cell_type": "code",
   "execution_count": 278,
   "id": "b31a6d7b",
   "metadata": {
    "collapsed": true
   },
   "outputs": [
    {
     "name": "stderr",
     "output_type": "stream",
     "text": [
      "<ipython-input-278-33da96c4d7d8>:1: DeprecationWarning: find_elements_by_* commands are deprecated. Please use find_elements() instead\n",
      "  brand_tags_pg2 = driver.find_elements_by_class_name(\"_2WkVRV\")\n"
     ]
    },
    {
     "data": {
      "text/plain": [
       "[<selenium.webdriver.remote.webelement.WebElement (session=\"6d764c023d2e2b0c39a81d5d72f08a6c\", element=\"70e9af32-5e81-410f-adb8-aa69ce263c38\")>,\n",
       " <selenium.webdriver.remote.webelement.WebElement (session=\"6d764c023d2e2b0c39a81d5d72f08a6c\", element=\"ea985ae6-ee3f-4236-a8b6-ac709254d327\")>,\n",
       " <selenium.webdriver.remote.webelement.WebElement (session=\"6d764c023d2e2b0c39a81d5d72f08a6c\", element=\"70000efc-6a83-4968-a698-77e98fc4a610\")>,\n",
       " <selenium.webdriver.remote.webelement.WebElement (session=\"6d764c023d2e2b0c39a81d5d72f08a6c\", element=\"fec7f813-b67a-4630-9d0d-1b89bca2b027\")>,\n",
       " <selenium.webdriver.remote.webelement.WebElement (session=\"6d764c023d2e2b0c39a81d5d72f08a6c\", element=\"972c6d7b-ba1d-4ad4-a5a1-08d94738d669\")>,\n",
       " <selenium.webdriver.remote.webelement.WebElement (session=\"6d764c023d2e2b0c39a81d5d72f08a6c\", element=\"864381c6-e1ca-48a1-860c-d7e95ce9a01e\")>,\n",
       " <selenium.webdriver.remote.webelement.WebElement (session=\"6d764c023d2e2b0c39a81d5d72f08a6c\", element=\"13b49f17-9c2b-468b-befe-2f679f30ae43\")>,\n",
       " <selenium.webdriver.remote.webelement.WebElement (session=\"6d764c023d2e2b0c39a81d5d72f08a6c\", element=\"3ccfb2b1-cc6e-4510-b12a-b8a8554fa06e\")>,\n",
       " <selenium.webdriver.remote.webelement.WebElement (session=\"6d764c023d2e2b0c39a81d5d72f08a6c\", element=\"c4a1a8c4-4744-4b85-8800-a0dc326a056e\")>,\n",
       " <selenium.webdriver.remote.webelement.WebElement (session=\"6d764c023d2e2b0c39a81d5d72f08a6c\", element=\"d3f39a45-c36b-4094-9e68-e644b275395e\")>,\n",
       " <selenium.webdriver.remote.webelement.WebElement (session=\"6d764c023d2e2b0c39a81d5d72f08a6c\", element=\"5c46ee03-86e9-479b-831f-e3848b5c8d47\")>,\n",
       " <selenium.webdriver.remote.webelement.WebElement (session=\"6d764c023d2e2b0c39a81d5d72f08a6c\", element=\"0701a858-7782-4523-9265-c5850bb4369c\")>,\n",
       " <selenium.webdriver.remote.webelement.WebElement (session=\"6d764c023d2e2b0c39a81d5d72f08a6c\", element=\"aec702fc-a34a-42c6-b50b-9b0e3405f501\")>,\n",
       " <selenium.webdriver.remote.webelement.WebElement (session=\"6d764c023d2e2b0c39a81d5d72f08a6c\", element=\"eb9d8486-1efe-47f5-b342-de7d55b5e6aa\")>,\n",
       " <selenium.webdriver.remote.webelement.WebElement (session=\"6d764c023d2e2b0c39a81d5d72f08a6c\", element=\"45cb9a04-0f83-4ce2-b0f9-4868ed5fa08c\")>,\n",
       " <selenium.webdriver.remote.webelement.WebElement (session=\"6d764c023d2e2b0c39a81d5d72f08a6c\", element=\"e92f7886-6785-41e3-ad18-e8b75027682a\")>,\n",
       " <selenium.webdriver.remote.webelement.WebElement (session=\"6d764c023d2e2b0c39a81d5d72f08a6c\", element=\"da240e78-75eb-4f26-98dc-05597d48eac6\")>,\n",
       " <selenium.webdriver.remote.webelement.WebElement (session=\"6d764c023d2e2b0c39a81d5d72f08a6c\", element=\"ede498fb-ba97-4539-9c69-506fc308e9f7\")>,\n",
       " <selenium.webdriver.remote.webelement.WebElement (session=\"6d764c023d2e2b0c39a81d5d72f08a6c\", element=\"7b7e7837-015c-4e13-b2b8-685d26a18bd5\")>,\n",
       " <selenium.webdriver.remote.webelement.WebElement (session=\"6d764c023d2e2b0c39a81d5d72f08a6c\", element=\"08e49216-9d94-4591-a935-60fa2ab54198\")>,\n",
       " <selenium.webdriver.remote.webelement.WebElement (session=\"6d764c023d2e2b0c39a81d5d72f08a6c\", element=\"84ccec34-9276-4dd2-a05e-0d92d0abe0a9\")>,\n",
       " <selenium.webdriver.remote.webelement.WebElement (session=\"6d764c023d2e2b0c39a81d5d72f08a6c\", element=\"d9275b2a-d61d-4dc3-8c78-ac960d71fcd3\")>,\n",
       " <selenium.webdriver.remote.webelement.WebElement (session=\"6d764c023d2e2b0c39a81d5d72f08a6c\", element=\"43d28c93-fa67-4d22-b6cf-32e40737cf20\")>,\n",
       " <selenium.webdriver.remote.webelement.WebElement (session=\"6d764c023d2e2b0c39a81d5d72f08a6c\", element=\"0d875a63-e83b-4472-8a38-1e64fbdef111\")>,\n",
       " <selenium.webdriver.remote.webelement.WebElement (session=\"6d764c023d2e2b0c39a81d5d72f08a6c\", element=\"6347e530-9e6e-423e-af0e-c7957875814a\")>,\n",
       " <selenium.webdriver.remote.webelement.WebElement (session=\"6d764c023d2e2b0c39a81d5d72f08a6c\", element=\"dbd775ff-491b-4c1d-b291-b5b2dd4cca28\")>,\n",
       " <selenium.webdriver.remote.webelement.WebElement (session=\"6d764c023d2e2b0c39a81d5d72f08a6c\", element=\"213cb4a3-5aab-4bbf-935b-8bdbd367b633\")>,\n",
       " <selenium.webdriver.remote.webelement.WebElement (session=\"6d764c023d2e2b0c39a81d5d72f08a6c\", element=\"3f4173d3-d2fb-4830-ae37-3689ee2035db\")>,\n",
       " <selenium.webdriver.remote.webelement.WebElement (session=\"6d764c023d2e2b0c39a81d5d72f08a6c\", element=\"8b2193b6-2ed6-4105-896c-13d804b08098\")>,\n",
       " <selenium.webdriver.remote.webelement.WebElement (session=\"6d764c023d2e2b0c39a81d5d72f08a6c\", element=\"3229d8a9-32ef-4f64-9980-e7caba72b476\")>,\n",
       " <selenium.webdriver.remote.webelement.WebElement (session=\"6d764c023d2e2b0c39a81d5d72f08a6c\", element=\"84edef3f-b5f0-4564-a048-114b397b353d\")>,\n",
       " <selenium.webdriver.remote.webelement.WebElement (session=\"6d764c023d2e2b0c39a81d5d72f08a6c\", element=\"b109c696-fb8b-4801-994e-ed2f631bf2bb\")>,\n",
       " <selenium.webdriver.remote.webelement.WebElement (session=\"6d764c023d2e2b0c39a81d5d72f08a6c\", element=\"15d824e9-cd48-44a9-908b-e7493f636d7a\")>,\n",
       " <selenium.webdriver.remote.webelement.WebElement (session=\"6d764c023d2e2b0c39a81d5d72f08a6c\", element=\"afd42214-1f39-445c-8a05-69323fae0c1a\")>,\n",
       " <selenium.webdriver.remote.webelement.WebElement (session=\"6d764c023d2e2b0c39a81d5d72f08a6c\", element=\"606b78dd-2273-4ac7-9dbe-37125e42818a\")>,\n",
       " <selenium.webdriver.remote.webelement.WebElement (session=\"6d764c023d2e2b0c39a81d5d72f08a6c\", element=\"010c7bd8-7eda-41bd-a9ac-28d25f4e3e0a\")>,\n",
       " <selenium.webdriver.remote.webelement.WebElement (session=\"6d764c023d2e2b0c39a81d5d72f08a6c\", element=\"6d27e9ed-571d-4be9-9c07-d5ec292c9fd2\")>,\n",
       " <selenium.webdriver.remote.webelement.WebElement (session=\"6d764c023d2e2b0c39a81d5d72f08a6c\", element=\"268f3f7b-f74c-4c95-8ba3-f3a41dfbde5a\")>,\n",
       " <selenium.webdriver.remote.webelement.WebElement (session=\"6d764c023d2e2b0c39a81d5d72f08a6c\", element=\"c339daf0-d472-418a-b5e3-235306574b33\")>,\n",
       " <selenium.webdriver.remote.webelement.WebElement (session=\"6d764c023d2e2b0c39a81d5d72f08a6c\", element=\"4e3f5b1e-642d-4e3d-878f-68e8b702d226\")>]"
      ]
     },
     "execution_count": 278,
     "metadata": {},
     "output_type": "execute_result"
    }
   ],
   "source": [
    "brand_tags_pg2 = driver.find_elements_by_class_name(\"_2WkVRV\")\n",
    "brand_tags_pg2"
   ]
  },
  {
   "cell_type": "code",
   "execution_count": 279,
   "id": "16c0e559",
   "metadata": {
    "collapsed": true
   },
   "outputs": [
    {
     "data": {
      "text/plain": [
       "['elegante',\n",
       " 'hipe',\n",
       " 'Silver Kartz',\n",
       " 'VINCENT CHASE',\n",
       " 'SRPM',\n",
       " 'kingsunglasses',\n",
       " 'PIRASO',\n",
       " 'VINCENT CHASE',\n",
       " 'PIRASO',\n",
       " 'SHAAH COLLECTIONS',\n",
       " 'PHENOMENAL',\n",
       " 'elegante',\n",
       " 'ABNER',\n",
       " 'Elligator',\n",
       " 'hipe',\n",
       " 'VINCENT CHASE',\n",
       " 'Fastrack',\n",
       " 'ROZZETTA CRAFT',\n",
       " 'Elligator',\n",
       " 'Fravy',\n",
       " 'DEIXELS',\n",
       " 'kingsunglasses',\n",
       " 'hipe',\n",
       " 'hipe',\n",
       " 'DEIXELS',\n",
       " 'Poland',\n",
       " 'ROZZETTA CRAFT',\n",
       " 'ROZZETTA CRAFT',\n",
       " 'PHENOMENAL',\n",
       " 'Singco India',\n",
       " 'ROYAL SON',\n",
       " 'VINCENT CHASE',\n",
       " 'Rich Club',\n",
       " 'Cruze',\n",
       " 'MAXX',\n",
       " 'ROZZETTA CRAFT',\n",
       " 'PIRASO',\n",
       " 'GANSTA',\n",
       " 'ROZZETTA CRAFT',\n",
       " 'VINCENT CHASE']"
      ]
     },
     "execution_count": 279,
     "metadata": {},
     "output_type": "execute_result"
    }
   ],
   "source": [
    "for i in brand_tags_pg2:\n",
    "    t = i.text\n",
    "    brands_2.append(t)\n",
    "brands_2"
   ]
  },
  {
   "cell_type": "code",
   "execution_count": 261,
   "id": "1714f43e",
   "metadata": {
    "collapsed": true
   },
   "outputs": [
    {
     "data": {
      "text/plain": [
       "['VINCENT CHASE',\n",
       " 'PIRASO',\n",
       " 'PIRASO',\n",
       " 'PHENOMENAL',\n",
       " 'Fravy',\n",
       " 'SHAAH COLLECTIONS',\n",
       " 'ABNER',\n",
       " 'ROZZETTA CRAFT',\n",
       " 'elegante',\n",
       " 'Elligator',\n",
       " 'Fastrack',\n",
       " 'hipe',\n",
       " 'hipe',\n",
       " 'DEIXELS',\n",
       " 'kingsunglasses',\n",
       " 'DEIXELS',\n",
       " 'ROZZETTA CRAFT',\n",
       " 'Cruze',\n",
       " 'ROZZETTA CRAFT',\n",
       " 'ROYAL SON',\n",
       " 'ROZZETTA CRAFT',\n",
       " 'Singco India',\n",
       " 'MAXX',\n",
       " 'Rich Club',\n",
       " 'ROYAL SON',\n",
       " 'GANSTA',\n",
       " 'PIRASO',\n",
       " 'PHENOMENAL',\n",
       " 'VINCENT CHASE',\n",
       " 'Lee Topper',\n",
       " 'ROZZETTA CRAFT',\n",
       " 'NuVew',\n",
       " 'VINCENT CHASE']"
      ]
     },
     "execution_count": 261,
     "metadata": {},
     "output_type": "execute_result"
    }
   ],
   "source": [
    "##for i in brand_tags_pg2:\n",
    "  #  t = i.text\n",
    "   # brands_pg2b.append(t)\n",
    "#brands_pg2b[7 : 40]"
   ]
  },
  {
   "cell_type": "code",
   "execution_count": 262,
   "id": "efb27be8",
   "metadata": {},
   "outputs": [],
   "source": [
    "#brands_pg2 = brands_pg2a + brands_pg2b"
   ]
  },
  {
   "cell_type": "code",
   "execution_count": 280,
   "id": "5994d11d",
   "metadata": {},
   "outputs": [
    {
     "data": {
      "text/plain": [
       "40"
      ]
     },
     "execution_count": 280,
     "metadata": {},
     "output_type": "execute_result"
    }
   ],
   "source": [
    "len(brands_2)"
   ]
  },
  {
   "cell_type": "code",
   "execution_count": 284,
   "id": "c98a3032",
   "metadata": {
    "collapsed": true
   },
   "outputs": [
    {
     "name": "stderr",
     "output_type": "stream",
     "text": [
      "<ipython-input-284-c295733b5b9f>:1: DeprecationWarning: find_elements_by_* commands are deprecated. Please use find_elements() instead\n",
      "  descr_tags_pg2 = driver.find_elements_by_class_name(\"IRpwTa\")\n"
     ]
    },
    {
     "data": {
      "text/plain": [
       "[<selenium.webdriver.remote.webelement.WebElement (session=\"6d764c023d2e2b0c39a81d5d72f08a6c\", element=\"ff743427-c842-45e3-841f-7de9a4f8d054\")>,\n",
       " <selenium.webdriver.remote.webelement.WebElement (session=\"6d764c023d2e2b0c39a81d5d72f08a6c\", element=\"ad89b819-1ad0-4be2-a975-206707e3db7a\")>,\n",
       " <selenium.webdriver.remote.webelement.WebElement (session=\"6d764c023d2e2b0c39a81d5d72f08a6c\", element=\"b806315d-e3ed-4e14-9b30-eaf5ece8b895\")>,\n",
       " <selenium.webdriver.remote.webelement.WebElement (session=\"6d764c023d2e2b0c39a81d5d72f08a6c\", element=\"b774eb28-3f85-465c-a7f9-656d1a9b52bf\")>,\n",
       " <selenium.webdriver.remote.webelement.WebElement (session=\"6d764c023d2e2b0c39a81d5d72f08a6c\", element=\"69b042ce-9820-4e68-8872-33f55d54ab8f\")>,\n",
       " <selenium.webdriver.remote.webelement.WebElement (session=\"6d764c023d2e2b0c39a81d5d72f08a6c\", element=\"e274d8ae-768f-4b24-818d-20981032ee46\")>,\n",
       " <selenium.webdriver.remote.webelement.WebElement (session=\"6d764c023d2e2b0c39a81d5d72f08a6c\", element=\"73b8dd4b-40f1-45fd-867d-d2074de66dff\")>,\n",
       " <selenium.webdriver.remote.webelement.WebElement (session=\"6d764c023d2e2b0c39a81d5d72f08a6c\", element=\"86143d7b-4cef-4ad4-81a2-c1d158f9c819\")>,\n",
       " <selenium.webdriver.remote.webelement.WebElement (session=\"6d764c023d2e2b0c39a81d5d72f08a6c\", element=\"3e5a4ff4-5b8e-473e-af49-5b8f1048d91f\")>,\n",
       " <selenium.webdriver.remote.webelement.WebElement (session=\"6d764c023d2e2b0c39a81d5d72f08a6c\", element=\"3fb7fb04-7ccb-4b88-8be8-15c4d55a94d8\")>,\n",
       " <selenium.webdriver.remote.webelement.WebElement (session=\"6d764c023d2e2b0c39a81d5d72f08a6c\", element=\"2e98afd6-64c4-4d41-be6a-88e62bb404c8\")>,\n",
       " <selenium.webdriver.remote.webelement.WebElement (session=\"6d764c023d2e2b0c39a81d5d72f08a6c\", element=\"a7f1aaf8-7783-4b81-bfa1-2aa71a3e3585\")>,\n",
       " <selenium.webdriver.remote.webelement.WebElement (session=\"6d764c023d2e2b0c39a81d5d72f08a6c\", element=\"950cd124-ca1d-4800-9c4d-ceb0ec50e0d9\")>,\n",
       " <selenium.webdriver.remote.webelement.WebElement (session=\"6d764c023d2e2b0c39a81d5d72f08a6c\", element=\"5a4a39c2-08c4-499c-bf79-63e1ba3f2fdf\")>,\n",
       " <selenium.webdriver.remote.webelement.WebElement (session=\"6d764c023d2e2b0c39a81d5d72f08a6c\", element=\"a2019321-aa26-4b3f-9d48-a5f6c5e18ba0\")>,\n",
       " <selenium.webdriver.remote.webelement.WebElement (session=\"6d764c023d2e2b0c39a81d5d72f08a6c\", element=\"f3941618-caba-4ede-8f91-5af444726c40\")>,\n",
       " <selenium.webdriver.remote.webelement.WebElement (session=\"6d764c023d2e2b0c39a81d5d72f08a6c\", element=\"5636c527-2666-445f-aa51-d3d61a657258\")>,\n",
       " <selenium.webdriver.remote.webelement.WebElement (session=\"6d764c023d2e2b0c39a81d5d72f08a6c\", element=\"1fa24f89-540b-4c8e-8f78-761b86d0bcee\")>,\n",
       " <selenium.webdriver.remote.webelement.WebElement (session=\"6d764c023d2e2b0c39a81d5d72f08a6c\", element=\"223bd1e0-37c1-40fd-adce-aa3b7d77c2a8\")>,\n",
       " <selenium.webdriver.remote.webelement.WebElement (session=\"6d764c023d2e2b0c39a81d5d72f08a6c\", element=\"0ea46ca5-142f-4830-8150-66cd1ca859b2\")>,\n",
       " <selenium.webdriver.remote.webelement.WebElement (session=\"6d764c023d2e2b0c39a81d5d72f08a6c\", element=\"409ec19f-0dce-4407-89df-b1d9c8d09932\")>,\n",
       " <selenium.webdriver.remote.webelement.WebElement (session=\"6d764c023d2e2b0c39a81d5d72f08a6c\", element=\"109e164a-ecc6-4f06-8d65-c1f1f5137c9f\")>,\n",
       " <selenium.webdriver.remote.webelement.WebElement (session=\"6d764c023d2e2b0c39a81d5d72f08a6c\", element=\"4dd489e0-beff-41d7-bf63-9bae0153ba89\")>,\n",
       " <selenium.webdriver.remote.webelement.WebElement (session=\"6d764c023d2e2b0c39a81d5d72f08a6c\", element=\"d37d16cb-49e4-4f98-a670-b03870ad8eaf\")>,\n",
       " <selenium.webdriver.remote.webelement.WebElement (session=\"6d764c023d2e2b0c39a81d5d72f08a6c\", element=\"b13848aa-f670-490b-ac5f-93e459175931\")>,\n",
       " <selenium.webdriver.remote.webelement.WebElement (session=\"6d764c023d2e2b0c39a81d5d72f08a6c\", element=\"71a32d8c-0b75-4284-865c-cff68766a885\")>,\n",
       " <selenium.webdriver.remote.webelement.WebElement (session=\"6d764c023d2e2b0c39a81d5d72f08a6c\", element=\"94537be6-2e09-4b63-a4d8-7ce9c66632b8\")>,\n",
       " <selenium.webdriver.remote.webelement.WebElement (session=\"6d764c023d2e2b0c39a81d5d72f08a6c\", element=\"13b33686-416f-4a1c-ad96-614e8aac98bb\")>,\n",
       " <selenium.webdriver.remote.webelement.WebElement (session=\"6d764c023d2e2b0c39a81d5d72f08a6c\", element=\"01b1cae0-c264-4e3f-8459-b3fa5b220caa\")>,\n",
       " <selenium.webdriver.remote.webelement.WebElement (session=\"6d764c023d2e2b0c39a81d5d72f08a6c\", element=\"aee19ec6-1a39-4cf2-b4e4-86e57ce47601\")>,\n",
       " <selenium.webdriver.remote.webelement.WebElement (session=\"6d764c023d2e2b0c39a81d5d72f08a6c\", element=\"e1bcb62a-c87c-4417-bb02-604c7d6425a4\")>,\n",
       " <selenium.webdriver.remote.webelement.WebElement (session=\"6d764c023d2e2b0c39a81d5d72f08a6c\", element=\"cbf8bf16-49a2-4004-a3fe-7a39f31873f9\")>,\n",
       " <selenium.webdriver.remote.webelement.WebElement (session=\"6d764c023d2e2b0c39a81d5d72f08a6c\", element=\"efeb224f-92b8-4b72-8ccd-6c00d24cf5cf\")>,\n",
       " <selenium.webdriver.remote.webelement.WebElement (session=\"6d764c023d2e2b0c39a81d5d72f08a6c\", element=\"2310889e-13e0-4963-b13c-781b70bb5704\")>,\n",
       " <selenium.webdriver.remote.webelement.WebElement (session=\"6d764c023d2e2b0c39a81d5d72f08a6c\", element=\"0b5467d0-0c59-499e-aebd-dd3864843927\")>,\n",
       " <selenium.webdriver.remote.webelement.WebElement (session=\"6d764c023d2e2b0c39a81d5d72f08a6c\", element=\"f313505a-f96f-46ac-81b2-73eea803f05a\")>,\n",
       " <selenium.webdriver.remote.webelement.WebElement (session=\"6d764c023d2e2b0c39a81d5d72f08a6c\", element=\"da4465b3-4e81-4673-ac7f-7c9bef5ead57\")>,\n",
       " <selenium.webdriver.remote.webelement.WebElement (session=\"6d764c023d2e2b0c39a81d5d72f08a6c\", element=\"1a19bb92-0792-43d5-a340-1e81f02401ec\")>,\n",
       " <selenium.webdriver.remote.webelement.WebElement (session=\"6d764c023d2e2b0c39a81d5d72f08a6c\", element=\"15411285-208e-41e1-8fe4-c56048aac7ea\")>,\n",
       " <selenium.webdriver.remote.webelement.WebElement (session=\"6d764c023d2e2b0c39a81d5d72f08a6c\", element=\"2e5cdaa9-d642-4b8b-9921-31d61928cdf8\")>]"
      ]
     },
     "execution_count": 284,
     "metadata": {},
     "output_type": "execute_result"
    }
   ],
   "source": [
    "descr_tags_pg2 = driver.find_elements_by_class_name(\"IRpwTa\")\n",
    "descr_tags_pg2"
   ]
  },
  {
   "cell_type": "code",
   "execution_count": 285,
   "id": "2e16e728",
   "metadata": {
    "collapsed": true
   },
   "outputs": [
    {
     "data": {
      "text/plain": [
       "['Mirrored Round Sunglasses (Free Size)',\n",
       " 'UV Protection, Night Vision, Riding Glasses, Gradient, ...',\n",
       " 'UV Protection Aviator Sunglasses (88)',\n",
       " 'UV Protection Aviator Sunglasses (53)',\n",
       " 'UV Protection Wayfarer Sunglasses (53)',\n",
       " 'Mirrored, UV Protection Wayfarer Sunglasses (Free Size)',\n",
       " 'UV Protection Aviator Sunglasses (54)',\n",
       " 'Polarized, UV Protection Wayfarer Sunglasses (57)',\n",
       " 'UV Protection Wayfarer Sunglasses (32)',\n",
       " 'UV Protection Round Sunglasses (Free Size)',\n",
       " 'UV Protection, Mirrored Retro Square Sunglasses (53)',\n",
       " 'UV Protection Oval Sunglasses (Free Size)',\n",
       " 'UV Protection Retro Square Sunglasses (Free Size)',\n",
       " 'UV Protection Wayfarer Sunglasses (53)',\n",
       " 'Mirrored, Gradient, Riding Glasses Round Sunglasses (55...',\n",
       " 'by Lenskart Polarized, UV Protection Wayfarer Sunglasse...',\n",
       " 'UV Protection Wayfarer Sunglasses (Free Size)',\n",
       " 'UV Protection, Gradient Retro Square Sunglasses (Free S...',\n",
       " 'UV Protection Round Sunglasses (54)',\n",
       " 'UV Protection, Gradient, Night Vision Retro Square Sung...',\n",
       " 'UV Protection Aviator, Wayfarer Sunglasses (Free Size)',\n",
       " 'UV Protection, Mirrored Round Sunglasses (Free Size)',\n",
       " 'UV Protection, Night Vision, Gradient, Mirrored Round, ...',\n",
       " 'UV Protection Sports Sunglasses (Free Size)',\n",
       " 'Polarized, UV Protection, Riding Glasses Wayfarer Sungl...',\n",
       " 'UV Protection Wayfarer Sunglasses (Free Size)',\n",
       " 'UV Protection, Gradient Round Sunglasses (Free Size)',\n",
       " 'UV Protection, Gradient Retro Square Sunglasses (Free S...',\n",
       " 'UV Protection, Mirrored Retro Square Sunglasses (Free S...',\n",
       " 'UV Protection Round Sunglasses (Free Size)',\n",
       " 'UV Protection Retro Square Sunglasses (58)',\n",
       " 'Polarized, UV Protection Aviator Sunglasses (58)',\n",
       " 'UV Protection, Others Round Sunglasses (48)',\n",
       " 'UV Protection Aviator Sunglasses (Free Size)',\n",
       " 'UV Protection Aviator Sunglasses (Free Size)',\n",
       " 'UV Protection, Gradient Retro Square Sunglasses (46)',\n",
       " 'UV Protection Aviator Sunglasses (58)',\n",
       " 'UV Protection, Gradient, Riding Glasses Wayfarer Sungla...',\n",
       " 'UV Protection, Riding Glasses Rectangular Sunglasses (F...',\n",
       " 'Polarized, UV Protection Aviator Sunglasses (58)']"
      ]
     },
     "execution_count": 285,
     "metadata": {},
     "output_type": "execute_result"
    }
   ],
   "source": [
    "for i in descr_tags_pg2:\n",
    "    d = i.text\n",
    "    descr_pg2.append(d)\n",
    "descr_pg2"
   ]
  },
  {
   "cell_type": "code",
   "execution_count": 286,
   "id": "525512f9",
   "metadata": {},
   "outputs": [
    {
     "data": {
      "text/plain": [
       "40"
      ]
     },
     "execution_count": 286,
     "metadata": {},
     "output_type": "execute_result"
    }
   ],
   "source": [
    "len(descr_pg2)"
   ]
  },
  {
   "cell_type": "code",
   "execution_count": 287,
   "id": "2c7810c7",
   "metadata": {
    "collapsed": true
   },
   "outputs": [
    {
     "name": "stderr",
     "output_type": "stream",
     "text": [
      "<ipython-input-287-2974c6aaf659>:1: DeprecationWarning: find_elements_by_* commands are deprecated. Please use find_elements() instead\n",
      "  prices_tags_pg2 = driver.find_elements_by_xpath(\"//a[@class='_3bPFwb']//*[@class='_30jeq3']\") #//*[@class='_3Ay6Sb']\n"
     ]
    },
    {
     "data": {
      "text/plain": [
       "[<selenium.webdriver.remote.webelement.WebElement (session=\"6d764c023d2e2b0c39a81d5d72f08a6c\", element=\"d7f56a66-9583-42e6-abc5-8fda1aaeb9e7\")>,\n",
       " <selenium.webdriver.remote.webelement.WebElement (session=\"6d764c023d2e2b0c39a81d5d72f08a6c\", element=\"ca57f55f-47ec-436b-89b1-a08fb526f312\")>,\n",
       " <selenium.webdriver.remote.webelement.WebElement (session=\"6d764c023d2e2b0c39a81d5d72f08a6c\", element=\"11ca2d90-132e-44a5-96c0-cdb50f73b185\")>,\n",
       " <selenium.webdriver.remote.webelement.WebElement (session=\"6d764c023d2e2b0c39a81d5d72f08a6c\", element=\"fd8440a2-6d5e-4087-a99a-b0d78f190c62\")>,\n",
       " <selenium.webdriver.remote.webelement.WebElement (session=\"6d764c023d2e2b0c39a81d5d72f08a6c\", element=\"dd8a1c63-9bd8-4e87-b337-6cce555b01a3\")>,\n",
       " <selenium.webdriver.remote.webelement.WebElement (session=\"6d764c023d2e2b0c39a81d5d72f08a6c\", element=\"4d4ab9b5-adfc-4861-bc9f-c7dae0ff82a2\")>,\n",
       " <selenium.webdriver.remote.webelement.WebElement (session=\"6d764c023d2e2b0c39a81d5d72f08a6c\", element=\"c3131bd2-e8f9-44ea-b9fb-d930e4b07e91\")>,\n",
       " <selenium.webdriver.remote.webelement.WebElement (session=\"6d764c023d2e2b0c39a81d5d72f08a6c\", element=\"a2f212f3-ccb7-43d7-8a48-6e8de1d0325b\")>,\n",
       " <selenium.webdriver.remote.webelement.WebElement (session=\"6d764c023d2e2b0c39a81d5d72f08a6c\", element=\"9c774e90-164e-49d5-9632-6b07eee8d2d0\")>,\n",
       " <selenium.webdriver.remote.webelement.WebElement (session=\"6d764c023d2e2b0c39a81d5d72f08a6c\", element=\"3922a93d-4f59-4cfb-bd30-412458a2c77d\")>,\n",
       " <selenium.webdriver.remote.webelement.WebElement (session=\"6d764c023d2e2b0c39a81d5d72f08a6c\", element=\"c0867e95-8e1d-452e-b73d-00865b45ec30\")>,\n",
       " <selenium.webdriver.remote.webelement.WebElement (session=\"6d764c023d2e2b0c39a81d5d72f08a6c\", element=\"8ba4f7a6-743b-42f2-a8be-4ec5b1c0140b\")>,\n",
       " <selenium.webdriver.remote.webelement.WebElement (session=\"6d764c023d2e2b0c39a81d5d72f08a6c\", element=\"13d8addb-59a7-4cdb-a4b9-deb7d0813734\")>,\n",
       " <selenium.webdriver.remote.webelement.WebElement (session=\"6d764c023d2e2b0c39a81d5d72f08a6c\", element=\"cd249189-1cb7-4b3d-832c-1a70abaceb5e\")>,\n",
       " <selenium.webdriver.remote.webelement.WebElement (session=\"6d764c023d2e2b0c39a81d5d72f08a6c\", element=\"1c8661af-71f9-4385-bb40-90b8bcc6fb16\")>,\n",
       " <selenium.webdriver.remote.webelement.WebElement (session=\"6d764c023d2e2b0c39a81d5d72f08a6c\", element=\"99fcc1a3-af9c-4706-ac3c-41d46817136c\")>,\n",
       " <selenium.webdriver.remote.webelement.WebElement (session=\"6d764c023d2e2b0c39a81d5d72f08a6c\", element=\"05d126d0-12ac-4dca-b110-dea7190ad3e7\")>,\n",
       " <selenium.webdriver.remote.webelement.WebElement (session=\"6d764c023d2e2b0c39a81d5d72f08a6c\", element=\"17e23639-e698-4eb9-8ecc-8dec9d65ac23\")>,\n",
       " <selenium.webdriver.remote.webelement.WebElement (session=\"6d764c023d2e2b0c39a81d5d72f08a6c\", element=\"54d8814d-be1d-4be2-85ad-941e4f286883\")>,\n",
       " <selenium.webdriver.remote.webelement.WebElement (session=\"6d764c023d2e2b0c39a81d5d72f08a6c\", element=\"76a43585-7cbe-4e18-ae2a-99834a45fde4\")>,\n",
       " <selenium.webdriver.remote.webelement.WebElement (session=\"6d764c023d2e2b0c39a81d5d72f08a6c\", element=\"f976eaa4-43ed-41a6-aabf-e95783c5ea76\")>,\n",
       " <selenium.webdriver.remote.webelement.WebElement (session=\"6d764c023d2e2b0c39a81d5d72f08a6c\", element=\"22179077-586d-4f1b-91cc-078fed2f47a4\")>,\n",
       " <selenium.webdriver.remote.webelement.WebElement (session=\"6d764c023d2e2b0c39a81d5d72f08a6c\", element=\"40e1f264-c09d-457d-8025-e20aa543bec0\")>,\n",
       " <selenium.webdriver.remote.webelement.WebElement (session=\"6d764c023d2e2b0c39a81d5d72f08a6c\", element=\"a7f56d41-bd46-4804-97ca-3c2a04f6e528\")>,\n",
       " <selenium.webdriver.remote.webelement.WebElement (session=\"6d764c023d2e2b0c39a81d5d72f08a6c\", element=\"4ff3a4fb-fd9d-4487-b63d-2560cea29ff3\")>,\n",
       " <selenium.webdriver.remote.webelement.WebElement (session=\"6d764c023d2e2b0c39a81d5d72f08a6c\", element=\"f5d729ec-20ac-48ec-8eea-6b7eb0699d8b\")>,\n",
       " <selenium.webdriver.remote.webelement.WebElement (session=\"6d764c023d2e2b0c39a81d5d72f08a6c\", element=\"f2bb17d3-8dce-4899-9ee5-54d7e4f74cee\")>,\n",
       " <selenium.webdriver.remote.webelement.WebElement (session=\"6d764c023d2e2b0c39a81d5d72f08a6c\", element=\"7f923387-02a2-4fc8-a045-fd987f414fe6\")>,\n",
       " <selenium.webdriver.remote.webelement.WebElement (session=\"6d764c023d2e2b0c39a81d5d72f08a6c\", element=\"9bc09f12-be4c-4a2b-bb83-b17a7cd05581\")>,\n",
       " <selenium.webdriver.remote.webelement.WebElement (session=\"6d764c023d2e2b0c39a81d5d72f08a6c\", element=\"bce37d5c-b94d-4139-94c4-8db5c2680917\")>,\n",
       " <selenium.webdriver.remote.webelement.WebElement (session=\"6d764c023d2e2b0c39a81d5d72f08a6c\", element=\"cec0994d-7064-4645-8d85-be2da1b6e10b\")>,\n",
       " <selenium.webdriver.remote.webelement.WebElement (session=\"6d764c023d2e2b0c39a81d5d72f08a6c\", element=\"606d5658-f1ca-4813-8424-a466f0f4edc0\")>,\n",
       " <selenium.webdriver.remote.webelement.WebElement (session=\"6d764c023d2e2b0c39a81d5d72f08a6c\", element=\"dfe9aed1-e055-4db2-8e42-33db70114bc1\")>,\n",
       " <selenium.webdriver.remote.webelement.WebElement (session=\"6d764c023d2e2b0c39a81d5d72f08a6c\", element=\"1b2254aa-b89a-42d6-bbc5-86da997516f6\")>,\n",
       " <selenium.webdriver.remote.webelement.WebElement (session=\"6d764c023d2e2b0c39a81d5d72f08a6c\", element=\"345c7690-9981-4930-97fd-13574feb6649\")>,\n",
       " <selenium.webdriver.remote.webelement.WebElement (session=\"6d764c023d2e2b0c39a81d5d72f08a6c\", element=\"f7028156-1bcc-404d-b88a-8de60faece52\")>,\n",
       " <selenium.webdriver.remote.webelement.WebElement (session=\"6d764c023d2e2b0c39a81d5d72f08a6c\", element=\"7e539fb6-072a-46c6-9818-0f4058229d50\")>,\n",
       " <selenium.webdriver.remote.webelement.WebElement (session=\"6d764c023d2e2b0c39a81d5d72f08a6c\", element=\"b90febdf-9a29-490a-b30a-354ea5a36486\")>,\n",
       " <selenium.webdriver.remote.webelement.WebElement (session=\"6d764c023d2e2b0c39a81d5d72f08a6c\", element=\"d027554d-64e4-4071-928a-9c9cee0ba593\")>,\n",
       " <selenium.webdriver.remote.webelement.WebElement (session=\"6d764c023d2e2b0c39a81d5d72f08a6c\", element=\"c48f5068-6d5e-4887-b128-c0e44624866f\")>]"
      ]
     },
     "execution_count": 287,
     "metadata": {},
     "output_type": "execute_result"
    }
   ],
   "source": [
    "prices_tags_pg2 = driver.find_elements_by_xpath(\"//a[@class='_3bPFwb']//*[@class='_30jeq3']\") #//*[@class='_3Ay6Sb']\n",
    "prices_tags_pg2"
   ]
  },
  {
   "cell_type": "code",
   "execution_count": 288,
   "id": "4247debe",
   "metadata": {
    "collapsed": true
   },
   "outputs": [
    {
     "data": {
      "text/plain": [
       "['₹340',\n",
       " '₹189',\n",
       " '₹255',\n",
       " '₹999',\n",
       " '₹220',\n",
       " '₹259',\n",
       " '₹200',\n",
       " '₹999',\n",
       " '₹200',\n",
       " '₹299',\n",
       " '₹311',\n",
       " '₹359',\n",
       " '₹329',\n",
       " '₹319',\n",
       " '₹189',\n",
       " '₹999',\n",
       " '₹649',\n",
       " '₹325',\n",
       " '₹279',\n",
       " '₹339',\n",
       " '₹202',\n",
       " '₹249',\n",
       " '₹189',\n",
       " '₹287',\n",
       " '₹224',\n",
       " '₹165',\n",
       " '₹449',\n",
       " '₹325',\n",
       " '₹329',\n",
       " '₹217',\n",
       " '₹449',\n",
       " '₹999',\n",
       " '₹260',\n",
       " '₹499',\n",
       " '₹165',\n",
       " '₹325',\n",
       " '₹319',\n",
       " '₹257',\n",
       " '₹449',\n",
       " '₹999']"
      ]
     },
     "execution_count": 288,
     "metadata": {},
     "output_type": "execute_result"
    }
   ],
   "source": [
    "for i in prices_tags_pg2:\n",
    "    p = i.text\n",
    "    prices_pg2.append(p)\n",
    "prices_pg2"
   ]
  },
  {
   "cell_type": "code",
   "execution_count": 289,
   "id": "49bad438",
   "metadata": {},
   "outputs": [
    {
     "data": {
      "text/plain": [
       "40"
      ]
     },
     "execution_count": 289,
     "metadata": {},
     "output_type": "execute_result"
    }
   ],
   "source": [
    "len(prices_pg2)"
   ]
  },
  {
   "cell_type": "code",
   "execution_count": 281,
   "id": "e8efd204",
   "metadata": {
    "collapsed": true
   },
   "outputs": [
    {
     "name": "stderr",
     "output_type": "stream",
     "text": [
      "<ipython-input-281-050022cbcdef>:1: DeprecationWarning: find_elements_by_* commands are deprecated. Please use find_elements() instead\n",
      "  discount_tags_pg2 = driver.find_elements_by_xpath(\"//a[@class='_3bPFwb']//*[@class='_3Ay6Sb']\") #//*[@class='_3Ay6Sb']\n"
     ]
    },
    {
     "data": {
      "text/plain": [
       "[<selenium.webdriver.remote.webelement.WebElement (session=\"6d764c023d2e2b0c39a81d5d72f08a6c\", element=\"e6df58f6-243a-4ab1-8049-235916a78b7c\")>,\n",
       " <selenium.webdriver.remote.webelement.WebElement (session=\"6d764c023d2e2b0c39a81d5d72f08a6c\", element=\"aa264c10-09e6-4238-a115-ad86f702478f\")>,\n",
       " <selenium.webdriver.remote.webelement.WebElement (session=\"6d764c023d2e2b0c39a81d5d72f08a6c\", element=\"b962569d-f6c5-4e99-8a21-580bfe1c9151\")>,\n",
       " <selenium.webdriver.remote.webelement.WebElement (session=\"6d764c023d2e2b0c39a81d5d72f08a6c\", element=\"ed544834-f1a3-4b00-9d7c-97716fe228eb\")>,\n",
       " <selenium.webdriver.remote.webelement.WebElement (session=\"6d764c023d2e2b0c39a81d5d72f08a6c\", element=\"a6fe1200-b690-4747-a098-72ae8de02af3\")>,\n",
       " <selenium.webdriver.remote.webelement.WebElement (session=\"6d764c023d2e2b0c39a81d5d72f08a6c\", element=\"9148bc62-1366-46f3-83bd-06210df1647b\")>,\n",
       " <selenium.webdriver.remote.webelement.WebElement (session=\"6d764c023d2e2b0c39a81d5d72f08a6c\", element=\"a19d7c5d-1af1-4b03-b4d0-dd4f362ba83d\")>,\n",
       " <selenium.webdriver.remote.webelement.WebElement (session=\"6d764c023d2e2b0c39a81d5d72f08a6c\", element=\"07bd307b-a2dc-4c2a-b821-1a88d613227a\")>,\n",
       " <selenium.webdriver.remote.webelement.WebElement (session=\"6d764c023d2e2b0c39a81d5d72f08a6c\", element=\"f296fde9-9720-4e71-a22d-b428145d3424\")>,\n",
       " <selenium.webdriver.remote.webelement.WebElement (session=\"6d764c023d2e2b0c39a81d5d72f08a6c\", element=\"50909a89-4fb2-4637-90a9-7aae215ea341\")>,\n",
       " <selenium.webdriver.remote.webelement.WebElement (session=\"6d764c023d2e2b0c39a81d5d72f08a6c\", element=\"067595c9-b3ff-4b5e-9b71-2c789e050b83\")>,\n",
       " <selenium.webdriver.remote.webelement.WebElement (session=\"6d764c023d2e2b0c39a81d5d72f08a6c\", element=\"0b536a9b-1ac2-4ee8-b73e-64b81e9f6016\")>,\n",
       " <selenium.webdriver.remote.webelement.WebElement (session=\"6d764c023d2e2b0c39a81d5d72f08a6c\", element=\"82848533-de94-407b-b609-3089a270401d\")>,\n",
       " <selenium.webdriver.remote.webelement.WebElement (session=\"6d764c023d2e2b0c39a81d5d72f08a6c\", element=\"7b9da19c-8e8a-4405-8794-7783837931d6\")>,\n",
       " <selenium.webdriver.remote.webelement.WebElement (session=\"6d764c023d2e2b0c39a81d5d72f08a6c\", element=\"e23e461a-95ee-45ef-b051-a4c571366fd8\")>,\n",
       " <selenium.webdriver.remote.webelement.WebElement (session=\"6d764c023d2e2b0c39a81d5d72f08a6c\", element=\"ff003c4a-1ada-4aa2-a2ef-7afe44cd39c9\")>,\n",
       " <selenium.webdriver.remote.webelement.WebElement (session=\"6d764c023d2e2b0c39a81d5d72f08a6c\", element=\"cf5a2851-858f-4f44-a005-0c022c0b3537\")>,\n",
       " <selenium.webdriver.remote.webelement.WebElement (session=\"6d764c023d2e2b0c39a81d5d72f08a6c\", element=\"baa19d8e-5ab8-4b9c-9181-18f860bdb072\")>,\n",
       " <selenium.webdriver.remote.webelement.WebElement (session=\"6d764c023d2e2b0c39a81d5d72f08a6c\", element=\"41eb5934-95e0-4671-bdec-c87388dd5750\")>,\n",
       " <selenium.webdriver.remote.webelement.WebElement (session=\"6d764c023d2e2b0c39a81d5d72f08a6c\", element=\"f33c8874-16d1-465d-9fc1-672c9091fb08\")>,\n",
       " <selenium.webdriver.remote.webelement.WebElement (session=\"6d764c023d2e2b0c39a81d5d72f08a6c\", element=\"5b167f0c-645c-49c4-a84e-25c8723a4ab5\")>,\n",
       " <selenium.webdriver.remote.webelement.WebElement (session=\"6d764c023d2e2b0c39a81d5d72f08a6c\", element=\"32f6e9d5-d48c-49f7-852e-67822f5bc922\")>,\n",
       " <selenium.webdriver.remote.webelement.WebElement (session=\"6d764c023d2e2b0c39a81d5d72f08a6c\", element=\"dc47796b-ddaf-465f-a64a-5fe8e207e729\")>,\n",
       " <selenium.webdriver.remote.webelement.WebElement (session=\"6d764c023d2e2b0c39a81d5d72f08a6c\", element=\"0bde7f4d-f6fe-40b4-b249-31c659d5728f\")>,\n",
       " <selenium.webdriver.remote.webelement.WebElement (session=\"6d764c023d2e2b0c39a81d5d72f08a6c\", element=\"68533f3a-a913-4b87-8c85-62db7003996f\")>,\n",
       " <selenium.webdriver.remote.webelement.WebElement (session=\"6d764c023d2e2b0c39a81d5d72f08a6c\", element=\"e20ebb61-ba35-42cb-b7b4-5da3664375e6\")>,\n",
       " <selenium.webdriver.remote.webelement.WebElement (session=\"6d764c023d2e2b0c39a81d5d72f08a6c\", element=\"31fc9879-668c-4884-9ec7-fd7047da55ce\")>,\n",
       " <selenium.webdriver.remote.webelement.WebElement (session=\"6d764c023d2e2b0c39a81d5d72f08a6c\", element=\"15aabc5d-3166-4d00-85c8-d0d8d3577d62\")>,\n",
       " <selenium.webdriver.remote.webelement.WebElement (session=\"6d764c023d2e2b0c39a81d5d72f08a6c\", element=\"e64ddac4-d298-4c60-9835-2a6f9d289052\")>,\n",
       " <selenium.webdriver.remote.webelement.WebElement (session=\"6d764c023d2e2b0c39a81d5d72f08a6c\", element=\"381a4ec0-db56-41ef-ba89-2a1ccc91231a\")>,\n",
       " <selenium.webdriver.remote.webelement.WebElement (session=\"6d764c023d2e2b0c39a81d5d72f08a6c\", element=\"f6698c39-80f7-4413-947f-e93642080a4c\")>,\n",
       " <selenium.webdriver.remote.webelement.WebElement (session=\"6d764c023d2e2b0c39a81d5d72f08a6c\", element=\"5cfa4464-ab8c-4929-8a30-28baa48e6e8e\")>,\n",
       " <selenium.webdriver.remote.webelement.WebElement (session=\"6d764c023d2e2b0c39a81d5d72f08a6c\", element=\"7523004f-a057-4990-baf8-aa95aeb5dd9f\")>,\n",
       " <selenium.webdriver.remote.webelement.WebElement (session=\"6d764c023d2e2b0c39a81d5d72f08a6c\", element=\"519baaf7-f464-4b19-9996-b57b9039b56e\")>,\n",
       " <selenium.webdriver.remote.webelement.WebElement (session=\"6d764c023d2e2b0c39a81d5d72f08a6c\", element=\"d1a655b9-9151-4bac-bf54-996d98b1aadf\")>,\n",
       " <selenium.webdriver.remote.webelement.WebElement (session=\"6d764c023d2e2b0c39a81d5d72f08a6c\", element=\"ed064bd1-1af6-4389-a054-ab4988129dcc\")>,\n",
       " <selenium.webdriver.remote.webelement.WebElement (session=\"6d764c023d2e2b0c39a81d5d72f08a6c\", element=\"3eda5433-05a8-41f9-b4ae-65733c2e7e8d\")>,\n",
       " <selenium.webdriver.remote.webelement.WebElement (session=\"6d764c023d2e2b0c39a81d5d72f08a6c\", element=\"bd9867c6-7dcb-490a-851c-f1ce33f91104\")>,\n",
       " <selenium.webdriver.remote.webelement.WebElement (session=\"6d764c023d2e2b0c39a81d5d72f08a6c\", element=\"4a38756c-50b3-4218-ae1c-093a088710ae\")>,\n",
       " <selenium.webdriver.remote.webelement.WebElement (session=\"6d764c023d2e2b0c39a81d5d72f08a6c\", element=\"20fff2e4-85a8-4ca9-bc29-69d88c2c22d7\")>]"
      ]
     },
     "execution_count": 281,
     "metadata": {},
     "output_type": "execute_result"
    }
   ],
   "source": [
    "discount_tags_pg2 = driver.find_elements_by_xpath(\"//a[@class='_3bPFwb']//*[@class='_3Ay6Sb']\") #//*[@class='_3Ay6Sb']\n",
    "discount_tags_pg2"
   ]
  },
  {
   "cell_type": "code",
   "execution_count": 282,
   "id": "72fc5ede",
   "metadata": {
    "collapsed": true
   },
   "outputs": [
    {
     "data": {
      "text/plain": [
       "['82% off',\n",
       " '85% off',\n",
       " '78% off',\n",
       " '50% off',\n",
       " '77% off',\n",
       " '82% off',\n",
       " '87% off',\n",
       " '50% off',\n",
       " '87% off',\n",
       " '82% off',\n",
       " '84% off',\n",
       " '76% off',\n",
       " '82% off',\n",
       " '90% off',\n",
       " '86% off',\n",
       " '50% off',\n",
       " '18% off',\n",
       " '83% off',\n",
       " '78% off',\n",
       " '83% off',\n",
       " '83% off',\n",
       " '85% off',\n",
       " '81% off',\n",
       " '84% off',\n",
       " '62% off',\n",
       " '66% off',\n",
       " '77% off',\n",
       " '83% off',\n",
       " '83% off',\n",
       " '78% off',\n",
       " '70% off',\n",
       " '60% off',\n",
       " '67% off',\n",
       " '61% off',\n",
       " '72% off',\n",
       " '83% off',\n",
       " '87% off',\n",
       " '87% off',\n",
       " '79% off',\n",
       " '60% off']"
      ]
     },
     "execution_count": 282,
     "metadata": {},
     "output_type": "execute_result"
    }
   ],
   "source": [
    "for i in discount_tags_pg2:\n",
    "    d = i.text\n",
    "    discounts_pg2.append(d)\n",
    "discounts_pg2"
   ]
  },
  {
   "cell_type": "code",
   "execution_count": 283,
   "id": "72076efb",
   "metadata": {},
   "outputs": [
    {
     "data": {
      "text/plain": [
       "40"
      ]
     },
     "execution_count": 283,
     "metadata": {},
     "output_type": "execute_result"
    }
   ],
   "source": [
    "len(discounts_pg2)"
   ]
  },
  {
   "cell_type": "code",
   "execution_count": 290,
   "id": "9769ff4e",
   "metadata": {},
   "outputs": [],
   "source": [
    "pg2 = pd.DataFrame({})\n",
    "pg2['Brand Name'] = brands_2\n",
    "pg2['Decsription'] = descr_pg2\n",
    "pg2['Prices'] = prices_pg2\n",
    "pg2['Discounts'] = discounts_pg2"
   ]
  },
  {
   "cell_type": "code",
   "execution_count": 291,
   "id": "e38139fa",
   "metadata": {
    "collapsed": true
   },
   "outputs": [
    {
     "data": {
      "text/html": [
       "<div>\n",
       "<style scoped>\n",
       "    .dataframe tbody tr th:only-of-type {\n",
       "        vertical-align: middle;\n",
       "    }\n",
       "\n",
       "    .dataframe tbody tr th {\n",
       "        vertical-align: top;\n",
       "    }\n",
       "\n",
       "    .dataframe thead th {\n",
       "        text-align: right;\n",
       "    }\n",
       "</style>\n",
       "<table border=\"1\" class=\"dataframe\">\n",
       "  <thead>\n",
       "    <tr style=\"text-align: right;\">\n",
       "      <th></th>\n",
       "      <th>Brand Name</th>\n",
       "      <th>Decsription</th>\n",
       "      <th>Prices</th>\n",
       "      <th>Discounts</th>\n",
       "    </tr>\n",
       "  </thead>\n",
       "  <tbody>\n",
       "    <tr>\n",
       "      <th>0</th>\n",
       "      <td>elegante</td>\n",
       "      <td>Mirrored Round Sunglasses (Free Size)</td>\n",
       "      <td>₹340</td>\n",
       "      <td>82% off</td>\n",
       "    </tr>\n",
       "    <tr>\n",
       "      <th>1</th>\n",
       "      <td>hipe</td>\n",
       "      <td>UV Protection, Night Vision, Riding Glasses, G...</td>\n",
       "      <td>₹189</td>\n",
       "      <td>85% off</td>\n",
       "    </tr>\n",
       "    <tr>\n",
       "      <th>2</th>\n",
       "      <td>Silver Kartz</td>\n",
       "      <td>UV Protection Aviator Sunglasses (88)</td>\n",
       "      <td>₹255</td>\n",
       "      <td>78% off</td>\n",
       "    </tr>\n",
       "    <tr>\n",
       "      <th>3</th>\n",
       "      <td>VINCENT CHASE</td>\n",
       "      <td>UV Protection Aviator Sunglasses (53)</td>\n",
       "      <td>₹999</td>\n",
       "      <td>50% off</td>\n",
       "    </tr>\n",
       "    <tr>\n",
       "      <th>4</th>\n",
       "      <td>SRPM</td>\n",
       "      <td>UV Protection Wayfarer Sunglasses (53)</td>\n",
       "      <td>₹220</td>\n",
       "      <td>77% off</td>\n",
       "    </tr>\n",
       "    <tr>\n",
       "      <th>5</th>\n",
       "      <td>kingsunglasses</td>\n",
       "      <td>Mirrored, UV Protection Wayfarer Sunglasses (F...</td>\n",
       "      <td>₹259</td>\n",
       "      <td>82% off</td>\n",
       "    </tr>\n",
       "    <tr>\n",
       "      <th>6</th>\n",
       "      <td>PIRASO</td>\n",
       "      <td>UV Protection Aviator Sunglasses (54)</td>\n",
       "      <td>₹200</td>\n",
       "      <td>87% off</td>\n",
       "    </tr>\n",
       "    <tr>\n",
       "      <th>7</th>\n",
       "      <td>VINCENT CHASE</td>\n",
       "      <td>Polarized, UV Protection Wayfarer Sunglasses (57)</td>\n",
       "      <td>₹999</td>\n",
       "      <td>50% off</td>\n",
       "    </tr>\n",
       "    <tr>\n",
       "      <th>8</th>\n",
       "      <td>PIRASO</td>\n",
       "      <td>UV Protection Wayfarer Sunglasses (32)</td>\n",
       "      <td>₹200</td>\n",
       "      <td>87% off</td>\n",
       "    </tr>\n",
       "    <tr>\n",
       "      <th>9</th>\n",
       "      <td>SHAAH COLLECTIONS</td>\n",
       "      <td>UV Protection Round Sunglasses (Free Size)</td>\n",
       "      <td>₹299</td>\n",
       "      <td>82% off</td>\n",
       "    </tr>\n",
       "    <tr>\n",
       "      <th>10</th>\n",
       "      <td>PHENOMENAL</td>\n",
       "      <td>UV Protection, Mirrored Retro Square Sunglasse...</td>\n",
       "      <td>₹311</td>\n",
       "      <td>84% off</td>\n",
       "    </tr>\n",
       "    <tr>\n",
       "      <th>11</th>\n",
       "      <td>elegante</td>\n",
       "      <td>UV Protection Oval Sunglasses (Free Size)</td>\n",
       "      <td>₹359</td>\n",
       "      <td>76% off</td>\n",
       "    </tr>\n",
       "    <tr>\n",
       "      <th>12</th>\n",
       "      <td>ABNER</td>\n",
       "      <td>UV Protection Retro Square Sunglasses (Free Size)</td>\n",
       "      <td>₹329</td>\n",
       "      <td>82% off</td>\n",
       "    </tr>\n",
       "    <tr>\n",
       "      <th>13</th>\n",
       "      <td>Elligator</td>\n",
       "      <td>UV Protection Wayfarer Sunglasses (53)</td>\n",
       "      <td>₹319</td>\n",
       "      <td>90% off</td>\n",
       "    </tr>\n",
       "    <tr>\n",
       "      <th>14</th>\n",
       "      <td>hipe</td>\n",
       "      <td>Mirrored, Gradient, Riding Glasses Round Sungl...</td>\n",
       "      <td>₹189</td>\n",
       "      <td>86% off</td>\n",
       "    </tr>\n",
       "    <tr>\n",
       "      <th>15</th>\n",
       "      <td>VINCENT CHASE</td>\n",
       "      <td>by Lenskart Polarized, UV Protection Wayfarer ...</td>\n",
       "      <td>₹999</td>\n",
       "      <td>50% off</td>\n",
       "    </tr>\n",
       "    <tr>\n",
       "      <th>16</th>\n",
       "      <td>Fastrack</td>\n",
       "      <td>UV Protection Wayfarer Sunglasses (Free Size)</td>\n",
       "      <td>₹649</td>\n",
       "      <td>18% off</td>\n",
       "    </tr>\n",
       "    <tr>\n",
       "      <th>17</th>\n",
       "      <td>ROZZETTA CRAFT</td>\n",
       "      <td>UV Protection, Gradient Retro Square Sunglasse...</td>\n",
       "      <td>₹325</td>\n",
       "      <td>83% off</td>\n",
       "    </tr>\n",
       "    <tr>\n",
       "      <th>18</th>\n",
       "      <td>Elligator</td>\n",
       "      <td>UV Protection Round Sunglasses (54)</td>\n",
       "      <td>₹279</td>\n",
       "      <td>78% off</td>\n",
       "    </tr>\n",
       "    <tr>\n",
       "      <th>19</th>\n",
       "      <td>Fravy</td>\n",
       "      <td>UV Protection, Gradient, Night Vision Retro Sq...</td>\n",
       "      <td>₹339</td>\n",
       "      <td>83% off</td>\n",
       "    </tr>\n",
       "    <tr>\n",
       "      <th>20</th>\n",
       "      <td>DEIXELS</td>\n",
       "      <td>UV Protection Aviator, Wayfarer Sunglasses (Fr...</td>\n",
       "      <td>₹202</td>\n",
       "      <td>83% off</td>\n",
       "    </tr>\n",
       "    <tr>\n",
       "      <th>21</th>\n",
       "      <td>kingsunglasses</td>\n",
       "      <td>UV Protection, Mirrored Round Sunglasses (Free...</td>\n",
       "      <td>₹249</td>\n",
       "      <td>85% off</td>\n",
       "    </tr>\n",
       "    <tr>\n",
       "      <th>22</th>\n",
       "      <td>hipe</td>\n",
       "      <td>UV Protection, Night Vision, Gradient, Mirrore...</td>\n",
       "      <td>₹189</td>\n",
       "      <td>81% off</td>\n",
       "    </tr>\n",
       "    <tr>\n",
       "      <th>23</th>\n",
       "      <td>hipe</td>\n",
       "      <td>UV Protection Sports Sunglasses (Free Size)</td>\n",
       "      <td>₹287</td>\n",
       "      <td>84% off</td>\n",
       "    </tr>\n",
       "    <tr>\n",
       "      <th>24</th>\n",
       "      <td>DEIXELS</td>\n",
       "      <td>Polarized, UV Protection, Riding Glasses Wayfa...</td>\n",
       "      <td>₹224</td>\n",
       "      <td>62% off</td>\n",
       "    </tr>\n",
       "    <tr>\n",
       "      <th>25</th>\n",
       "      <td>Poland</td>\n",
       "      <td>UV Protection Wayfarer Sunglasses (Free Size)</td>\n",
       "      <td>₹165</td>\n",
       "      <td>66% off</td>\n",
       "    </tr>\n",
       "    <tr>\n",
       "      <th>26</th>\n",
       "      <td>ROZZETTA CRAFT</td>\n",
       "      <td>UV Protection, Gradient Round Sunglasses (Free...</td>\n",
       "      <td>₹449</td>\n",
       "      <td>77% off</td>\n",
       "    </tr>\n",
       "    <tr>\n",
       "      <th>27</th>\n",
       "      <td>ROZZETTA CRAFT</td>\n",
       "      <td>UV Protection, Gradient Retro Square Sunglasse...</td>\n",
       "      <td>₹325</td>\n",
       "      <td>83% off</td>\n",
       "    </tr>\n",
       "    <tr>\n",
       "      <th>28</th>\n",
       "      <td>PHENOMENAL</td>\n",
       "      <td>UV Protection, Mirrored Retro Square Sunglasse...</td>\n",
       "      <td>₹329</td>\n",
       "      <td>83% off</td>\n",
       "    </tr>\n",
       "    <tr>\n",
       "      <th>29</th>\n",
       "      <td>Singco India</td>\n",
       "      <td>UV Protection Round Sunglasses (Free Size)</td>\n",
       "      <td>₹217</td>\n",
       "      <td>78% off</td>\n",
       "    </tr>\n",
       "    <tr>\n",
       "      <th>30</th>\n",
       "      <td>ROYAL SON</td>\n",
       "      <td>UV Protection Retro Square Sunglasses (58)</td>\n",
       "      <td>₹449</td>\n",
       "      <td>70% off</td>\n",
       "    </tr>\n",
       "    <tr>\n",
       "      <th>31</th>\n",
       "      <td>VINCENT CHASE</td>\n",
       "      <td>Polarized, UV Protection Aviator Sunglasses (58)</td>\n",
       "      <td>₹999</td>\n",
       "      <td>60% off</td>\n",
       "    </tr>\n",
       "    <tr>\n",
       "      <th>32</th>\n",
       "      <td>Rich Club</td>\n",
       "      <td>UV Protection, Others Round Sunglasses (48)</td>\n",
       "      <td>₹260</td>\n",
       "      <td>67% off</td>\n",
       "    </tr>\n",
       "    <tr>\n",
       "      <th>33</th>\n",
       "      <td>Cruze</td>\n",
       "      <td>UV Protection Aviator Sunglasses (Free Size)</td>\n",
       "      <td>₹499</td>\n",
       "      <td>61% off</td>\n",
       "    </tr>\n",
       "    <tr>\n",
       "      <th>34</th>\n",
       "      <td>MAXX</td>\n",
       "      <td>UV Protection Aviator Sunglasses (Free Size)</td>\n",
       "      <td>₹165</td>\n",
       "      <td>72% off</td>\n",
       "    </tr>\n",
       "    <tr>\n",
       "      <th>35</th>\n",
       "      <td>ROZZETTA CRAFT</td>\n",
       "      <td>UV Protection, Gradient Retro Square Sunglasse...</td>\n",
       "      <td>₹325</td>\n",
       "      <td>83% off</td>\n",
       "    </tr>\n",
       "    <tr>\n",
       "      <th>36</th>\n",
       "      <td>PIRASO</td>\n",
       "      <td>UV Protection Aviator Sunglasses (58)</td>\n",
       "      <td>₹319</td>\n",
       "      <td>87% off</td>\n",
       "    </tr>\n",
       "    <tr>\n",
       "      <th>37</th>\n",
       "      <td>GANSTA</td>\n",
       "      <td>UV Protection, Gradient, Riding Glasses Wayfar...</td>\n",
       "      <td>₹257</td>\n",
       "      <td>87% off</td>\n",
       "    </tr>\n",
       "    <tr>\n",
       "      <th>38</th>\n",
       "      <td>ROZZETTA CRAFT</td>\n",
       "      <td>UV Protection, Riding Glasses Rectangular Sung...</td>\n",
       "      <td>₹449</td>\n",
       "      <td>79% off</td>\n",
       "    </tr>\n",
       "    <tr>\n",
       "      <th>39</th>\n",
       "      <td>VINCENT CHASE</td>\n",
       "      <td>Polarized, UV Protection Aviator Sunglasses (58)</td>\n",
       "      <td>₹999</td>\n",
       "      <td>60% off</td>\n",
       "    </tr>\n",
       "  </tbody>\n",
       "</table>\n",
       "</div>"
      ],
      "text/plain": [
       "           Brand Name                                        Decsription  \\\n",
       "0            elegante              Mirrored Round Sunglasses (Free Size)   \n",
       "1                hipe  UV Protection, Night Vision, Riding Glasses, G...   \n",
       "2        Silver Kartz              UV Protection Aviator Sunglasses (88)   \n",
       "3       VINCENT CHASE              UV Protection Aviator Sunglasses (53)   \n",
       "4                SRPM             UV Protection Wayfarer Sunglasses (53)   \n",
       "5      kingsunglasses  Mirrored, UV Protection Wayfarer Sunglasses (F...   \n",
       "6              PIRASO              UV Protection Aviator Sunglasses (54)   \n",
       "7       VINCENT CHASE  Polarized, UV Protection Wayfarer Sunglasses (57)   \n",
       "8              PIRASO             UV Protection Wayfarer Sunglasses (32)   \n",
       "9   SHAAH COLLECTIONS         UV Protection Round Sunglasses (Free Size)   \n",
       "10         PHENOMENAL  UV Protection, Mirrored Retro Square Sunglasse...   \n",
       "11           elegante          UV Protection Oval Sunglasses (Free Size)   \n",
       "12              ABNER  UV Protection Retro Square Sunglasses (Free Size)   \n",
       "13          Elligator             UV Protection Wayfarer Sunglasses (53)   \n",
       "14               hipe  Mirrored, Gradient, Riding Glasses Round Sungl...   \n",
       "15      VINCENT CHASE  by Lenskart Polarized, UV Protection Wayfarer ...   \n",
       "16           Fastrack      UV Protection Wayfarer Sunglasses (Free Size)   \n",
       "17     ROZZETTA CRAFT  UV Protection, Gradient Retro Square Sunglasse...   \n",
       "18          Elligator                UV Protection Round Sunglasses (54)   \n",
       "19              Fravy  UV Protection, Gradient, Night Vision Retro Sq...   \n",
       "20            DEIXELS  UV Protection Aviator, Wayfarer Sunglasses (Fr...   \n",
       "21     kingsunglasses  UV Protection, Mirrored Round Sunglasses (Free...   \n",
       "22               hipe  UV Protection, Night Vision, Gradient, Mirrore...   \n",
       "23               hipe        UV Protection Sports Sunglasses (Free Size)   \n",
       "24            DEIXELS  Polarized, UV Protection, Riding Glasses Wayfa...   \n",
       "25             Poland      UV Protection Wayfarer Sunglasses (Free Size)   \n",
       "26     ROZZETTA CRAFT  UV Protection, Gradient Round Sunglasses (Free...   \n",
       "27     ROZZETTA CRAFT  UV Protection, Gradient Retro Square Sunglasse...   \n",
       "28         PHENOMENAL  UV Protection, Mirrored Retro Square Sunglasse...   \n",
       "29       Singco India         UV Protection Round Sunglasses (Free Size)   \n",
       "30          ROYAL SON         UV Protection Retro Square Sunglasses (58)   \n",
       "31      VINCENT CHASE   Polarized, UV Protection Aviator Sunglasses (58)   \n",
       "32          Rich Club        UV Protection, Others Round Sunglasses (48)   \n",
       "33              Cruze       UV Protection Aviator Sunglasses (Free Size)   \n",
       "34               MAXX       UV Protection Aviator Sunglasses (Free Size)   \n",
       "35     ROZZETTA CRAFT  UV Protection, Gradient Retro Square Sunglasse...   \n",
       "36             PIRASO              UV Protection Aviator Sunglasses (58)   \n",
       "37             GANSTA  UV Protection, Gradient, Riding Glasses Wayfar...   \n",
       "38     ROZZETTA CRAFT  UV Protection, Riding Glasses Rectangular Sung...   \n",
       "39      VINCENT CHASE   Polarized, UV Protection Aviator Sunglasses (58)   \n",
       "\n",
       "   Prices Discounts  \n",
       "0    ₹340   82% off  \n",
       "1    ₹189   85% off  \n",
       "2    ₹255   78% off  \n",
       "3    ₹999   50% off  \n",
       "4    ₹220   77% off  \n",
       "5    ₹259   82% off  \n",
       "6    ₹200   87% off  \n",
       "7    ₹999   50% off  \n",
       "8    ₹200   87% off  \n",
       "9    ₹299   82% off  \n",
       "10   ₹311   84% off  \n",
       "11   ₹359   76% off  \n",
       "12   ₹329   82% off  \n",
       "13   ₹319   90% off  \n",
       "14   ₹189   86% off  \n",
       "15   ₹999   50% off  \n",
       "16   ₹649   18% off  \n",
       "17   ₹325   83% off  \n",
       "18   ₹279   78% off  \n",
       "19   ₹339   83% off  \n",
       "20   ₹202   83% off  \n",
       "21   ₹249   85% off  \n",
       "22   ₹189   81% off  \n",
       "23   ₹287   84% off  \n",
       "24   ₹224   62% off  \n",
       "25   ₹165   66% off  \n",
       "26   ₹449   77% off  \n",
       "27   ₹325   83% off  \n",
       "28   ₹329   83% off  \n",
       "29   ₹217   78% off  \n",
       "30   ₹449   70% off  \n",
       "31   ₹999   60% off  \n",
       "32   ₹260   67% off  \n",
       "33   ₹499   61% off  \n",
       "34   ₹165   72% off  \n",
       "35   ₹325   83% off  \n",
       "36   ₹319   87% off  \n",
       "37   ₹257   87% off  \n",
       "38   ₹449   79% off  \n",
       "39   ₹999   60% off  "
      ]
     },
     "execution_count": 291,
     "metadata": {},
     "output_type": "execute_result"
    }
   ],
   "source": [
    "pg2"
   ]
  },
  {
   "cell_type": "code",
   "execution_count": 377,
   "id": "6e58b71e",
   "metadata": {},
   "outputs": [
    {
     "name": "stderr",
     "output_type": "stream",
     "text": [
      "<ipython-input-377-ca3cca990a32>:1: DeprecationWarning: executable_path has been deprecated, please pass in a Service object\n",
      "  driver = webdriver.Chrome(chrome_driver)\n"
     ]
    }
   ],
   "source": [
    "driver = webdriver.Chrome(chrome_driver)\n",
    "driver.get(' https://www.flipkart.com/')"
   ]
  },
  {
   "cell_type": "code",
   "execution_count": 378,
   "id": "d20998d6",
   "metadata": {},
   "outputs": [
    {
     "name": "stderr",
     "output_type": "stream",
     "text": [
      "<ipython-input-378-e8ce0a83ecc3>:1: DeprecationWarning: find_element_by_* commands are deprecated. Please use find_element() instead\n",
      "  search_job = driver.find_element_by_name('q')\n",
      "<ipython-input-378-e8ce0a83ecc3>:3: DeprecationWarning: find_element_by_* commands are deprecated. Please use find_element() instead\n",
      "  search_btn = driver.find_element_by_tag_name('button')\n"
     ]
    }
   ],
   "source": [
    "search_job = driver.find_element_by_name('q')\n",
    "search_job.send_keys('Sunglasses')\n",
    "search_btn = driver.find_element_by_tag_name('button')\n",
    "search_btn.click()"
   ]
  },
  {
   "cell_type": "code",
   "execution_count": 410,
   "id": "f8a0853f",
   "metadata": {},
   "outputs": [],
   "source": [
    "url4_pg3 = 'https://www.flipkart.com/search?q=Sunglasses&otracker=search&otracker1=search&marketplace=FLIPKART&as-show=off&as=off&page=3'\n",
    "driver.get(url4_pg3)"
   ]
  },
  {
   "cell_type": "code",
   "execution_count": 411,
   "id": "e7a544fb",
   "metadata": {},
   "outputs": [],
   "source": [
    "brands_3 = []\n",
    "descr_pg3 = []\n",
    "prices_pg3 = []\n",
    "discounts_pg3 = []"
   ]
  },
  {
   "cell_type": "code",
   "execution_count": 412,
   "id": "3e01fff3",
   "metadata": {
    "collapsed": true
   },
   "outputs": [
    {
     "name": "stderr",
     "output_type": "stream",
     "text": [
      "<ipython-input-412-630ccb9ee6ca>:1: DeprecationWarning: find_elements_by_* commands are deprecated. Please use find_elements() instead\n",
      "  brand_tags_pg3 = driver.find_elements_by_class_name(\"_2WkVRV\")\n"
     ]
    },
    {
     "data": {
      "text/plain": [
       "[<selenium.webdriver.remote.webelement.WebElement (session=\"1a0dc945d6ec118eee663fe28426e020\", element=\"22c4600e-21f8-47b9-a263-de29bebea454\")>,\n",
       " <selenium.webdriver.remote.webelement.WebElement (session=\"1a0dc945d6ec118eee663fe28426e020\", element=\"045e0567-1d6e-4c00-9f1f-8a66d4300d4c\")>,\n",
       " <selenium.webdriver.remote.webelement.WebElement (session=\"1a0dc945d6ec118eee663fe28426e020\", element=\"e70b4f1e-56bb-4493-920f-2797849bf461\")>,\n",
       " <selenium.webdriver.remote.webelement.WebElement (session=\"1a0dc945d6ec118eee663fe28426e020\", element=\"a9f3681f-52b5-4b8f-a04e-876ca53f0af8\")>,\n",
       " <selenium.webdriver.remote.webelement.WebElement (session=\"1a0dc945d6ec118eee663fe28426e020\", element=\"d53c578f-4f44-4fa4-85ae-86dcbe5e3ca8\")>,\n",
       " <selenium.webdriver.remote.webelement.WebElement (session=\"1a0dc945d6ec118eee663fe28426e020\", element=\"eb465187-999b-4ee7-be58-b71ad9ae910f\")>,\n",
       " <selenium.webdriver.remote.webelement.WebElement (session=\"1a0dc945d6ec118eee663fe28426e020\", element=\"7eead8cf-8380-4758-acff-2a6cbf910507\")>,\n",
       " <selenium.webdriver.remote.webelement.WebElement (session=\"1a0dc945d6ec118eee663fe28426e020\", element=\"73446052-6897-4158-820c-5ff638119fec\")>,\n",
       " <selenium.webdriver.remote.webelement.WebElement (session=\"1a0dc945d6ec118eee663fe28426e020\", element=\"5998b56f-cd22-4edc-8a86-774430573588\")>,\n",
       " <selenium.webdriver.remote.webelement.WebElement (session=\"1a0dc945d6ec118eee663fe28426e020\", element=\"cde9402b-3990-483e-a0f1-76303ed91d56\")>,\n",
       " <selenium.webdriver.remote.webelement.WebElement (session=\"1a0dc945d6ec118eee663fe28426e020\", element=\"94fe22b5-e5c0-42b2-9fea-9b48decfc9e3\")>,\n",
       " <selenium.webdriver.remote.webelement.WebElement (session=\"1a0dc945d6ec118eee663fe28426e020\", element=\"653bd413-fae0-4250-8d37-b9927e22215b\")>,\n",
       " <selenium.webdriver.remote.webelement.WebElement (session=\"1a0dc945d6ec118eee663fe28426e020\", element=\"9cba2495-52fb-47f5-9b47-b72b6398318b\")>,\n",
       " <selenium.webdriver.remote.webelement.WebElement (session=\"1a0dc945d6ec118eee663fe28426e020\", element=\"d37f8306-097c-4ac5-bc00-40361e661bfb\")>,\n",
       " <selenium.webdriver.remote.webelement.WebElement (session=\"1a0dc945d6ec118eee663fe28426e020\", element=\"25103349-e0e8-4597-97cb-f9753ba990f5\")>,\n",
       " <selenium.webdriver.remote.webelement.WebElement (session=\"1a0dc945d6ec118eee663fe28426e020\", element=\"d0cc75be-d196-4319-a700-ea8e439936c8\")>,\n",
       " <selenium.webdriver.remote.webelement.WebElement (session=\"1a0dc945d6ec118eee663fe28426e020\", element=\"e5c09ec8-4923-486e-9c13-cbb748e60e76\")>,\n",
       " <selenium.webdriver.remote.webelement.WebElement (session=\"1a0dc945d6ec118eee663fe28426e020\", element=\"7d714923-95ee-420c-b13d-cc7ed409f9e2\")>,\n",
       " <selenium.webdriver.remote.webelement.WebElement (session=\"1a0dc945d6ec118eee663fe28426e020\", element=\"cae1206f-bcbb-4e5d-8cc3-b152369983b2\")>,\n",
       " <selenium.webdriver.remote.webelement.WebElement (session=\"1a0dc945d6ec118eee663fe28426e020\", element=\"a8a893e8-2658-4629-97b2-a22b950d781a\")>]"
      ]
     },
     "execution_count": 412,
     "metadata": {},
     "output_type": "execute_result"
    }
   ],
   "source": [
    "brand_tags_pg3 = driver.find_elements_by_class_name(\"_2WkVRV\")\n",
    "brand_tags_pg3[0 : 20]"
   ]
  },
  {
   "cell_type": "code",
   "execution_count": 413,
   "id": "b8e14670",
   "metadata": {
    "collapsed": true
   },
   "outputs": [
    {
     "data": {
      "text/plain": [
       "['kingsunglasses',\n",
       " 'Fastrack',\n",
       " 'GANSTA',\n",
       " 'VINCENT CHASE',\n",
       " 'PHENOMENAL',\n",
       " 'Singco',\n",
       " 'PIRASO',\n",
       " 'Fravy',\n",
       " 'kingsunglasses',\n",
       " 'ROZZETTA CRAFT',\n",
       " 'ROYAL SON',\n",
       " 'elegante',\n",
       " 'Ray-Ban',\n",
       " 'GANSTA',\n",
       " 'Fastrack',\n",
       " 'VINCENT CHASE',\n",
       " 'PIRASO',\n",
       " 'Fravy',\n",
       " 'Fastrack',\n",
       " 'VINCENT CHASE']"
      ]
     },
     "execution_count": 413,
     "metadata": {},
     "output_type": "execute_result"
    }
   ],
   "source": [
    "for i in brand_tags_pg3[0 : 20]:\n",
    "    t = i.text\n",
    "    brands_3.append(t)\n",
    "brands_3[0 : 20]"
   ]
  },
  {
   "cell_type": "code",
   "execution_count": 414,
   "id": "284d6101",
   "metadata": {},
   "outputs": [
    {
     "data": {
      "text/plain": [
       "20"
      ]
     },
     "execution_count": 414,
     "metadata": {},
     "output_type": "execute_result"
    }
   ],
   "source": [
    "len(brands_3)"
   ]
  },
  {
   "cell_type": "code",
   "execution_count": 415,
   "id": "c28dcbb2",
   "metadata": {
    "collapsed": true
   },
   "outputs": [
    {
     "name": "stderr",
     "output_type": "stream",
     "text": [
      "<ipython-input-415-412d93b26016>:1: DeprecationWarning: find_elements_by_* commands are deprecated. Please use find_elements() instead\n",
      "  descr_tags_pg3 = driver.find_elements_by_class_name(\"IRpwTa\")\n"
     ]
    },
    {
     "data": {
      "text/plain": [
       "[<selenium.webdriver.remote.webelement.WebElement (session=\"1a0dc945d6ec118eee663fe28426e020\", element=\"c7b3b3a6-da9a-48f1-9f96-cfe395712c55\")>,\n",
       " <selenium.webdriver.remote.webelement.WebElement (session=\"1a0dc945d6ec118eee663fe28426e020\", element=\"39ae0f49-6101-46e0-b24f-ac311c3969d4\")>,\n",
       " <selenium.webdriver.remote.webelement.WebElement (session=\"1a0dc945d6ec118eee663fe28426e020\", element=\"6b49bf2c-f632-40f2-822f-05d0673d17d0\")>,\n",
       " <selenium.webdriver.remote.webelement.WebElement (session=\"1a0dc945d6ec118eee663fe28426e020\", element=\"05dcdecd-a7c6-442d-867a-8f5ff246fdd1\")>,\n",
       " <selenium.webdriver.remote.webelement.WebElement (session=\"1a0dc945d6ec118eee663fe28426e020\", element=\"f07dd6b5-b4e8-47c9-b3c5-8c575973b2d4\")>,\n",
       " <selenium.webdriver.remote.webelement.WebElement (session=\"1a0dc945d6ec118eee663fe28426e020\", element=\"a1d52c94-bd3b-4ed3-8173-3060542dfad2\")>,\n",
       " <selenium.webdriver.remote.webelement.WebElement (session=\"1a0dc945d6ec118eee663fe28426e020\", element=\"817c04a6-706f-4d0c-b003-3274265372e7\")>,\n",
       " <selenium.webdriver.remote.webelement.WebElement (session=\"1a0dc945d6ec118eee663fe28426e020\", element=\"9c86d3af-73ed-45bf-adc2-dff71de1f1f8\")>,\n",
       " <selenium.webdriver.remote.webelement.WebElement (session=\"1a0dc945d6ec118eee663fe28426e020\", element=\"3512df7f-4ab8-49fd-b4c2-516589b6e80c\")>,\n",
       " <selenium.webdriver.remote.webelement.WebElement (session=\"1a0dc945d6ec118eee663fe28426e020\", element=\"2ceef066-df97-4231-946c-2ff726d92bfb\")>,\n",
       " <selenium.webdriver.remote.webelement.WebElement (session=\"1a0dc945d6ec118eee663fe28426e020\", element=\"5c4240da-594c-4317-84fa-d01259b1e748\")>,\n",
       " <selenium.webdriver.remote.webelement.WebElement (session=\"1a0dc945d6ec118eee663fe28426e020\", element=\"d0a004b8-b376-43cd-b374-aaa65effde1f\")>,\n",
       " <selenium.webdriver.remote.webelement.WebElement (session=\"1a0dc945d6ec118eee663fe28426e020\", element=\"eae281e7-6609-4d2f-82b2-573742d9a410\")>,\n",
       " <selenium.webdriver.remote.webelement.WebElement (session=\"1a0dc945d6ec118eee663fe28426e020\", element=\"537c1c1b-763a-49c7-9c2b-2006dc8d1d98\")>,\n",
       " <selenium.webdriver.remote.webelement.WebElement (session=\"1a0dc945d6ec118eee663fe28426e020\", element=\"bc3cba68-d4ae-41bb-b668-194d2ed1cc00\")>,\n",
       " <selenium.webdriver.remote.webelement.WebElement (session=\"1a0dc945d6ec118eee663fe28426e020\", element=\"ffa5b2c2-0473-46c4-adbb-b819bcbfd347\")>,\n",
       " <selenium.webdriver.remote.webelement.WebElement (session=\"1a0dc945d6ec118eee663fe28426e020\", element=\"8ff04b76-c9d8-4a11-ad3b-479be3bcc9e0\")>,\n",
       " <selenium.webdriver.remote.webelement.WebElement (session=\"1a0dc945d6ec118eee663fe28426e020\", element=\"552f50c8-3b44-4de5-8805-615e103170d4\")>,\n",
       " <selenium.webdriver.remote.webelement.WebElement (session=\"1a0dc945d6ec118eee663fe28426e020\", element=\"ae9a53bb-f2e0-49d2-b713-9c6d213bf430\")>,\n",
       " <selenium.webdriver.remote.webelement.WebElement (session=\"1a0dc945d6ec118eee663fe28426e020\", element=\"a07f96d3-ad3d-4d54-ac27-7e0c35acea04\")>]"
      ]
     },
     "execution_count": 415,
     "metadata": {},
     "output_type": "execute_result"
    }
   ],
   "source": [
    "descr_tags_pg3 = driver.find_elements_by_class_name(\"IRpwTa\")\n",
    "descr_tags_pg3[0 : 20]"
   ]
  },
  {
   "cell_type": "code",
   "execution_count": 416,
   "id": "44f3b8a2",
   "metadata": {
    "collapsed": true
   },
   "outputs": [
    {
     "data": {
      "text/plain": [
       "['Mirrored, UV Protection Wayfarer Sunglasses (53)',\n",
       " 'UV Protection Aviator Sunglasses (58)',\n",
       " 'UV Protection Aviator Sunglasses (57)',\n",
       " 'UV Protection Aviator Sunglasses (53)',\n",
       " 'UV Protection, Mirrored Retro Square Sunglasses (53)',\n",
       " 'UV Protection Aviator Sunglasses (Free Size)',\n",
       " 'UV Protection Butterfly Sunglasses (65)',\n",
       " 'UV Protection, Gradient, Night Vision Retro Square Sung...',\n",
       " 'UV Protection, Mirrored Round Sunglasses (54)',\n",
       " 'UV Protection, Gradient Rectangular Sunglasses (Free Si...',\n",
       " 'UV Protection Round Sunglasses (50)',\n",
       " 'UV Protection Oval Sunglasses (Free Size)',\n",
       " 'Mirrored, UV Protection Aviator Sunglasses (58)',\n",
       " 'UV Protection Aviator Sunglasses (57)',\n",
       " 'Gradient, UV Protection Wayfarer Sunglasses (Free Size)',\n",
       " 'Polarized, UV Protection Wayfarer Sunglasses (57)',\n",
       " 'UV Protection Butterfly Sunglasses (60)',\n",
       " 'UV Protection Retro Square Sunglasses (Free Size)',\n",
       " 'UV Protection Wayfarer Sunglasses (Free Size)',\n",
       " 'by Lenskart Polarized, UV Protection Wayfarer Sunglasse...']"
      ]
     },
     "execution_count": 416,
     "metadata": {},
     "output_type": "execute_result"
    }
   ],
   "source": [
    "for i in descr_tags_pg3[0 : 20]:\n",
    "    d = i.text\n",
    "    descr_pg3.append(d)\n",
    "descr_pg3[0 : 20]"
   ]
  },
  {
   "cell_type": "code",
   "execution_count": 417,
   "id": "984d86a8",
   "metadata": {},
   "outputs": [
    {
     "data": {
      "text/plain": [
       "20"
      ]
     },
     "execution_count": 417,
     "metadata": {},
     "output_type": "execute_result"
    }
   ],
   "source": [
    "len(descr_pg3)"
   ]
  },
  {
   "cell_type": "code",
   "execution_count": 418,
   "id": "e4d30338",
   "metadata": {
    "collapsed": true
   },
   "outputs": [
    {
     "name": "stderr",
     "output_type": "stream",
     "text": [
      "<ipython-input-418-2ea3faa6dfa5>:1: DeprecationWarning: find_elements_by_* commands are deprecated. Please use find_elements() instead\n",
      "  prices_tags_pg3 = driver.find_elements_by_xpath(\"//a[@class='_3bPFwb']//*[@class='_30jeq3']\") #//*[@class='_3Ay6Sb']\n"
     ]
    },
    {
     "data": {
      "text/plain": [
       "[<selenium.webdriver.remote.webelement.WebElement (session=\"1a0dc945d6ec118eee663fe28426e020\", element=\"a25e53ff-f089-4b6a-82de-ffed35fa3e70\")>,\n",
       " <selenium.webdriver.remote.webelement.WebElement (session=\"1a0dc945d6ec118eee663fe28426e020\", element=\"5804c3b1-66aa-4918-8bb7-21a33276c05a\")>,\n",
       " <selenium.webdriver.remote.webelement.WebElement (session=\"1a0dc945d6ec118eee663fe28426e020\", element=\"feaf32ac-9925-483c-b680-fa3608b1d2d4\")>,\n",
       " <selenium.webdriver.remote.webelement.WebElement (session=\"1a0dc945d6ec118eee663fe28426e020\", element=\"930b17b7-8888-4291-a209-16200af42ed2\")>,\n",
       " <selenium.webdriver.remote.webelement.WebElement (session=\"1a0dc945d6ec118eee663fe28426e020\", element=\"6e978dcc-a64a-4d6b-89f4-89b070f594c7\")>,\n",
       " <selenium.webdriver.remote.webelement.WebElement (session=\"1a0dc945d6ec118eee663fe28426e020\", element=\"59396a4c-73bc-4b59-8fcd-a4a358d9358c\")>,\n",
       " <selenium.webdriver.remote.webelement.WebElement (session=\"1a0dc945d6ec118eee663fe28426e020\", element=\"b7767346-8fbd-4a3f-804c-6555a2dfa06b\")>,\n",
       " <selenium.webdriver.remote.webelement.WebElement (session=\"1a0dc945d6ec118eee663fe28426e020\", element=\"e2e7c7b4-082e-499f-a1c9-ea9c4124e546\")>,\n",
       " <selenium.webdriver.remote.webelement.WebElement (session=\"1a0dc945d6ec118eee663fe28426e020\", element=\"7c59fe31-367a-48ce-b42d-62bafe87ba0b\")>,\n",
       " <selenium.webdriver.remote.webelement.WebElement (session=\"1a0dc945d6ec118eee663fe28426e020\", element=\"358b7193-3d35-4f0b-a988-539577a6f4cd\")>,\n",
       " <selenium.webdriver.remote.webelement.WebElement (session=\"1a0dc945d6ec118eee663fe28426e020\", element=\"6383407e-70bc-44d3-bb2d-98111cd96c44\")>,\n",
       " <selenium.webdriver.remote.webelement.WebElement (session=\"1a0dc945d6ec118eee663fe28426e020\", element=\"ce0f51b5-e359-44cd-8fa2-4c06e8eb6445\")>,\n",
       " <selenium.webdriver.remote.webelement.WebElement (session=\"1a0dc945d6ec118eee663fe28426e020\", element=\"b1f54038-81ac-45e0-951f-ac36b9fe124f\")>,\n",
       " <selenium.webdriver.remote.webelement.WebElement (session=\"1a0dc945d6ec118eee663fe28426e020\", element=\"22af9eae-515d-4e86-85f5-06405f9ee52d\")>,\n",
       " <selenium.webdriver.remote.webelement.WebElement (session=\"1a0dc945d6ec118eee663fe28426e020\", element=\"09449f03-7e21-4363-a6af-6125570e9470\")>,\n",
       " <selenium.webdriver.remote.webelement.WebElement (session=\"1a0dc945d6ec118eee663fe28426e020\", element=\"a28671eb-0c5e-4f07-86f2-b990e1250ad8\")>,\n",
       " <selenium.webdriver.remote.webelement.WebElement (session=\"1a0dc945d6ec118eee663fe28426e020\", element=\"18a7ea9d-2fea-4503-a00c-3a47a22ed6e5\")>,\n",
       " <selenium.webdriver.remote.webelement.WebElement (session=\"1a0dc945d6ec118eee663fe28426e020\", element=\"456e2c64-9273-4ae7-b49a-3e4138269ceb\")>,\n",
       " <selenium.webdriver.remote.webelement.WebElement (session=\"1a0dc945d6ec118eee663fe28426e020\", element=\"976fa74e-2ee7-4981-ae4e-32cf0b686dc7\")>,\n",
       " <selenium.webdriver.remote.webelement.WebElement (session=\"1a0dc945d6ec118eee663fe28426e020\", element=\"0f64d1cc-3c36-4d12-8e48-f400399cf063\")>]"
      ]
     },
     "execution_count": 418,
     "metadata": {},
     "output_type": "execute_result"
    }
   ],
   "source": [
    "prices_tags_pg3 = driver.find_elements_by_xpath(\"//a[@class='_3bPFwb']//*[@class='_30jeq3']\") #//*[@class='_3Ay6Sb']\n",
    "prices_tags_pg3[0 : 20]"
   ]
  },
  {
   "cell_type": "code",
   "execution_count": 419,
   "id": "b1d0eaef",
   "metadata": {
    "collapsed": true
   },
   "outputs": [
    {
     "data": {
      "text/plain": [
       "['₹299',\n",
       " '₹1,059',\n",
       " '₹204',\n",
       " '₹999',\n",
       " '₹319',\n",
       " '₹526',\n",
       " '₹359',\n",
       " '₹339',\n",
       " '₹219',\n",
       " '₹474',\n",
       " '₹359',\n",
       " '₹359',\n",
       " '₹3,142',\n",
       " '₹305',\n",
       " '₹655',\n",
       " '₹999',\n",
       " '₹271',\n",
       " '₹299',\n",
       " '₹689',\n",
       " '₹999']"
      ]
     },
     "execution_count": 419,
     "metadata": {},
     "output_type": "execute_result"
    }
   ],
   "source": [
    "for i in prices_tags_pg3[0 : 20]:\n",
    "    p = i.text\n",
    "    prices_pg3.append(p)\n",
    "prices_pg3[0 : 20]"
   ]
  },
  {
   "cell_type": "code",
   "execution_count": 420,
   "id": "4fe3a8d1",
   "metadata": {},
   "outputs": [
    {
     "data": {
      "text/plain": [
       "20"
      ]
     },
     "execution_count": 420,
     "metadata": {},
     "output_type": "execute_result"
    }
   ],
   "source": [
    "len(prices_pg3)"
   ]
  },
  {
   "cell_type": "code",
   "execution_count": 421,
   "id": "21c9025d",
   "metadata": {
    "collapsed": true
   },
   "outputs": [
    {
     "name": "stderr",
     "output_type": "stream",
     "text": [
      "<ipython-input-421-354bfdce9a2c>:1: DeprecationWarning: find_elements_by_* commands are deprecated. Please use find_elements() instead\n",
      "  discount_tags_pg3 = driver.find_elements_by_xpath(\"//a[@class='_3bPFwb']//*[@class='_3Ay6Sb']\") #//*[@class='_3Ay6Sb']\n"
     ]
    },
    {
     "data": {
      "text/plain": [
       "[<selenium.webdriver.remote.webelement.WebElement (session=\"1a0dc945d6ec118eee663fe28426e020\", element=\"8b84ee52-19aa-43fc-b4ba-06a5a1fbedf1\")>,\n",
       " <selenium.webdriver.remote.webelement.WebElement (session=\"1a0dc945d6ec118eee663fe28426e020\", element=\"5d9cdb41-03c4-4ab3-ac59-3c968c9f7c2c\")>,\n",
       " <selenium.webdriver.remote.webelement.WebElement (session=\"1a0dc945d6ec118eee663fe28426e020\", element=\"92723ba3-42e7-48d0-b11a-1e0c981624ef\")>,\n",
       " <selenium.webdriver.remote.webelement.WebElement (session=\"1a0dc945d6ec118eee663fe28426e020\", element=\"073061b9-3d35-4068-818a-38e88941c5e3\")>,\n",
       " <selenium.webdriver.remote.webelement.WebElement (session=\"1a0dc945d6ec118eee663fe28426e020\", element=\"0261f853-0a71-4aef-8aec-43a251ea3c56\")>,\n",
       " <selenium.webdriver.remote.webelement.WebElement (session=\"1a0dc945d6ec118eee663fe28426e020\", element=\"0f408cc6-b2a3-49f9-a368-4d6d334c3fd6\")>,\n",
       " <selenium.webdriver.remote.webelement.WebElement (session=\"1a0dc945d6ec118eee663fe28426e020\", element=\"7b991208-de78-41c1-8637-15c12424e337\")>,\n",
       " <selenium.webdriver.remote.webelement.WebElement (session=\"1a0dc945d6ec118eee663fe28426e020\", element=\"e7f39cb6-ce50-4734-aacf-48806609176a\")>,\n",
       " <selenium.webdriver.remote.webelement.WebElement (session=\"1a0dc945d6ec118eee663fe28426e020\", element=\"589cb7b5-ed31-4aa3-867f-b9c6d2b1957f\")>,\n",
       " <selenium.webdriver.remote.webelement.WebElement (session=\"1a0dc945d6ec118eee663fe28426e020\", element=\"18db47f3-307d-4509-8279-ddb758d65f35\")>,\n",
       " <selenium.webdriver.remote.webelement.WebElement (session=\"1a0dc945d6ec118eee663fe28426e020\", element=\"a793237c-1e48-4a89-86c0-880f16255847\")>,\n",
       " <selenium.webdriver.remote.webelement.WebElement (session=\"1a0dc945d6ec118eee663fe28426e020\", element=\"eab394fe-28a1-4b25-b702-e6504a1d1111\")>,\n",
       " <selenium.webdriver.remote.webelement.WebElement (session=\"1a0dc945d6ec118eee663fe28426e020\", element=\"45356fc9-64b9-45eb-ba39-7a2138d40434\")>,\n",
       " <selenium.webdriver.remote.webelement.WebElement (session=\"1a0dc945d6ec118eee663fe28426e020\", element=\"d181efc1-4300-4555-82f5-c077bcd5191d\")>,\n",
       " <selenium.webdriver.remote.webelement.WebElement (session=\"1a0dc945d6ec118eee663fe28426e020\", element=\"350d4c60-e770-4e99-9bce-2abc57440549\")>,\n",
       " <selenium.webdriver.remote.webelement.WebElement (session=\"1a0dc945d6ec118eee663fe28426e020\", element=\"75744268-d37a-40c0-a064-44d948c0c16a\")>,\n",
       " <selenium.webdriver.remote.webelement.WebElement (session=\"1a0dc945d6ec118eee663fe28426e020\", element=\"e07f849d-870c-4b8b-be7f-f561e253c116\")>,\n",
       " <selenium.webdriver.remote.webelement.WebElement (session=\"1a0dc945d6ec118eee663fe28426e020\", element=\"fefe1f07-d5a6-490d-802f-af8515b0ac20\")>,\n",
       " <selenium.webdriver.remote.webelement.WebElement (session=\"1a0dc945d6ec118eee663fe28426e020\", element=\"c3e5508b-9649-4902-b8f6-7688710cfc9d\")>,\n",
       " <selenium.webdriver.remote.webelement.WebElement (session=\"1a0dc945d6ec118eee663fe28426e020\", element=\"e423a1f4-e5fd-4528-a898-54a23c9181c2\")>]"
      ]
     },
     "execution_count": 421,
     "metadata": {},
     "output_type": "execute_result"
    }
   ],
   "source": [
    "discount_tags_pg3 = driver.find_elements_by_xpath(\"//a[@class='_3bPFwb']//*[@class='_3Ay6Sb']\") #//*[@class='_3Ay6Sb']\n",
    "discount_tags_pg3[0 : 20]"
   ]
  },
  {
   "cell_type": "code",
   "execution_count": 422,
   "id": "e3b3be02",
   "metadata": {
    "collapsed": true
   },
   "outputs": [
    {
     "data": {
      "text/plain": [
       "['85% off',\n",
       " '18% off',\n",
       " '80% off',\n",
       " '50% off',\n",
       " '84% off',\n",
       " '73% off',\n",
       " '86% off',\n",
       " '83% off',\n",
       " '81% off',\n",
       " '78% off',\n",
       " '76% off',\n",
       " '76% off',\n",
       " '43% off',\n",
       " '84% off',\n",
       " '18% off',\n",
       " '50% off',\n",
       " '89% off',\n",
       " '80% off',\n",
       " '23% off',\n",
       " '50% off']"
      ]
     },
     "execution_count": 422,
     "metadata": {},
     "output_type": "execute_result"
    }
   ],
   "source": [
    "for i in discount_tags_pg3[0 : 20]:\n",
    "    d = i.text\n",
    "    discounts_pg3.append(d)\n",
    "discounts_pg3[0 : 20]"
   ]
  },
  {
   "cell_type": "code",
   "execution_count": 423,
   "id": "50c751db",
   "metadata": {},
   "outputs": [
    {
     "name": "stdout",
     "output_type": "stream",
     "text": [
      "20 20 20 20\n"
     ]
    }
   ],
   "source": [
    "print(len(brands_3), len(descr_pg3), len(prices_pg3), len(discounts_pg3))"
   ]
  },
  {
   "cell_type": "code",
   "execution_count": 424,
   "id": "fd782fa4",
   "metadata": {},
   "outputs": [],
   "source": [
    "pg3 = pd.DataFrame({})\n",
    "pg3['Brand Name'] = brands_3\n",
    "pg3['Decsription'] = descr_pg[@]\n",
    "pg3['Prices'] = prices_pg3\n",
    "pg3['Discounts'] = discounts_pg3"
   ]
  },
  {
   "cell_type": "code",
   "execution_count": 425,
   "id": "e1f69cb0",
   "metadata": {
    "collapsed": true
   },
   "outputs": [
    {
     "data": {
      "text/html": [
       "<div>\n",
       "<style scoped>\n",
       "    .dataframe tbody tr th:only-of-type {\n",
       "        vertical-align: middle;\n",
       "    }\n",
       "\n",
       "    .dataframe tbody tr th {\n",
       "        vertical-align: top;\n",
       "    }\n",
       "\n",
       "    .dataframe thead th {\n",
       "        text-align: right;\n",
       "    }\n",
       "</style>\n",
       "<table border=\"1\" class=\"dataframe\">\n",
       "  <thead>\n",
       "    <tr style=\"text-align: right;\">\n",
       "      <th></th>\n",
       "      <th>Brand Name</th>\n",
       "      <th>Decsription</th>\n",
       "      <th>Prices</th>\n",
       "      <th>Discounts</th>\n",
       "    </tr>\n",
       "  </thead>\n",
       "  <tbody>\n",
       "    <tr>\n",
       "      <th>0</th>\n",
       "      <td>kingsunglasses</td>\n",
       "      <td>Mirrored, UV Protection Wayfarer Sunglasses (53)</td>\n",
       "      <td>₹299</td>\n",
       "      <td>85% off</td>\n",
       "    </tr>\n",
       "    <tr>\n",
       "      <th>1</th>\n",
       "      <td>Fastrack</td>\n",
       "      <td>UV Protection Aviator Sunglasses (58)</td>\n",
       "      <td>₹1,059</td>\n",
       "      <td>18% off</td>\n",
       "    </tr>\n",
       "    <tr>\n",
       "      <th>2</th>\n",
       "      <td>GANSTA</td>\n",
       "      <td>UV Protection Aviator Sunglasses (57)</td>\n",
       "      <td>₹204</td>\n",
       "      <td>80% off</td>\n",
       "    </tr>\n",
       "    <tr>\n",
       "      <th>3</th>\n",
       "      <td>VINCENT CHASE</td>\n",
       "      <td>UV Protection Aviator Sunglasses (53)</td>\n",
       "      <td>₹999</td>\n",
       "      <td>50% off</td>\n",
       "    </tr>\n",
       "    <tr>\n",
       "      <th>4</th>\n",
       "      <td>PHENOMENAL</td>\n",
       "      <td>UV Protection, Mirrored Retro Square Sunglasse...</td>\n",
       "      <td>₹319</td>\n",
       "      <td>84% off</td>\n",
       "    </tr>\n",
       "    <tr>\n",
       "      <th>5</th>\n",
       "      <td>Singco</td>\n",
       "      <td>UV Protection Aviator Sunglasses (Free Size)</td>\n",
       "      <td>₹526</td>\n",
       "      <td>73% off</td>\n",
       "    </tr>\n",
       "    <tr>\n",
       "      <th>6</th>\n",
       "      <td>PIRASO</td>\n",
       "      <td>UV Protection Butterfly Sunglasses (65)</td>\n",
       "      <td>₹359</td>\n",
       "      <td>86% off</td>\n",
       "    </tr>\n",
       "    <tr>\n",
       "      <th>7</th>\n",
       "      <td>Fravy</td>\n",
       "      <td>UV Protection, Gradient, Night Vision Retro Sq...</td>\n",
       "      <td>₹339</td>\n",
       "      <td>83% off</td>\n",
       "    </tr>\n",
       "    <tr>\n",
       "      <th>8</th>\n",
       "      <td>kingsunglasses</td>\n",
       "      <td>UV Protection, Mirrored Round Sunglasses (54)</td>\n",
       "      <td>₹219</td>\n",
       "      <td>81% off</td>\n",
       "    </tr>\n",
       "    <tr>\n",
       "      <th>9</th>\n",
       "      <td>ROZZETTA CRAFT</td>\n",
       "      <td>UV Protection, Gradient Rectangular Sunglasses...</td>\n",
       "      <td>₹474</td>\n",
       "      <td>78% off</td>\n",
       "    </tr>\n",
       "    <tr>\n",
       "      <th>10</th>\n",
       "      <td>ROYAL SON</td>\n",
       "      <td>UV Protection Round Sunglasses (50)</td>\n",
       "      <td>₹359</td>\n",
       "      <td>76% off</td>\n",
       "    </tr>\n",
       "    <tr>\n",
       "      <th>11</th>\n",
       "      <td>elegante</td>\n",
       "      <td>UV Protection Oval Sunglasses (Free Size)</td>\n",
       "      <td>₹359</td>\n",
       "      <td>76% off</td>\n",
       "    </tr>\n",
       "    <tr>\n",
       "      <th>12</th>\n",
       "      <td>Ray-Ban</td>\n",
       "      <td>Mirrored, UV Protection Aviator Sunglasses (58)</td>\n",
       "      <td>₹3,142</td>\n",
       "      <td>43% off</td>\n",
       "    </tr>\n",
       "    <tr>\n",
       "      <th>13</th>\n",
       "      <td>GANSTA</td>\n",
       "      <td>UV Protection Aviator Sunglasses (57)</td>\n",
       "      <td>₹305</td>\n",
       "      <td>84% off</td>\n",
       "    </tr>\n",
       "    <tr>\n",
       "      <th>14</th>\n",
       "      <td>Fastrack</td>\n",
       "      <td>Gradient, UV Protection Wayfarer Sunglasses (F...</td>\n",
       "      <td>₹655</td>\n",
       "      <td>18% off</td>\n",
       "    </tr>\n",
       "    <tr>\n",
       "      <th>15</th>\n",
       "      <td>VINCENT CHASE</td>\n",
       "      <td>Polarized, UV Protection Wayfarer Sunglasses (57)</td>\n",
       "      <td>₹999</td>\n",
       "      <td>50% off</td>\n",
       "    </tr>\n",
       "    <tr>\n",
       "      <th>16</th>\n",
       "      <td>PIRASO</td>\n",
       "      <td>UV Protection Butterfly Sunglasses (60)</td>\n",
       "      <td>₹271</td>\n",
       "      <td>89% off</td>\n",
       "    </tr>\n",
       "    <tr>\n",
       "      <th>17</th>\n",
       "      <td>Fravy</td>\n",
       "      <td>UV Protection Retro Square Sunglasses (Free Size)</td>\n",
       "      <td>₹299</td>\n",
       "      <td>80% off</td>\n",
       "    </tr>\n",
       "    <tr>\n",
       "      <th>18</th>\n",
       "      <td>Fastrack</td>\n",
       "      <td>UV Protection Wayfarer Sunglasses (Free Size)</td>\n",
       "      <td>₹689</td>\n",
       "      <td>23% off</td>\n",
       "    </tr>\n",
       "    <tr>\n",
       "      <th>19</th>\n",
       "      <td>VINCENT CHASE</td>\n",
       "      <td>by Lenskart Polarized, UV Protection Wayfarer ...</td>\n",
       "      <td>₹999</td>\n",
       "      <td>50% off</td>\n",
       "    </tr>\n",
       "  </tbody>\n",
       "</table>\n",
       "</div>"
      ],
      "text/plain": [
       "        Brand Name                                        Decsription  Prices  \\\n",
       "0   kingsunglasses   Mirrored, UV Protection Wayfarer Sunglasses (53)    ₹299   \n",
       "1         Fastrack              UV Protection Aviator Sunglasses (58)  ₹1,059   \n",
       "2           GANSTA              UV Protection Aviator Sunglasses (57)    ₹204   \n",
       "3    VINCENT CHASE              UV Protection Aviator Sunglasses (53)    ₹999   \n",
       "4       PHENOMENAL  UV Protection, Mirrored Retro Square Sunglasse...    ₹319   \n",
       "5           Singco       UV Protection Aviator Sunglasses (Free Size)    ₹526   \n",
       "6           PIRASO            UV Protection Butterfly Sunglasses (65)    ₹359   \n",
       "7            Fravy  UV Protection, Gradient, Night Vision Retro Sq...    ₹339   \n",
       "8   kingsunglasses      UV Protection, Mirrored Round Sunglasses (54)    ₹219   \n",
       "9   ROZZETTA CRAFT  UV Protection, Gradient Rectangular Sunglasses...    ₹474   \n",
       "10       ROYAL SON                UV Protection Round Sunglasses (50)    ₹359   \n",
       "11        elegante          UV Protection Oval Sunglasses (Free Size)    ₹359   \n",
       "12         Ray-Ban    Mirrored, UV Protection Aviator Sunglasses (58)  ₹3,142   \n",
       "13          GANSTA              UV Protection Aviator Sunglasses (57)    ₹305   \n",
       "14        Fastrack  Gradient, UV Protection Wayfarer Sunglasses (F...    ₹655   \n",
       "15   VINCENT CHASE  Polarized, UV Protection Wayfarer Sunglasses (57)    ₹999   \n",
       "16          PIRASO            UV Protection Butterfly Sunglasses (60)    ₹271   \n",
       "17           Fravy  UV Protection Retro Square Sunglasses (Free Size)    ₹299   \n",
       "18        Fastrack      UV Protection Wayfarer Sunglasses (Free Size)    ₹689   \n",
       "19   VINCENT CHASE  by Lenskart Polarized, UV Protection Wayfarer ...    ₹999   \n",
       "\n",
       "   Discounts  \n",
       "0    85% off  \n",
       "1    18% off  \n",
       "2    80% off  \n",
       "3    50% off  \n",
       "4    84% off  \n",
       "5    73% off  \n",
       "6    86% off  \n",
       "7    83% off  \n",
       "8    81% off  \n",
       "9    78% off  \n",
       "10   76% off  \n",
       "11   76% off  \n",
       "12   43% off  \n",
       "13   84% off  \n",
       "14   18% off  \n",
       "15   50% off  \n",
       "16   89% off  \n",
       "17   80% off  \n",
       "18   23% off  \n",
       "19   50% off  "
      ]
     },
     "execution_count": 425,
     "metadata": {},
     "output_type": "execute_result"
    }
   ],
   "source": [
    "pg3"
   ]
  },
  {
   "cell_type": "code",
   "execution_count": 427,
   "id": "7330329b",
   "metadata": {
    "collapsed": true
   },
   "outputs": [
    {
     "data": {
      "text/html": [
       "<div>\n",
       "<style scoped>\n",
       "    .dataframe tbody tr th:only-of-type {\n",
       "        vertical-align: middle;\n",
       "    }\n",
       "\n",
       "    .dataframe tbody tr th {\n",
       "        vertical-align: top;\n",
       "    }\n",
       "\n",
       "    .dataframe thead th {\n",
       "        text-align: right;\n",
       "    }\n",
       "</style>\n",
       "<table border=\"1\" class=\"dataframe\">\n",
       "  <thead>\n",
       "    <tr style=\"text-align: right;\">\n",
       "      <th></th>\n",
       "      <th>Brand Name</th>\n",
       "      <th>Decsription</th>\n",
       "      <th>Prices</th>\n",
       "      <th>Discounts</th>\n",
       "    </tr>\n",
       "  </thead>\n",
       "  <tbody>\n",
       "    <tr>\n",
       "      <th>0</th>\n",
       "      <td>ROYAL SON</td>\n",
       "      <td>UV Protection Retro Square Sunglasses (49)</td>\n",
       "      <td>₹664</td>\n",
       "      <td>66% off</td>\n",
       "    </tr>\n",
       "    <tr>\n",
       "      <th>1</th>\n",
       "      <td>ROYAL SON</td>\n",
       "      <td>Polarized, UV Protection Round Sunglasses (49)</td>\n",
       "      <td>₹664</td>\n",
       "      <td>66% off</td>\n",
       "    </tr>\n",
       "    <tr>\n",
       "      <th>2</th>\n",
       "      <td>Fastrack</td>\n",
       "      <td>UV Protection Rectangular Sunglasses (Free Size)</td>\n",
       "      <td>₹513</td>\n",
       "      <td>35% off</td>\n",
       "    </tr>\n",
       "    <tr>\n",
       "      <th>3</th>\n",
       "      <td>Elligator</td>\n",
       "      <td>UV Protection Round Sunglasses (54)</td>\n",
       "      <td>₹264</td>\n",
       "      <td>89% off</td>\n",
       "    </tr>\n",
       "    <tr>\n",
       "      <th>4</th>\n",
       "      <td>PIRASO</td>\n",
       "      <td>UV Protection Aviator Sunglasses (54)</td>\n",
       "      <td>₹200</td>\n",
       "      <td>87% off</td>\n",
       "    </tr>\n",
       "    <tr>\n",
       "      <th>...</th>\n",
       "      <td>...</td>\n",
       "      <td>...</td>\n",
       "      <td>...</td>\n",
       "      <td>...</td>\n",
       "    </tr>\n",
       "    <tr>\n",
       "      <th>95</th>\n",
       "      <td>VINCENT CHASE</td>\n",
       "      <td>Polarized, UV Protection Wayfarer Sunglasses (57)</td>\n",
       "      <td>₹999</td>\n",
       "      <td>50% off</td>\n",
       "    </tr>\n",
       "    <tr>\n",
       "      <th>96</th>\n",
       "      <td>PIRASO</td>\n",
       "      <td>UV Protection Butterfly Sunglasses (60)</td>\n",
       "      <td>₹271</td>\n",
       "      <td>89% off</td>\n",
       "    </tr>\n",
       "    <tr>\n",
       "      <th>97</th>\n",
       "      <td>Fravy</td>\n",
       "      <td>UV Protection Retro Square Sunglasses (Free Size)</td>\n",
       "      <td>₹299</td>\n",
       "      <td>80% off</td>\n",
       "    </tr>\n",
       "    <tr>\n",
       "      <th>98</th>\n",
       "      <td>Fastrack</td>\n",
       "      <td>UV Protection Wayfarer Sunglasses (Free Size)</td>\n",
       "      <td>₹689</td>\n",
       "      <td>23% off</td>\n",
       "    </tr>\n",
       "    <tr>\n",
       "      <th>99</th>\n",
       "      <td>VINCENT CHASE</td>\n",
       "      <td>by Lenskart Polarized, UV Protection Wayfarer ...</td>\n",
       "      <td>₹999</td>\n",
       "      <td>50% off</td>\n",
       "    </tr>\n",
       "  </tbody>\n",
       "</table>\n",
       "<p>100 rows × 4 columns</p>\n",
       "</div>"
      ],
      "text/plain": [
       "       Brand Name                                        Decsription Prices  \\\n",
       "0       ROYAL SON         UV Protection Retro Square Sunglasses (49)   ₹664   \n",
       "1       ROYAL SON     Polarized, UV Protection Round Sunglasses (49)   ₹664   \n",
       "2        Fastrack   UV Protection Rectangular Sunglasses (Free Size)   ₹513   \n",
       "3       Elligator                UV Protection Round Sunglasses (54)   ₹264   \n",
       "4          PIRASO              UV Protection Aviator Sunglasses (54)   ₹200   \n",
       "..            ...                                                ...    ...   \n",
       "95  VINCENT CHASE  Polarized, UV Protection Wayfarer Sunglasses (57)   ₹999   \n",
       "96         PIRASO            UV Protection Butterfly Sunglasses (60)   ₹271   \n",
       "97          Fravy  UV Protection Retro Square Sunglasses (Free Size)   ₹299   \n",
       "98       Fastrack      UV Protection Wayfarer Sunglasses (Free Size)   ₹689   \n",
       "99  VINCENT CHASE  by Lenskart Polarized, UV Protection Wayfarer ...   ₹999   \n",
       "\n",
       "   Discounts  \n",
       "0    66% off  \n",
       "1    66% off  \n",
       "2    35% off  \n",
       "3    89% off  \n",
       "4    87% off  \n",
       "..       ...  \n",
       "95   50% off  \n",
       "96   89% off  \n",
       "97   80% off  \n",
       "98   23% off  \n",
       "99   50% off  \n",
       "\n",
       "[100 rows x 4 columns]"
      ]
     },
     "execution_count": 427,
     "metadata": {},
     "output_type": "execute_result"
    }
   ],
   "source": [
    "Final = pd.concat([pg1, pg2, pg3], ignore_index=True)\n",
    "\n",
    "Final"
   ]
  },
  {
   "cell_type": "markdown",
   "id": "2d1d8370",
   "metadata": {},
   "source": [
    "Q.5: Scrape 100 reviews data from flipkart.com for iphone11 phone. You have to go the link:\n",
    "https://www.flipkart.com/apple-iphone-11-black-64-gb-includes-earpods-poweradapter/p/itm0f37c2240b217?pid=MOBFKCTSVZAXUHGR&lid=LSTMOBFKCTSVZAXUHGREPBFGI&marketplace.\n",
    "\n",
    "As shown in the above page you have to scrape the tick marked attributes. These are:\n",
    "1. Rating\n",
    "2. Review_summary\n",
    "3. Full review\n",
    "4. You have to scrape this data for first 100 reviews."
   ]
  },
  {
   "cell_type": "code",
   "execution_count": null,
   "id": "9462d6fc",
   "metadata": {},
   "outputs": [],
   "source": [
    "#driver = webdriver.Chrome(chrome_driver)\n",
    "#driver.get(' https://www.flipkart.com/')"
   ]
  },
  {
   "cell_type": "code",
   "execution_count": null,
   "id": "3d6bdf04",
   "metadata": {},
   "outputs": [],
   "source": [
    "#search_job = driver.find_element_by_name('q')\n",
    "#search_job.send_keys('Sunglasses')\n",
    "#search_btn = driver.find_element_by_tag_name('button')\n",
    "#search_btn.click()"
   ]
  },
  {
   "cell_type": "code",
   "execution_count": 488,
   "id": "092cd338",
   "metadata": {},
   "outputs": [
    {
     "name": "stderr",
     "output_type": "stream",
     "text": [
      "<ipython-input-488-ca3cca990a32>:1: DeprecationWarning: executable_path has been deprecated, please pass in a Service object\n",
      "  driver = webdriver.Chrome(chrome_driver)\n"
     ]
    }
   ],
   "source": [
    "driver = webdriver.Chrome(chrome_driver)\n",
    "driver.get(' https://www.flipkart.com/')"
   ]
  },
  {
   "cell_type": "code",
   "execution_count": 489,
   "id": "c29e62d6",
   "metadata": {},
   "outputs": [],
   "source": [
    "url5 = 'https://www.flipkart.com/apple-iphone-11-black-64-gb-includes-earpods-power-adapter/product-reviews/itm0f37c2240b217?pid=MOBFKCTSVZAXUHGR&lid=LSTMOBFKCTSVZAXUHGREPBFGI&marketplace=FLIPKART'\n",
    "driver.get(url5)"
   ]
  },
  {
   "cell_type": "raw",
   "id": "87fb1d9f",
   "metadata": {},
   "source": [
    "final_list = []\n",
    "for page in range(10):\n",
    "    page_url = \"https://www.flipkart.com/apple-iphone-11-black-64-gb-includes-earpods-power-adapter/product-reviews/itm0f37c2240b217?pid=MOBFKCTSVZAXUHGR&lid=LSTMOBFKCTSVZAXUHGREPBFGI&marketplace=FLIPKART\" + str(page)\n",
    "    driver.get(page_url)\n",
    "    ratings = driver.find_elements_by_xpath(\"//div[@class='_3LWZlK _1BLPMq']\")\n",
    "    review_summary = driver.find_elements_by_xpath(\"//p[@class='_2-N8zT']\")\n",
    "    full_review = driver.find_elements_by_xpath(\"//div[@class='t-ZTKy']\")\n",
    "    \n",
    "    for i in range(len(ratings)):\n",
    "        final_list.append([ratings[i].text, review_summary[i].text, full_review[i].text])\n",
    "        next = driver.find_element_by_xpath(\"//a[@class='_1LKTO3']\")\n",
    "        next.click()\n",
    "print(final_list)"
   ]
  },
  {
   "cell_type": "code",
   "execution_count": 492,
   "id": "6df0bbe5",
   "metadata": {
    "collapsed": true
   },
   "outputs": [
    {
     "name": "stderr",
     "output_type": "stream",
     "text": [
      "<ipython-input-492-c52b6fd75373>:12: DeprecationWarning: find_elements_by_* commands are deprecated. Please use find_elements() instead\n",
      "  ratings1 = driver.find_elements_by_xpath(\"//div[@class='_3LWZlK _1BLPMq']\")\n",
      "<ipython-input-492-c52b6fd75373>:13: DeprecationWarning: find_elements_by_* commands are deprecated. Please use find_elements() instead\n",
      "  review_summary1 = driver.find_elements_by_xpath(\"//p[@class='_2-N8zT']\")\n",
      "<ipython-input-492-c52b6fd75373>:14: DeprecationWarning: find_elements_by_* commands are deprecated. Please use find_elements() instead\n",
      "  full_review1 = driver.find_elements_by_xpath(\"//div[@class='t-ZTKy']\")\n"
     ]
    },
    {
     "name": "stdout",
     "output_type": "stream",
     "text": [
      "[['5', 'Brilliant', 'The Best Phone for the Money\\n\\nThe iPhone 11 offers superb cameras, a more durable design and excellent battery life for an affordable price.\\n\\nCompelling ultra-wide camera\\nNew Night mode is excellent\\nLong battery life'], ['5', 'Simply awesome', 'Really satisfied with the Product I received... It’s totally genuine and the packaging was also really good so if ur planning to buy just go for it.'], ['5', 'Perfect product!', 'Amazing phone with great cameras and better battery which gives you the best performance. I just love the camera .'], ['5', 'Worth every penny', 'Previously I was using one plus 3t it was a great phone\\nAnd then I decided to upgrade I am stuck between Samsung s10 plus or iPhone 11\\nI have seen the specs and everything were good except the display it’s somewhere between 720-1080 and it’s not even an amoled it’s an LCD display\\nBut I decided to go with iPhone because I have never used an IOS device I have Been an android user from the past 9 years I ordered IPhone 11 (128gb) product red\\nMy experience after using 3 weeks\\n1. The delivery ...\\nREAD MORE'], ['5', 'Fabulous!', 'This is my first iOS phone. I am very happy with this product. Very much satisfied with this. I love this phone.'], ['5', 'Best in the market!', 'Great iPhone very snappy experience as apple kind. Upgraded from iPhone 7.\\nPros\\n-Camera top class\\n- Battery top performed\\n-Chipset no need to say as apple kind\\n-Security as you expect from apple\\n- Display super bright industry leading colour\\naccuracy and super responsive\\n-Build quality as expect from apple sturdy\\npremium durable beautiful stylish.\\n-Os most stable os in smartphone industry\\n\\nCons\\n-No 5G\\n-Display is not based on OLED technology\\n-Charger headphones and 1 apple stic...\\nREAD MORE'], ['5', 'Great product', 'Amazing Powerful and Durable Gadget.\\n\\nI’m am very happy with the camera picture quality, Amazing face id unlocked in dark room, Strong battery with perfect screen size as you can carry easily in pocket. This is my third iPhone.\\n\\nI shifted from android Samsung Note series to iPhone because of the strong build quality and peace of mind for next 3-4 years.\\n\\nDon’t think to much just go for it and I suggest you to go for minimum 128gb variant or more 256gb.\\n\\nI’ve attached my puppy pics and no fi...\\nREAD MORE'], ['4', 'Good choice', 'So far it’s been an AMAZING experience coming back to iOS after nearly a decade but it’s not as versatile as android though phone is sturdy dropped it accidentally a couple of times and nothing happened fortunately camera is awesome'], ['5', 'Worth every penny', 'i11 is worthy to buy, too much happy with the product. Thank u flipkart I received the item on time..loved it..'], ['5', 'Highly recommended', 'iphone 11 is a very good phone to buy only if you can compromise for the display. The display on this is device is pretty good but you can get other options with better displays in this price segment.\\nIf you can survive with an HD+ LCD panel with thicker bezels and a notch up top then this is a very good phone for you.\\nCameras are awesome, battery backup excellent, great performance and a decent premium look. Good job Apple !']]\n"
     ]
    }
   ],
   "source": [
    "#driver = webdriver.Chrome(chrome_driver)\n",
    "##driver.get(' https://www.flipkart.com/')\n",
    "\n",
    "#url5 = 'https://www.flipkart.com/apple-iphone-11-black-64-gb-includes-earpods-power-adapter/product-reviews/itm0f37c2240b217?pid=MOBFKCTSVZAXUHGR&lid=LSTMOBFKCTSVZAXUHGREPBFGI&marketplace=FLIPKART'\n",
    "#driver.get(url5)\n",
    "\n",
    "final_list1 = []\n",
    "#for page in range(10):\n",
    "    \n",
    "#page_url = \"https://www.flipkart.com/apple-iphone-11-black-64-gb-includes-earpods-power-adapter/product-reviews/itm0f37c2240b217?pid=MOBFKCTSVZAXUHGR&lid=LSTMOBFKCTSVZAXUHGREPBFGI&marketplace=FLIPKART\" + str(page)\n",
    "#driver.get(page_url)\n",
    "ratings1 = driver.find_elements_by_xpath(\"//div[@class='_3LWZlK _1BLPMq']\")\n",
    "review_summary1 = driver.find_elements_by_xpath(\"//p[@class='_2-N8zT']\")\n",
    "full_review1 = driver.find_elements_by_xpath(\"//div[@class='t-ZTKy']\")\n",
    "  \n",
    "for i in range(len(ratings1)):\n",
    "    final_list1.append([ratings1[i].text, review_summary1[i].text, full_review1[i].text])\n",
    "        #next = driver.find_element_by_xpath(\"//a[@class='_1LKTO3']\")\n",
    "        #next.click()/\n",
    "print(final_list1)"
   ]
  },
  {
   "cell_type": "markdown",
   "id": "4dcf6930",
   "metadata": {},
   "source": [
    "Q.6: Scrape data for first 100 sneakers you find when you visit flipkart.com and search for “sneakers” in the\n",
    "search field.\n",
    "You have to scrape 4 attributes of each sneaker:\n",
    "1. Brand\n",
    "2. Product Description\n",
    "3. Price"
   ]
  },
  {
   "cell_type": "markdown",
   "id": "cb060df5",
   "metadata": {},
   "source": [
    "Q.7: Go to the link - https://www.myntra.com/shoes\n",
    "Set Price filter to “Rs. 6649 to Rs. 13099” , Color filter to “Black”, as shown in the below image.\n",
    "\n",
    "And then scrape First 100 shoes data you get. The data should include “Brand” of the shoes , Short Shoe\n",
    "description, price of the shoe as shown in the below image."
   ]
  },
  {
   "cell_type": "markdown",
   "id": "0d9511ba",
   "metadata": {},
   "source": [
    "Q.8: Go to webpage https://www.amazon.in/\n",
    "Enter “Laptop” in the search field and then click the search icon.\n",
    "Then set CPU Type filter to “Intel Core i7” and “Intel Core i9” as shown in the below image:\n",
    "    \n",
    "After setting the filters scrape first 10 laptops data. You have to scrape 3 attributes for each laptop:\n",
    "1. Title\n",
    "2. Ratings\n",
    "3. Price"
   ]
  },
  {
   "cell_type": "code",
   "execution_count": 74,
   "id": "788dc59c",
   "metadata": {},
   "outputs": [
    {
     "name": "stderr",
     "output_type": "stream",
     "text": [
      "<ipython-input-74-33d760b8be68>:1: DeprecationWarning: executable_path has been deprecated, please pass in a Service object\n",
      "  driver = webdriver.Chrome(chrome_driver)\n"
     ]
    }
   ],
   "source": [
    "driver = webdriver.Chrome(chrome_driver)\n",
    "driver.get('https://www.amazon.in/ ')"
   ]
  },
  {
   "cell_type": "code",
   "execution_count": 75,
   "id": "50b574ca",
   "metadata": {},
   "outputs": [
    {
     "name": "stderr",
     "output_type": "stream",
     "text": [
      "<ipython-input-75-0034b9080be8>:1: DeprecationWarning: find_element_by_* commands are deprecated. Please use find_element() instead\n",
      "  search_product = driver.find_element_by_id('twotabsearchtextbox')\n",
      "<ipython-input-75-0034b9080be8>:3: DeprecationWarning: find_element_by_* commands are deprecated. Please use find_element() instead\n",
      "  search_btn = driver.find_element_by_id('nav-search-submit-button')\n"
     ]
    }
   ],
   "source": [
    "search_product = driver.find_element_by_id('twotabsearchtextbox')\n",
    "search_product.send_keys('Laptop')\n",
    "search_btn = driver.find_element_by_id('nav-search-submit-button')\n",
    "search_btn.click()"
   ]
  },
  {
   "cell_type": "code",
   "execution_count": 54,
   "id": "867d1e96",
   "metadata": {},
   "outputs": [],
   "source": [
    "url8 = 'https://www.amazon.in/s?k=Laptop&rh=n%3A1375424031%2Cp_n_feature_thirteen_browse-bin%3A12598163031&dc&qid=1636570448&rnid=12598141031&ref=sr_nr_p_n_feature_thirteen_browse-bin_10'\n",
    "driver.get(url8)"
   ]
  },
  {
   "cell_type": "code",
   "execution_count": 55,
   "id": "5502019e",
   "metadata": {},
   "outputs": [],
   "source": [
    "titles8 = []\n",
    "ratings8 = []\n",
    "prices8 = []"
   ]
  },
  {
   "cell_type": "code",
   "execution_count": 76,
   "id": "153bdeec",
   "metadata": {
    "collapsed": true
   },
   "outputs": [
    {
     "name": "stderr",
     "output_type": "stream",
     "text": [
      "<ipython-input-76-f3bfbf0664f9>:1: DeprecationWarning: find_elements_by_* commands are deprecated. Please use find_elements() instead\n",
      "  title_tags_pg8 = driver.find_elements_by_xpath(\"//span[@class='a-size-medium a-color-base a-text-normal']\")\n"
     ]
    },
    {
     "data": {
      "text/plain": [
       "[<selenium.webdriver.remote.webelement.WebElement (session=\"a577961cd9644cfc658673fc6a09ce7f\", element=\"c1de57d1-1594-4648-a5d1-c61ca2011355\")>,\n",
       " <selenium.webdriver.remote.webelement.WebElement (session=\"a577961cd9644cfc658673fc6a09ce7f\", element=\"5fb20147-7622-4f66-acc1-f7313c7511cd\")>,\n",
       " <selenium.webdriver.remote.webelement.WebElement (session=\"a577961cd9644cfc658673fc6a09ce7f\", element=\"8fccde9f-1fa5-4562-808f-417d6e5edfcf\")>,\n",
       " <selenium.webdriver.remote.webelement.WebElement (session=\"a577961cd9644cfc658673fc6a09ce7f\", element=\"241c65d2-134f-495c-8237-6bced270a191\")>,\n",
       " <selenium.webdriver.remote.webelement.WebElement (session=\"a577961cd9644cfc658673fc6a09ce7f\", element=\"767bc8ad-5052-42e4-929b-0b2f31903fdb\")>,\n",
       " <selenium.webdriver.remote.webelement.WebElement (session=\"a577961cd9644cfc658673fc6a09ce7f\", element=\"070cb366-14c1-4048-bf61-66824d1df322\")>,\n",
       " <selenium.webdriver.remote.webelement.WebElement (session=\"a577961cd9644cfc658673fc6a09ce7f\", element=\"758bb69b-b4fe-4242-bce9-dc1418a2a96d\")>,\n",
       " <selenium.webdriver.remote.webelement.WebElement (session=\"a577961cd9644cfc658673fc6a09ce7f\", element=\"8d35e077-c08f-4cc5-af45-67691c91e155\")>,\n",
       " <selenium.webdriver.remote.webelement.WebElement (session=\"a577961cd9644cfc658673fc6a09ce7f\", element=\"e4063e8c-a1a0-4522-b647-a2ed3d4655a1\")>,\n",
       " <selenium.webdriver.remote.webelement.WebElement (session=\"a577961cd9644cfc658673fc6a09ce7f\", element=\"9dc9f8fc-7465-4227-91a8-e5e59f573a8a\")>]"
      ]
     },
     "execution_count": 76,
     "metadata": {},
     "output_type": "execute_result"
    }
   ],
   "source": [
    "title_tags_pg8 = driver.find_elements_by_xpath(\"//span[@class='a-size-medium a-color-base a-text-normal']\") \n",
    "title_tags_pg8[0 : 10]"
   ]
  },
  {
   "cell_type": "code",
   "execution_count": 77,
   "id": "9e0a4e4e",
   "metadata": {
    "collapsed": true
   },
   "outputs": [
    {
     "data": {
      "text/plain": [
       "['(Renewed) ASUS ASUSPRO P5440FA-7812P Intel Core i7 8th Gen 14-inch FHD Thin and Light Laptop (8GB RAM/1TB HDD + 256GB SSD/Windows 10 Professional/Integrated Graphics/1.26 kg), Grey',\n",
       " 'HP Envy Intel 11th Gen Core i7 Processor 13.3 inches FHD Touchscreen Gaming Laptop (16GB/1TB SSD/Windows 10/NVIDIA MX450 2GB/Natural Silver/1.3 kg), 13-ba1018TX',\n",
       " 'Microsoft Surface Laptop Studio - 14.4\" Touchscreen - Intel Core i7 - 32GB Memory - 2TB SSD - Platinum',\n",
       " 'ASUS TUF Gaming F17 (2021), 17.3-inch (43.94 cms) FHD 144Hz, Intel Core i7-11800H 11th Gen, GeForce RTX 3050 Ti 4GB Graphics, Gaming Laptop (16GB/1TB SSD/Windows 10/Eclipse Gray/2.6 Kg) FX766HE-HX022T',\n",
       " 'Mi Notebook Horizon Edition 14 Intel Core i7-10510U 10th Gen Thin and Light Laptop(8GB/512GB SSD/Windows 10/Nvidia MX350 2GB Graphics/Grey/1.35Kg)(Without Webcam) XMA1904-AF',\n",
       " 'Lenovo ThinkBook 13s Intel 11th Gen Core i7 13.3\"(33.78 cm) WQXGA IPS 300 nits 100% sRGB Dolby Vision Thin and Light Laptop (16GB/512GB SSD/Windows 10/MS Office/FPR/Mineral Grey/1.26 Kg), 20V9A05FIH',\n",
       " 'Dell 14 (2021) i7-1195G7 2in1 Touch Screen Laptop, 16GB, 512GB SSD, Win 10 + MS Office, 14.0\" (35.56 cms) FHD Display, Backlit KB, FPR + Active Pen, Platinum Silver (Inspiron 5410, D560596WIN9S)',\n",
       " 'HP Pavilion (2021) Intel 11th Gen Core i7 14 inches FHD Screen Thin & Light Laptop, 16 GB RAM, 1TB SSD, Iris Xe Graphics, Windows 10, MS Office, Backlit Keyboard, 1.41kg (14-dv0058TU)',\n",
       " 'ASUS TUF Gaming F15 (2021) 15.6-inch (39.62 cms) FHD 144Hz, Intel Core i7-11800H 11th Gen, RTX 3050 4GB Graphics, Gaming Laptop (8GB/1TB SSD/Windows 10/Gray/2.3 Kg), FX566HCB-HN231T, Eclipse Gray',\n",
       " 'Acer Nitro 5 11th Gen Intel Core i7-11800H 15.6\" (39.62cms) Full HD Gaming Laptop (16 GB/256GB SSD/1 TB HDD/Win 10/RTX 3050 Ti 4GB Graphics/144 Hz, Black, 2.4 kg/RGB Backlit Keyboard) AN515-57']"
      ]
     },
     "execution_count": 77,
     "metadata": {},
     "output_type": "execute_result"
    }
   ],
   "source": [
    "for i in title_tags_pg8[0 : 10]:\n",
    "    t = i.text\n",
    "    titles8.append(t)\n",
    "titles8[0 : 10]"
   ]
  },
  {
   "cell_type": "code",
   "execution_count": 81,
   "id": "008435a4",
   "metadata": {
    "collapsed": true
   },
   "outputs": [
    {
     "name": "stderr",
     "output_type": "stream",
     "text": [
      "<ipython-input-81-30a9c61aa924>:3: DeprecationWarning: find_elements_by_* commands are deprecated. Please use find_elements() instead\n",
      "  rating_tags_pg8 = driver.find_elements_by_xpath(\"//span[@class='a-icon-alt']\")\n"
     ]
    },
    {
     "data": {
      "text/plain": [
       "[<selenium.webdriver.remote.webelement.WebElement (session=\"a577961cd9644cfc658673fc6a09ce7f\", element=\"5b84c1e8-3f4d-42b4-a240-1393fd0277bd\")>,\n",
       " <selenium.webdriver.remote.webelement.WebElement (session=\"a577961cd9644cfc658673fc6a09ce7f\", element=\"5ea905de-d6bd-4226-9d34-8d3bb30316b5\")>,\n",
       " <selenium.webdriver.remote.webelement.WebElement (session=\"a577961cd9644cfc658673fc6a09ce7f\", element=\"a744888c-6b46-4fec-a8e8-7a5bece5934f\")>,\n",
       " <selenium.webdriver.remote.webelement.WebElement (session=\"a577961cd9644cfc658673fc6a09ce7f\", element=\"a0cbc9ed-6e9a-4972-a7ad-5a30d123a8a7\")>,\n",
       " <selenium.webdriver.remote.webelement.WebElement (session=\"a577961cd9644cfc658673fc6a09ce7f\", element=\"95c8e6df-9ff6-4c61-a700-becf45723a40\")>,\n",
       " <selenium.webdriver.remote.webelement.WebElement (session=\"a577961cd9644cfc658673fc6a09ce7f\", element=\"21a52aa5-e835-450a-b930-b48812017f0e\")>,\n",
       " <selenium.webdriver.remote.webelement.WebElement (session=\"a577961cd9644cfc658673fc6a09ce7f\", element=\"cf8e85bc-22d9-469a-b678-d4c4e4771d90\")>,\n",
       " <selenium.webdriver.remote.webelement.WebElement (session=\"a577961cd9644cfc658673fc6a09ce7f\", element=\"b60f1d09-e172-45f2-9cdd-c6d83a186098\")>,\n",
       " <selenium.webdriver.remote.webelement.WebElement (session=\"a577961cd9644cfc658673fc6a09ce7f\", element=\"e8e55f8a-0faf-412d-9834-e020523d6c78\")>,\n",
       " <selenium.webdriver.remote.webelement.WebElement (session=\"a577961cd9644cfc658673fc6a09ce7f\", element=\"e4c629ab-f6e2-4192-aab9-5440f0d1cdec\")>]"
      ]
     },
     "execution_count": 81,
     "metadata": {},
     "output_type": "execute_result"
    }
   ],
   "source": [
    "#pop_btn = driver.find_element_by_xpath(\"//a[@class='a-popover-trigger a-declarative']\")\n",
    "#pop_btn.click()\n",
    "rating_tags_pg8 = driver.find_elements_by_xpath(\"//span[@class='a-icon-alt']\") \n",
    "rating_tags_pg8[0 : 10]"
   ]
  },
  {
   "cell_type": "code",
   "execution_count": 82,
   "id": "5a53e19a",
   "metadata": {},
   "outputs": [
    {
     "data": {
      "text/plain": [
       "['', '', '', '', '', '', '', '', '', '']"
      ]
     },
     "execution_count": 82,
     "metadata": {},
     "output_type": "execute_result"
    }
   ],
   "source": [
    "for i in rating_tags_pg8[0 : 10]:\n",
    "    r = i.text\n",
    "    ratings8.append(r)\n",
    "ratings8[0 : 10]"
   ]
  },
  {
   "cell_type": "code",
   "execution_count": 83,
   "id": "381d6dde",
   "metadata": {
    "collapsed": true
   },
   "outputs": [
    {
     "name": "stderr",
     "output_type": "stream",
     "text": [
      "<ipython-input-83-f4bd48bb34e6>:1: DeprecationWarning: find_elements_by_* commands are deprecated. Please use find_elements() instead\n",
      "  price_tags_pg8 = driver.find_elements_by_xpath(\"//span[@class='a-price-whole']\")\n"
     ]
    },
    {
     "data": {
      "text/plain": [
       "[<selenium.webdriver.remote.webelement.WebElement (session=\"a577961cd9644cfc658673fc6a09ce7f\", element=\"822d22b4-68ca-4239-990e-fee6f488eec5\")>,\n",
       " <selenium.webdriver.remote.webelement.WebElement (session=\"a577961cd9644cfc658673fc6a09ce7f\", element=\"c5c834b5-75e8-4590-ad59-f8de70425183\")>,\n",
       " <selenium.webdriver.remote.webelement.WebElement (session=\"a577961cd9644cfc658673fc6a09ce7f\", element=\"13fec3f9-0287-4c59-9f1b-daa1bdf9abcb\")>,\n",
       " <selenium.webdriver.remote.webelement.WebElement (session=\"a577961cd9644cfc658673fc6a09ce7f\", element=\"60c2c2ed-65a0-42a0-8498-5170fd54ee4a\")>,\n",
       " <selenium.webdriver.remote.webelement.WebElement (session=\"a577961cd9644cfc658673fc6a09ce7f\", element=\"eeac8e67-1054-43c7-9002-62c6886321e0\")>,\n",
       " <selenium.webdriver.remote.webelement.WebElement (session=\"a577961cd9644cfc658673fc6a09ce7f\", element=\"35bfc8b2-234c-4ce5-9cfc-5643dc8bec0d\")>,\n",
       " <selenium.webdriver.remote.webelement.WebElement (session=\"a577961cd9644cfc658673fc6a09ce7f\", element=\"0cf5e6da-43de-4f47-8015-529248522133\")>,\n",
       " <selenium.webdriver.remote.webelement.WebElement (session=\"a577961cd9644cfc658673fc6a09ce7f\", element=\"0ff8e614-43f5-4965-9eb3-002445e2eae9\")>,\n",
       " <selenium.webdriver.remote.webelement.WebElement (session=\"a577961cd9644cfc658673fc6a09ce7f\", element=\"951e26e0-e94e-40bf-ac41-6279c4e7cda9\")>,\n",
       " <selenium.webdriver.remote.webelement.WebElement (session=\"a577961cd9644cfc658673fc6a09ce7f\", element=\"ac03171f-23ed-495d-b86c-5be13b7b9313\")>]"
      ]
     },
     "execution_count": 83,
     "metadata": {},
     "output_type": "execute_result"
    }
   ],
   "source": [
    "price_tags_pg8 = driver.find_elements_by_xpath(\"//span[@class='a-price-whole']\") \n",
    "price_tags_pg8[0 : 10]"
   ]
  },
  {
   "cell_type": "code",
   "execution_count": 84,
   "id": "026171fe",
   "metadata": {
    "collapsed": true
   },
   "outputs": [
    {
     "data": {
      "text/plain": [
       "['63,999',\n",
       " '1,24,000',\n",
       " '3,73,999',\n",
       " '1,13,990',\n",
       " '59,990',\n",
       " '89,990',\n",
       " '88,490',\n",
       " '84,990',\n",
       " '99,990',\n",
       " '85,911']"
      ]
     },
     "execution_count": 84,
     "metadata": {},
     "output_type": "execute_result"
    }
   ],
   "source": [
    "for i in price_tags_pg8[0 : 10]:\n",
    "    t = i.text\n",
    "    prices8.append(t)\n",
    "prices8[0 : 10]"
   ]
  },
  {
   "cell_type": "markdown",
   "id": "11285af9",
   "metadata": {},
   "source": [
    "Q.9: Write a python program to scrape data for first 10 job results for Data Scientist Designation in Noida\n",
    "location. You have to scrape company name, No. of days ago when job was posted, Rating of the company.\n",
    "This task will be done in following steps:\n",
    "1. First get the webpage https://www.ambitionbox.com/\n",
    "2. Click on the Job option as shown in the image\n",
    "3. After reaching to the next webpage, In place of “Search by Designations, Companies, Skills” enter\n",
    "“Data Scientist” and click on search button.\n",
    "4. You will reach to the following web page click on location and in place of “Search location” enter\n",
    "“Noida” and select location “Noida”.\n",
    "5. Then scrape the data for the first 10 jobs results you get on the above shown page.\n",
    "6. Finally create a dataframe of the scraped data."
   ]
  },
  {
   "cell_type": "code",
   "execution_count": 190,
   "id": "e8d92535",
   "metadata": {},
   "outputs": [
    {
     "name": "stderr",
     "output_type": "stream",
     "text": [
      "<ipython-input-190-5a87355f415f>:1: DeprecationWarning: executable_path has been deprecated, please pass in a Service object\n",
      "  driver = webdriver.Chrome(chrome_driver)\n"
     ]
    }
   ],
   "source": [
    "driver = webdriver.Chrome(chrome_driver)\n",
    "driver.get('https://www.ambitionbox.com/')"
   ]
  },
  {
   "cell_type": "code",
   "execution_count": 191,
   "id": "f3d5c230",
   "metadata": {},
   "outputs": [
    {
     "name": "stderr",
     "output_type": "stream",
     "text": [
      "<ipython-input-191-d6ada395cb24>:1: DeprecationWarning: find_element_by_* commands are deprecated. Please use find_element() instead\n",
      "  jobs = driver.find_element_by_xpath(\"//a[@class='link jobs']\")\n"
     ]
    }
   ],
   "source": [
    "jobs = driver.find_element_by_xpath(\"//a[@class='link jobs']\")\n",
    "jobs.click()"
   ]
  },
  {
   "cell_type": "code",
   "execution_count": 192,
   "id": "8b3d2d32",
   "metadata": {},
   "outputs": [
    {
     "name": "stderr",
     "output_type": "stream",
     "text": [
      "<ipython-input-192-5a2c5aa30be4>:2: DeprecationWarning: find_element_by_* commands are deprecated. Please use find_element() instead\n",
      "  search = driver.find_element_by_xpath(\"//span[@class='twitter-typeahead']//*[@class='input tt-input']\")\n",
      "<ipython-input-192-5a2c5aa30be4>:5: DeprecationWarning: find_element_by_* commands are deprecated. Please use find_element() instead\n",
      "  search_btn = driver.find_element_by_xpath(\"//button[@class='ab_btn search-btn round']//*[@class='ctas-btn-medium']\")\n"
     ]
    }
   ],
   "source": [
    "#search = driver.find_element_by_xpath(\"//div[@class='search-company']\")\n",
    "search = driver.find_element_by_xpath(\"//span[@class='twitter-typeahead']//*[@class='input tt-input']\")\n",
    "#search = driver.find_element_by_id('jobs-typeahead')\n",
    "search.send_keys('Data Scientist')\n",
    "search_btn = driver.find_element_by_xpath(\"//button[@class='ab_btn search-btn round']//*[@class='ctas-btn-medium']\")\n",
    "search_btn.click()"
   ]
  },
  {
   "cell_type": "code",
   "execution_count": 193,
   "id": "999ad63c",
   "metadata": {},
   "outputs": [
    {
     "name": "stderr",
     "output_type": "stream",
     "text": [
      "<ipython-input-193-7117a5cffefd>:1: DeprecationWarning: find_element_by_* commands are deprecated. Please use find_element() instead\n",
      "  loc = driver.find_element_by_xpath(\"//div[@title='Location']\")\n"
     ]
    }
   ],
   "source": [
    "loc = driver.find_element_by_xpath(\"//div[@title='Location']\")\n",
    "loc.click()"
   ]
  },
  {
   "cell_type": "code",
   "execution_count": 173,
   "id": "b6088f38",
   "metadata": {},
   "outputs": [
    {
     "name": "stderr",
     "output_type": "stream",
     "text": [
      "<ipython-input-173-7cc518728933>:1: DeprecationWarning: find_element_by_* commands are deprecated. Please use find_element() instead\n",
      "  loc_search = driver.find_element_by_xpath(\"//div[@class='radioList-wrapper filter']//*[@id='location_Noida']\")\n"
     ]
    },
    {
     "data": {
      "text/plain": [
       "<bound method WebElement.click of <selenium.webdriver.remote.webelement.WebElement (session=\"fe1d027bdff619afa1c4e4e965419281\", element=\"9d500fc7-6d01-4b84-9f6f-73b4f216c672\")>>"
      ]
     },
     "execution_count": 173,
     "metadata": {},
     "output_type": "execute_result"
    }
   ],
   "source": [
    "loc_search = driver.find_element_by_xpath(\"//div[@class='radioList-wrapper filter']//*[@id='location_Noida']\")\n",
    "loc_search.click\n",
    "#loc_btn = driver.find_element_by_xpath(\"//button[@class='ab_btn search-btn round']//*[@class='ctas-btn-medium']\")\n",
    "#loc_btn.click()"
   ]
  },
  {
   "cell_type": "code",
   "execution_count": 194,
   "id": "a7cbae82",
   "metadata": {},
   "outputs": [],
   "source": [
    "url9 = 'https://www.ambitionbox.com/jobs/search?tag=Data%20Scientist&location=Noida'\n",
    "driver.get(url9)"
   ]
  },
  {
   "cell_type": "code",
   "execution_count": 195,
   "id": "676a2c47",
   "metadata": {
    "collapsed": true
   },
   "outputs": [
    {
     "name": "stderr",
     "output_type": "stream",
     "text": [
      "<ipython-input-195-32a144fd2da8>:1: DeprecationWarning: find_elements_by_* commands are deprecated. Please use find_elements() instead\n",
      "  jobs9_tags = driver.find_elements_by_xpath(\"//div[@class='info']\")\n"
     ]
    },
    {
     "data": {
      "text/plain": [
       "[<selenium.webdriver.remote.webelement.WebElement (session=\"bdc3673dc89765d4100b62f4f4ecbd30\", element=\"be0c851e-c00d-47a0-847a-797923fceeb2\")>,\n",
       " <selenium.webdriver.remote.webelement.WebElement (session=\"bdc3673dc89765d4100b62f4f4ecbd30\", element=\"0979d12b-238d-4e30-9566-01311be378ce\")>,\n",
       " <selenium.webdriver.remote.webelement.WebElement (session=\"bdc3673dc89765d4100b62f4f4ecbd30\", element=\"d59b5efd-55db-4543-8189-27d64a14af97\")>,\n",
       " <selenium.webdriver.remote.webelement.WebElement (session=\"bdc3673dc89765d4100b62f4f4ecbd30\", element=\"4afccd16-08e6-440e-be85-ce7fd5db4781\")>,\n",
       " <selenium.webdriver.remote.webelement.WebElement (session=\"bdc3673dc89765d4100b62f4f4ecbd30\", element=\"9edf92ac-98b0-4609-99d8-cd85319aae6f\")>,\n",
       " <selenium.webdriver.remote.webelement.WebElement (session=\"bdc3673dc89765d4100b62f4f4ecbd30\", element=\"3676fc8c-02d0-4d18-be84-c7cc79e570f2\")>,\n",
       " <selenium.webdriver.remote.webelement.WebElement (session=\"bdc3673dc89765d4100b62f4f4ecbd30\", element=\"72bf1fcd-321f-4db6-b314-f646fc6da4d9\")>,\n",
       " <selenium.webdriver.remote.webelement.WebElement (session=\"bdc3673dc89765d4100b62f4f4ecbd30\", element=\"60d526b0-968e-46b3-9be9-72eea5881223\")>,\n",
       " <selenium.webdriver.remote.webelement.WebElement (session=\"bdc3673dc89765d4100b62f4f4ecbd30\", element=\"eafbee90-7d0c-40fa-bcf3-df2319c84b83\")>,\n",
       " <selenium.webdriver.remote.webelement.WebElement (session=\"bdc3673dc89765d4100b62f4f4ecbd30\", element=\"76d86345-a78f-4e4f-b846-7d24f2bbcce2\")>]"
      ]
     },
     "execution_count": 195,
     "metadata": {},
     "output_type": "execute_result"
    }
   ],
   "source": [
    "jobs9_tags = driver.find_elements_by_xpath(\"//div[@class='info']\") \n",
    "jobs9_tags[0 : 10]"
   ]
  },
  {
   "cell_type": "code",
   "execution_count": 199,
   "id": "9f582ccd",
   "metadata": {
    "collapsed": true
   },
   "outputs": [
    {
     "data": {
      "text/plain": [
       "[<selenium.webdriver.remote.webelement.WebElement (session=\"05f0e57660671b52a405827d216685a2\", element=\"5d7301ab-7fec-4922-8e73-af241c1596e9\")>,\n",
       " <selenium.webdriver.remote.webelement.WebElement (session=\"05f0e57660671b52a405827d216685a2\", element=\"018b7c7a-d9e5-425d-9e61-bd829d97c03b\")>,\n",
       " <selenium.webdriver.remote.webelement.WebElement (session=\"05f0e57660671b52a405827d216685a2\", element=\"781ad5c5-be54-482b-9b0c-b5c7ee8aa317\")>,\n",
       " <selenium.webdriver.remote.webelement.WebElement (session=\"05f0e57660671b52a405827d216685a2\", element=\"cb7c5f0c-c81b-498b-bbc1-1e450aa5a582\")>,\n",
       " <selenium.webdriver.remote.webelement.WebElement (session=\"05f0e57660671b52a405827d216685a2\", element=\"ec1c404c-0180-47a6-996a-d8598e64dd07\")>,\n",
       " <selenium.webdriver.remote.webelement.WebElement (session=\"05f0e57660671b52a405827d216685a2\", element=\"852a239f-6906-4f1d-a041-7dceafea7acb\")>,\n",
       " <selenium.webdriver.remote.webelement.WebElement (session=\"05f0e57660671b52a405827d216685a2\", element=\"26434758-a403-40a8-858a-922be12e8c33\")>,\n",
       " <selenium.webdriver.remote.webelement.WebElement (session=\"05f0e57660671b52a405827d216685a2\", element=\"6b8dd4f4-7440-4c9e-a5ce-cfcea1643ace\")>,\n",
       " <selenium.webdriver.remote.webelement.WebElement (session=\"05f0e57660671b52a405827d216685a2\", element=\"622da0fe-2f99-4a01-83ce-f1ff627be713\")>,\n",
       " <selenium.webdriver.remote.webelement.WebElement (session=\"05f0e57660671b52a405827d216685a2\", element=\"87e57790-c5fa-406f-89c3-4060550b6240\")>]"
      ]
     },
     "execution_count": 199,
     "metadata": {},
     "output_type": "execute_result"
    }
   ],
   "source": [
    "for i in jobs9_tags:\n",
    "    t = i.text\n",
    "    jobs9.append(t)\n",
    "jobs9[0 : 10]"
   ]
  },
  {
   "cell_type": "code",
   "execution_count": 200,
   "id": "7e833183",
   "metadata": {},
   "outputs": [],
   "source": [
    "q9 = pd.DataFrame({})\n",
    "q9['Job Info'] = jobs9"
   ]
  },
  {
   "cell_type": "code",
   "execution_count": 202,
   "id": "11345670",
   "metadata": {
    "collapsed": true
   },
   "outputs": [
    {
     "data": {
      "text/html": [
       "<div>\n",
       "<style scoped>\n",
       "    .dataframe tbody tr th:only-of-type {\n",
       "        vertical-align: middle;\n",
       "    }\n",
       "\n",
       "    .dataframe tbody tr th {\n",
       "        vertical-align: top;\n",
       "    }\n",
       "\n",
       "    .dataframe thead th {\n",
       "        text-align: right;\n",
       "    }\n",
       "</style>\n",
       "<table border=\"1\" class=\"dataframe\">\n",
       "  <thead>\n",
       "    <tr style=\"text-align: right;\">\n",
       "      <th></th>\n",
       "      <th>Job Info</th>\n",
       "    </tr>\n",
       "  </thead>\n",
       "  <tbody>\n",
       "    <tr>\n",
       "      <th>11</th>\n",
       "      <td>Data Scientist\\nOptum Global Solutions (India)...</td>\n",
       "    </tr>\n",
       "    <tr>\n",
       "      <th>12</th>\n",
       "      <td>Group Lead-Data Scientist\\nAmeriprise Financia...</td>\n",
       "    </tr>\n",
       "    <tr>\n",
       "      <th>13</th>\n",
       "      <td>Data Scientist\\nOptum Global Solutions (India)...</td>\n",
       "    </tr>\n",
       "    <tr>\n",
       "      <th>14</th>\n",
       "      <td>Urgent Vacancy || Data Scientist || Noida\\nSte...</td>\n",
       "    </tr>\n",
       "    <tr>\n",
       "      <th>15</th>\n",
       "      <td>Urgent Requirement || Data Scientist || Noida\\...</td>\n",
       "    </tr>\n",
       "    <tr>\n",
       "      <th>16</th>\n",
       "      <td>Senior Data Scientist\\nHCL Technologies Limite...</td>\n",
       "    </tr>\n",
       "    <tr>\n",
       "      <th>17</th>\n",
       "      <td>Data Scientist - Machine Learning (5-14 yrs)\\n...</td>\n",
       "    </tr>\n",
       "    <tr>\n",
       "      <th>18</th>\n",
       "      <td>Data Scientist - Consulting Firm (8-15 yrs)\\nG...</td>\n",
       "    </tr>\n",
       "    <tr>\n",
       "      <th>19</th>\n",
       "      <td>Manager - Data Scientist - Retail/BFSI (8-15 y...</td>\n",
       "    </tr>\n",
       "    <tr>\n",
       "      <th>20</th>\n",
       "      <td>Data Scientist: Artificial Intelligence\\nIBM I...</td>\n",
       "    </tr>\n",
       "    <tr>\n",
       "      <th>21</th>\n",
       "      <td>Data Scientist\\nOptum Global Solutions (India)...</td>\n",
       "    </tr>\n",
       "    <tr>\n",
       "      <th>22</th>\n",
       "      <td>Group Lead-Data Scientist\\nAmeriprise Financia...</td>\n",
       "    </tr>\n",
       "    <tr>\n",
       "      <th>23</th>\n",
       "      <td>Data Scientist\\nOptum Global Solutions (India)...</td>\n",
       "    </tr>\n",
       "    <tr>\n",
       "      <th>24</th>\n",
       "      <td>Urgent Vacancy || Data Scientist || Noida\\nSte...</td>\n",
       "    </tr>\n",
       "    <tr>\n",
       "      <th>25</th>\n",
       "      <td>Urgent Requirement || Data Scientist || Noida\\...</td>\n",
       "    </tr>\n",
       "    <tr>\n",
       "      <th>26</th>\n",
       "      <td>Senior Data Scientist\\nHCL Technologies Limite...</td>\n",
       "    </tr>\n",
       "    <tr>\n",
       "      <th>27</th>\n",
       "      <td>Data Scientist - Machine Learning (5-14 yrs)\\n...</td>\n",
       "    </tr>\n",
       "    <tr>\n",
       "      <th>28</th>\n",
       "      <td>Data Scientist - Consulting Firm (8-15 yrs)\\nG...</td>\n",
       "    </tr>\n",
       "    <tr>\n",
       "      <th>29</th>\n",
       "      <td>Manager - Data Scientist - Retail/BFSI (8-15 y...</td>\n",
       "    </tr>\n",
       "    <tr>\n",
       "      <th>30</th>\n",
       "      <td>Data Scientist: Artificial Intelligence\\nIBM I...</td>\n",
       "    </tr>\n",
       "    <tr>\n",
       "      <th>31</th>\n",
       "      <td>Data Scientist\\nOptum Global Solutions (India)...</td>\n",
       "    </tr>\n",
       "    <tr>\n",
       "      <th>32</th>\n",
       "      <td>Group Lead-Data Scientist\\nAmeriprise Financia...</td>\n",
       "    </tr>\n",
       "    <tr>\n",
       "      <th>33</th>\n",
       "      <td>Data Scientist\\nOptum Global Solutions (India)...</td>\n",
       "    </tr>\n",
       "    <tr>\n",
       "      <th>34</th>\n",
       "      <td>Urgent Vacancy || Data Scientist || Noida\\nSte...</td>\n",
       "    </tr>\n",
       "    <tr>\n",
       "      <th>35</th>\n",
       "      <td>Urgent Requirement || Data Scientist || Noida\\...</td>\n",
       "    </tr>\n",
       "    <tr>\n",
       "      <th>36</th>\n",
       "      <td>Senior Data Scientist\\nHCL Technologies Limite...</td>\n",
       "    </tr>\n",
       "    <tr>\n",
       "      <th>37</th>\n",
       "      <td>Data Scientist - Machine Learning (5-14 yrs)\\n...</td>\n",
       "    </tr>\n",
       "    <tr>\n",
       "      <th>38</th>\n",
       "      <td>Data Scientist - Consulting Firm (8-15 yrs)\\nG...</td>\n",
       "    </tr>\n",
       "    <tr>\n",
       "      <th>39</th>\n",
       "      <td>Manager - Data Scientist - Retail/BFSI (8-15 y...</td>\n",
       "    </tr>\n",
       "    <tr>\n",
       "      <th>40</th>\n",
       "      <td>Data Scientist: Artificial Intelligence\\nIBM I...</td>\n",
       "    </tr>\n",
       "    <tr>\n",
       "      <th>41</th>\n",
       "      <td>Data Scientist\\nOptum Global Solutions (India)...</td>\n",
       "    </tr>\n",
       "    <tr>\n",
       "      <th>42</th>\n",
       "      <td>Group Lead-Data Scientist\\nAmeriprise Financia...</td>\n",
       "    </tr>\n",
       "    <tr>\n",
       "      <th>43</th>\n",
       "      <td>Data Scientist\\nOptum Global Solutions (India)...</td>\n",
       "    </tr>\n",
       "    <tr>\n",
       "      <th>44</th>\n",
       "      <td>Urgent Vacancy || Data Scientist || Noida\\nSte...</td>\n",
       "    </tr>\n",
       "    <tr>\n",
       "      <th>45</th>\n",
       "      <td>Urgent Requirement || Data Scientist || Noida\\...</td>\n",
       "    </tr>\n",
       "    <tr>\n",
       "      <th>46</th>\n",
       "      <td>Senior Data Scientist\\nHCL Technologies Limite...</td>\n",
       "    </tr>\n",
       "    <tr>\n",
       "      <th>47</th>\n",
       "      <td>Data Scientist - Machine Learning (5-14 yrs)\\n...</td>\n",
       "    </tr>\n",
       "    <tr>\n",
       "      <th>48</th>\n",
       "      <td>Data Scientist - Consulting Firm (8-15 yrs)\\nG...</td>\n",
       "    </tr>\n",
       "    <tr>\n",
       "      <th>49</th>\n",
       "      <td>Manager - Data Scientist - Retail/BFSI (8-15 y...</td>\n",
       "    </tr>\n",
       "    <tr>\n",
       "      <th>50</th>\n",
       "      <td>Data Scientist: Artificial Intelligence\\nIBM I...</td>\n",
       "    </tr>\n",
       "    <tr>\n",
       "      <th>51</th>\n",
       "      <td>AmbitionBox\\nHelping over 55 Lakh job seekers ...</td>\n",
       "    </tr>\n",
       "  </tbody>\n",
       "</table>\n",
       "</div>"
      ],
      "text/plain": [
       "                                             Job Info\n",
       "11  Data Scientist\\nOptum Global Solutions (India)...\n",
       "12  Group Lead-Data Scientist\\nAmeriprise Financia...\n",
       "13  Data Scientist\\nOptum Global Solutions (India)...\n",
       "14  Urgent Vacancy || Data Scientist || Noida\\nSte...\n",
       "15  Urgent Requirement || Data Scientist || Noida\\...\n",
       "16  Senior Data Scientist\\nHCL Technologies Limite...\n",
       "17  Data Scientist - Machine Learning (5-14 yrs)\\n...\n",
       "18  Data Scientist - Consulting Firm (8-15 yrs)\\nG...\n",
       "19  Manager - Data Scientist - Retail/BFSI (8-15 y...\n",
       "20  Data Scientist: Artificial Intelligence\\nIBM I...\n",
       "21  Data Scientist\\nOptum Global Solutions (India)...\n",
       "22  Group Lead-Data Scientist\\nAmeriprise Financia...\n",
       "23  Data Scientist\\nOptum Global Solutions (India)...\n",
       "24  Urgent Vacancy || Data Scientist || Noida\\nSte...\n",
       "25  Urgent Requirement || Data Scientist || Noida\\...\n",
       "26  Senior Data Scientist\\nHCL Technologies Limite...\n",
       "27  Data Scientist - Machine Learning (5-14 yrs)\\n...\n",
       "28  Data Scientist - Consulting Firm (8-15 yrs)\\nG...\n",
       "29  Manager - Data Scientist - Retail/BFSI (8-15 y...\n",
       "30  Data Scientist: Artificial Intelligence\\nIBM I...\n",
       "31  Data Scientist\\nOptum Global Solutions (India)...\n",
       "32  Group Lead-Data Scientist\\nAmeriprise Financia...\n",
       "33  Data Scientist\\nOptum Global Solutions (India)...\n",
       "34  Urgent Vacancy || Data Scientist || Noida\\nSte...\n",
       "35  Urgent Requirement || Data Scientist || Noida\\...\n",
       "36  Senior Data Scientist\\nHCL Technologies Limite...\n",
       "37  Data Scientist - Machine Learning (5-14 yrs)\\n...\n",
       "38  Data Scientist - Consulting Firm (8-15 yrs)\\nG...\n",
       "39  Manager - Data Scientist - Retail/BFSI (8-15 y...\n",
       "40  Data Scientist: Artificial Intelligence\\nIBM I...\n",
       "41  Data Scientist\\nOptum Global Solutions (India)...\n",
       "42  Group Lead-Data Scientist\\nAmeriprise Financia...\n",
       "43  Data Scientist\\nOptum Global Solutions (India)...\n",
       "44  Urgent Vacancy || Data Scientist || Noida\\nSte...\n",
       "45  Urgent Requirement || Data Scientist || Noida\\...\n",
       "46  Senior Data Scientist\\nHCL Technologies Limite...\n",
       "47  Data Scientist - Machine Learning (5-14 yrs)\\n...\n",
       "48  Data Scientist - Consulting Firm (8-15 yrs)\\nG...\n",
       "49  Manager - Data Scientist - Retail/BFSI (8-15 y...\n",
       "50  Data Scientist: Artificial Intelligence\\nIBM I...\n",
       "51  AmbitionBox\\nHelping over 55 Lakh job seekers ..."
      ]
     },
     "execution_count": 202,
     "metadata": {},
     "output_type": "execute_result"
    }
   ],
   "source": [
    "q9[11:]"
   ]
  },
  {
   "cell_type": "markdown",
   "id": "663e4c60",
   "metadata": {},
   "source": [
    "Q.10: Write a python program to scrape the salary data for Data Scientist designation.\n",
    "You have to scrape Company name, Number of salaries, Average salary, Min salary, Max Salary.\n",
    "The above task will be, done as shown in the below steps:\n",
    "1. First get the webpage https://www.ambitionbox.com/\n",
    "2. Click on the salaries option as shown in the image.\n",
    "3. After reaching to the following webpage, In place of “Search Job Profile” enters “Data Scientist” and\n",
    "then click on “Data Scientist”.\n",
    "4. Scrape the data for the first 10 companies. Scrape the company name, total salary record, average\n",
    "salary, minimum salary, maximum salary, experience required.\n",
    "5. Store the data in a dataframe."
   ]
  },
  {
   "cell_type": "code",
   "execution_count": null,
   "id": "79a3c9d1",
   "metadata": {},
   "outputs": [],
   "source": []
  }
 ],
 "metadata": {
  "kernelspec": {
   "display_name": "Python 3",
   "language": "python",
   "name": "python3"
  },
  "language_info": {
   "codemirror_mode": {
    "name": "ipython",
    "version": 3
   },
   "file_extension": ".py",
   "mimetype": "text/x-python",
   "name": "python",
   "nbconvert_exporter": "python",
   "pygments_lexer": "ipython3",
   "version": "3.8.8"
  }
 },
 "nbformat": 4,
 "nbformat_minor": 5
}
